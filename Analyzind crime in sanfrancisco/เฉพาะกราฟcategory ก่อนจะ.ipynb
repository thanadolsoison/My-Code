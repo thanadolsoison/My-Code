{
  "nbformat": 4,
  "nbformat_minor": 0,
  "metadata": {
    "colab": {
      "name": "CrimeClassificationเฉพาะกราฟcategory.ipynb",
      "provenance": [],
      "collapsed_sections": [],
      "toc_visible": true
    },
    "kernelspec": {
      "name": "python3",
      "display_name": "Python 3"
    }
  },
  "cells": [
    {
      "cell_type": "code",
      "metadata": {
        "id": "y_1Zme6LbzlA",
        "colab_type": "code",
        "colab": {}
      },
      "source": [
        "import pandas as pd\n",
        "import numpy as np\n",
        "import matplotlib.pyplot as plt\n",
        "import seaborn as sns"
      ],
      "execution_count": 0,
      "outputs": []
    },
    {
      "cell_type": "code",
      "metadata": {
        "id": "lnJB_GfBdUXw",
        "colab_type": "code",
        "colab": {}
      },
      "source": [
        "df = pd.read_csv(\"/content/drive/My Drive/Police_Department_Incidents_-_Previous_Year__2016_.csv\",dtype={'IncidntNum':'str','PdId':'str'})"
      ],
      "execution_count": 0,
      "outputs": []
    },
    {
      "cell_type": "code",
      "metadata": {
        "id": "yMBDb6ucKNHK",
        "colab_type": "code",
        "outputId": "6fd14455-0692-4a75-a49f-e73f44e15366",
        "colab": {
          "base_uri": "https://localhost:8080/",
          "height": 34
        }
      },
      "source": [
        "from google.colab import drive\n",
        "drive.mount('/content/drive')"
      ],
      "execution_count": 0,
      "outputs": [
        {
          "output_type": "stream",
          "text": [
            "Drive already mounted at /content/drive; to attempt to forcibly remount, call drive.mount(\"/content/drive\", force_remount=True).\n"
          ],
          "name": "stdout"
        }
      ]
    },
    {
      "cell_type": "code",
      "metadata": {
        "id": "MFXjUaJGjCzw",
        "colab_type": "code",
        "outputId": "06609e8c-f2c0-4d86-ad32-faae80c213ed",
        "colab": {
          "base_uri": "https://localhost:8080/",
          "height": 589
        }
      },
      "source": [
        ""
      ],
      "execution_count": 0,
      "outputs": [
        {
          "output_type": "execute_result",
          "data": {
            "text/html": [
              "<div>\n",
              "<style scoped>\n",
              "    .dataframe tbody tr th:only-of-type {\n",
              "        vertical-align: middle;\n",
              "    }\n",
              "\n",
              "    .dataframe tbody tr th {\n",
              "        vertical-align: top;\n",
              "    }\n",
              "\n",
              "    .dataframe thead th {\n",
              "        text-align: right;\n",
              "    }\n",
              "</style>\n",
              "<table border=\"1\" class=\"dataframe\">\n",
              "  <thead>\n",
              "    <tr style=\"text-align: right;\">\n",
              "      <th></th>\n",
              "      <th>IncidntNum</th>\n",
              "      <th>Category</th>\n",
              "      <th>Descript</th>\n",
              "      <th>DayOfWeek</th>\n",
              "      <th>Date</th>\n",
              "      <th>Time</th>\n",
              "      <th>PdDistrict</th>\n",
              "      <th>Resolution</th>\n",
              "      <th>Address</th>\n",
              "      <th>X</th>\n",
              "      <th>Y</th>\n",
              "      <th>Location</th>\n",
              "      <th>PdId</th>\n",
              "    </tr>\n",
              "  </thead>\n",
              "  <tbody>\n",
              "    <tr>\n",
              "      <th>0</th>\n",
              "      <td>120058272</td>\n",
              "      <td>WEAPON LAWS</td>\n",
              "      <td>POSS OF PROHIBITED WEAPON</td>\n",
              "      <td>Friday</td>\n",
              "      <td>01/29/2016 12:00:00 AM</td>\n",
              "      <td>11:00</td>\n",
              "      <td>SOUTHERN</td>\n",
              "      <td>ARREST, BOOKED</td>\n",
              "      <td>800 Block of BRYANT ST</td>\n",
              "      <td>-122.403405</td>\n",
              "      <td>37.775421</td>\n",
              "      <td>(37.775420706711, -122.403404791479)</td>\n",
              "      <td>1.20058E+13</td>\n",
              "    </tr>\n",
              "    <tr>\n",
              "      <th>1</th>\n",
              "      <td>120058272</td>\n",
              "      <td>WEAPON LAWS</td>\n",
              "      <td>FIREARM, LOADED, IN VEHICLE, POSSESSION OR USE</td>\n",
              "      <td>Friday</td>\n",
              "      <td>01/29/2016 12:00:00 AM</td>\n",
              "      <td>11:00</td>\n",
              "      <td>SOUTHERN</td>\n",
              "      <td>ARREST, BOOKED</td>\n",
              "      <td>800 Block of BRYANT ST</td>\n",
              "      <td>-122.403405</td>\n",
              "      <td>37.775421</td>\n",
              "      <td>(37.775420706711, -122.403404791479)</td>\n",
              "      <td>1.20058E+13</td>\n",
              "    </tr>\n",
              "    <tr>\n",
              "      <th>2</th>\n",
              "      <td>141059263</td>\n",
              "      <td>WARRANTS</td>\n",
              "      <td>WARRANT ARREST</td>\n",
              "      <td>Monday</td>\n",
              "      <td>04/25/2016 12:00:00 AM</td>\n",
              "      <td>14:59</td>\n",
              "      <td>BAYVIEW</td>\n",
              "      <td>ARREST, BOOKED</td>\n",
              "      <td>KEITH ST / SHAFTER AV</td>\n",
              "      <td>-122.388856</td>\n",
              "      <td>37.729981</td>\n",
              "      <td>(37.7299809672996, -122.388856204292)</td>\n",
              "      <td>1.41059E+13</td>\n",
              "    </tr>\n",
              "    <tr>\n",
              "      <th>3</th>\n",
              "      <td>160013662</td>\n",
              "      <td>NON-CRIMINAL</td>\n",
              "      <td>LOST PROPERTY</td>\n",
              "      <td>Tuesday</td>\n",
              "      <td>1/5/2016 0:00</td>\n",
              "      <td>23:50</td>\n",
              "      <td>TENDERLOIN</td>\n",
              "      <td>NONE</td>\n",
              "      <td>JONES ST / OFARRELL ST</td>\n",
              "      <td>-122.412971</td>\n",
              "      <td>37.785788</td>\n",
              "      <td>(37.7857883766888, -122.412970537591)</td>\n",
              "      <td>1.60014E+13</td>\n",
              "    </tr>\n",
              "    <tr>\n",
              "      <th>4</th>\n",
              "      <td>160002740</td>\n",
              "      <td>NON-CRIMINAL</td>\n",
              "      <td>LOST PROPERTY</td>\n",
              "      <td>Friday</td>\n",
              "      <td>1/1/2016 0:00</td>\n",
              "      <td>0:30</td>\n",
              "      <td>MISSION</td>\n",
              "      <td>NONE</td>\n",
              "      <td>16TH ST / MISSION ST</td>\n",
              "      <td>-122.419672</td>\n",
              "      <td>37.765050</td>\n",
              "      <td>(37.7650501214668, -122.419671780296)</td>\n",
              "      <td>1.60003E+13</td>\n",
              "    </tr>\n",
              "    <tr>\n",
              "      <th>...</th>\n",
              "      <td>...</td>\n",
              "      <td>...</td>\n",
              "      <td>...</td>\n",
              "      <td>...</td>\n",
              "      <td>...</td>\n",
              "      <td>...</td>\n",
              "      <td>...</td>\n",
              "      <td>...</td>\n",
              "      <td>...</td>\n",
              "      <td>...</td>\n",
              "      <td>...</td>\n",
              "      <td>...</td>\n",
              "      <td>...</td>\n",
              "    </tr>\n",
              "    <tr>\n",
              "      <th>150495</th>\n",
              "      <td>161061000</td>\n",
              "      <td>ASSAULT</td>\n",
              "      <td>BATTERY</td>\n",
              "      <td>Friday</td>\n",
              "      <td>12/30/2016 12:00:00 AM</td>\n",
              "      <td>21:01</td>\n",
              "      <td>PARK</td>\n",
              "      <td>NONE</td>\n",
              "      <td>OAK ST / STANYAN ST</td>\n",
              "      <td>-122.453982</td>\n",
              "      <td>37.771428</td>\n",
              "      <td>(37.7714278595913, -122.453981622365)</td>\n",
              "      <td>1.61061E+13</td>\n",
              "    </tr>\n",
              "    <tr>\n",
              "      <th>150496</th>\n",
              "      <td>176000742</td>\n",
              "      <td>NON-CRIMINAL</td>\n",
              "      <td>LOST PROPERTY</td>\n",
              "      <td>Friday</td>\n",
              "      <td>12/30/2016 12:00:00 AM</td>\n",
              "      <td>8:00</td>\n",
              "      <td>CENTRAL</td>\n",
              "      <td>NONE</td>\n",
              "      <td>JACKSON ST / SANSOME ST</td>\n",
              "      <td>-122.401857</td>\n",
              "      <td>37.796626</td>\n",
              "      <td>(37.7966261239618, -122.401857374739)</td>\n",
              "      <td>1.76001E+13</td>\n",
              "    </tr>\n",
              "    <tr>\n",
              "      <th>150497</th>\n",
              "      <td>176000758</td>\n",
              "      <td>LARCENY/THEFT</td>\n",
              "      <td>PETTY THEFT OF PROPERTY</td>\n",
              "      <td>Thursday</td>\n",
              "      <td>12/29/2016 12:00:00 AM</td>\n",
              "      <td>20:00</td>\n",
              "      <td>CENTRAL</td>\n",
              "      <td>NONE</td>\n",
              "      <td>PINE ST / TAYLOR ST</td>\n",
              "      <td>-122.412269</td>\n",
              "      <td>37.790673</td>\n",
              "      <td>(37.7906727649886, -122.41226909106)</td>\n",
              "      <td>1.76001E+13</td>\n",
              "    </tr>\n",
              "    <tr>\n",
              "      <th>150498</th>\n",
              "      <td>176000764</td>\n",
              "      <td>LARCENY/THEFT</td>\n",
              "      <td>GRAND THEFT OF PROPERTY</td>\n",
              "      <td>Friday</td>\n",
              "      <td>12/30/2016 12:00:00 AM</td>\n",
              "      <td>10:00</td>\n",
              "      <td>CENTRAL</td>\n",
              "      <td>NONE</td>\n",
              "      <td>200 Block of STOCKTON ST</td>\n",
              "      <td>-122.406659</td>\n",
              "      <td>37.788275</td>\n",
              "      <td>(37.7882745285785, -122.406658711008)</td>\n",
              "      <td>1.76001E+13</td>\n",
              "    </tr>\n",
              "    <tr>\n",
              "      <th>150499</th>\n",
              "      <td>179002868</td>\n",
              "      <td>OTHER OFFENSES</td>\n",
              "      <td>FRAUDULENT GAME OR TRICK, OBTAINING MONEY OR P...</td>\n",
              "      <td>Friday</td>\n",
              "      <td>12/2/2016 0:00</td>\n",
              "      <td>14:00</td>\n",
              "      <td>SOUTHERN</td>\n",
              "      <td>NONE</td>\n",
              "      <td>800 Block of BRYANT ST</td>\n",
              "      <td>-122.403405</td>\n",
              "      <td>37.775421</td>\n",
              "      <td>(37.775420706711, -122.403404791479)</td>\n",
              "      <td>1.79003E+13</td>\n",
              "    </tr>\n",
              "  </tbody>\n",
              "</table>\n",
              "<p>150499 rows × 13 columns</p>\n",
              "</div>"
            ],
            "text/plain": [
              "       IncidntNum  ...         PdId\n",
              "0       120058272  ...  1.20058E+13\n",
              "1       120058272  ...  1.20058E+13\n",
              "2       141059263  ...  1.41059E+13\n",
              "3       160013662  ...  1.60014E+13\n",
              "4       160002740  ...  1.60003E+13\n",
              "...           ...  ...          ...\n",
              "150495  161061000  ...  1.61061E+13\n",
              "150496  176000742  ...  1.76001E+13\n",
              "150497  176000758  ...  1.76001E+13\n",
              "150498  176000764  ...  1.76001E+13\n",
              "150499  179002868  ...  1.79003E+13\n",
              "\n",
              "[150499 rows x 13 columns]"
            ]
          },
          "metadata": {
            "tags": []
          },
          "execution_count": 122
        }
      ]
    },
    {
      "cell_type": "code",
      "metadata": {
        "id": "XSyEJ68Sda91",
        "colab_type": "code",
        "outputId": "1ec81bf4-7d8f-4f40-e4da-423d9f5f02ad",
        "colab": {
          "base_uri": "https://localhost:8080/",
          "height": 289
        }
      },
      "source": [
        "df.head()"
      ],
      "execution_count": 0,
      "outputs": [
        {
          "output_type": "execute_result",
          "data": {
            "text/html": [
              "<div>\n",
              "<style scoped>\n",
              "    .dataframe tbody tr th:only-of-type {\n",
              "        vertical-align: middle;\n",
              "    }\n",
              "\n",
              "    .dataframe tbody tr th {\n",
              "        vertical-align: top;\n",
              "    }\n",
              "\n",
              "    .dataframe thead th {\n",
              "        text-align: right;\n",
              "    }\n",
              "</style>\n",
              "<table border=\"1\" class=\"dataframe\">\n",
              "  <thead>\n",
              "    <tr style=\"text-align: right;\">\n",
              "      <th></th>\n",
              "      <th>IncidntNum</th>\n",
              "      <th>Category</th>\n",
              "      <th>Descript</th>\n",
              "      <th>DayOfWeek</th>\n",
              "      <th>Date</th>\n",
              "      <th>Time</th>\n",
              "      <th>PdDistrict</th>\n",
              "      <th>Resolution</th>\n",
              "      <th>Address</th>\n",
              "      <th>X</th>\n",
              "      <th>Y</th>\n",
              "      <th>Location</th>\n",
              "      <th>PdId</th>\n",
              "    </tr>\n",
              "  </thead>\n",
              "  <tbody>\n",
              "    <tr>\n",
              "      <th>0</th>\n",
              "      <td>120058272</td>\n",
              "      <td>WEAPON LAWS</td>\n",
              "      <td>POSS OF PROHIBITED WEAPON</td>\n",
              "      <td>Friday</td>\n",
              "      <td>01/29/2016 12:00:00 AM</td>\n",
              "      <td>11:00</td>\n",
              "      <td>SOUTHERN</td>\n",
              "      <td>ARREST, BOOKED</td>\n",
              "      <td>800 Block of BRYANT ST</td>\n",
              "      <td>-122.403405</td>\n",
              "      <td>37.775421</td>\n",
              "      <td>(37.775420706711, -122.403404791479)</td>\n",
              "      <td>1.20058E+13</td>\n",
              "    </tr>\n",
              "    <tr>\n",
              "      <th>1</th>\n",
              "      <td>120058272</td>\n",
              "      <td>WEAPON LAWS</td>\n",
              "      <td>FIREARM, LOADED, IN VEHICLE, POSSESSION OR USE</td>\n",
              "      <td>Friday</td>\n",
              "      <td>01/29/2016 12:00:00 AM</td>\n",
              "      <td>11:00</td>\n",
              "      <td>SOUTHERN</td>\n",
              "      <td>ARREST, BOOKED</td>\n",
              "      <td>800 Block of BRYANT ST</td>\n",
              "      <td>-122.403405</td>\n",
              "      <td>37.775421</td>\n",
              "      <td>(37.775420706711, -122.403404791479)</td>\n",
              "      <td>1.20058E+13</td>\n",
              "    </tr>\n",
              "    <tr>\n",
              "      <th>2</th>\n",
              "      <td>141059263</td>\n",
              "      <td>WARRANTS</td>\n",
              "      <td>WARRANT ARREST</td>\n",
              "      <td>Monday</td>\n",
              "      <td>04/25/2016 12:00:00 AM</td>\n",
              "      <td>14:59</td>\n",
              "      <td>BAYVIEW</td>\n",
              "      <td>ARREST, BOOKED</td>\n",
              "      <td>KEITH ST / SHAFTER AV</td>\n",
              "      <td>-122.388856</td>\n",
              "      <td>37.729981</td>\n",
              "      <td>(37.7299809672996, -122.388856204292)</td>\n",
              "      <td>1.41059E+13</td>\n",
              "    </tr>\n",
              "    <tr>\n",
              "      <th>3</th>\n",
              "      <td>160013662</td>\n",
              "      <td>NON-CRIMINAL</td>\n",
              "      <td>LOST PROPERTY</td>\n",
              "      <td>Tuesday</td>\n",
              "      <td>1/5/2016 0:00</td>\n",
              "      <td>23:50</td>\n",
              "      <td>TENDERLOIN</td>\n",
              "      <td>NONE</td>\n",
              "      <td>JONES ST / OFARRELL ST</td>\n",
              "      <td>-122.412971</td>\n",
              "      <td>37.785788</td>\n",
              "      <td>(37.7857883766888, -122.412970537591)</td>\n",
              "      <td>1.60014E+13</td>\n",
              "    </tr>\n",
              "    <tr>\n",
              "      <th>4</th>\n",
              "      <td>160002740</td>\n",
              "      <td>NON-CRIMINAL</td>\n",
              "      <td>LOST PROPERTY</td>\n",
              "      <td>Friday</td>\n",
              "      <td>1/1/2016 0:00</td>\n",
              "      <td>0:30</td>\n",
              "      <td>MISSION</td>\n",
              "      <td>NONE</td>\n",
              "      <td>16TH ST / MISSION ST</td>\n",
              "      <td>-122.419672</td>\n",
              "      <td>37.765050</td>\n",
              "      <td>(37.7650501214668, -122.419671780296)</td>\n",
              "      <td>1.60003E+13</td>\n",
              "    </tr>\n",
              "  </tbody>\n",
              "</table>\n",
              "</div>"
            ],
            "text/plain": [
              "  IncidntNum      Category  ...                               Location         PdId\n",
              "0  120058272   WEAPON LAWS  ...   (37.775420706711, -122.403404791479)  1.20058E+13\n",
              "1  120058272   WEAPON LAWS  ...   (37.775420706711, -122.403404791479)  1.20058E+13\n",
              "2  141059263      WARRANTS  ...  (37.7299809672996, -122.388856204292)  1.41059E+13\n",
              "3  160013662  NON-CRIMINAL  ...  (37.7857883766888, -122.412970537591)  1.60014E+13\n",
              "4  160002740  NON-CRIMINAL  ...  (37.7650501214668, -122.419671780296)  1.60003E+13\n",
              "\n",
              "[5 rows x 13 columns]"
            ]
          },
          "metadata": {
            "tags": []
          },
          "execution_count": 101
        }
      ]
    },
    {
      "cell_type": "code",
      "metadata": {
        "id": "e0a1ZsKAgDP8",
        "colab_type": "code",
        "outputId": "70c603f4-c2e7-4097-a273-2355a7b91a37",
        "colab": {
          "base_uri": "https://localhost:8080/",
          "height": 357
        }
      },
      "source": [
        "df.info()"
      ],
      "execution_count": 0,
      "outputs": [
        {
          "output_type": "stream",
          "text": [
            "<class 'pandas.core.frame.DataFrame'>\n",
            "Int64Index: 150499 entries, 0 to 150499\n",
            "Data columns (total 13 columns):\n",
            " #   Column      Non-Null Count   Dtype  \n",
            "---  ------      --------------   -----  \n",
            " 0   IncidntNum  150499 non-null  object \n",
            " 1   Category    150499 non-null  object \n",
            " 2   Descript    150499 non-null  object \n",
            " 3   DayOfWeek   150499 non-null  object \n",
            " 4   Date        150499 non-null  object \n",
            " 5   Time        150499 non-null  object \n",
            " 6   PdDistrict  150499 non-null  object \n",
            " 7   Resolution  150499 non-null  object \n",
            " 8   Address     150499 non-null  object \n",
            " 9   X           150499 non-null  float64\n",
            " 10  Y           150499 non-null  float64\n",
            " 11  Location    150499 non-null  object \n",
            " 12  PdId        150499 non-null  object \n",
            "dtypes: float64(2), object(11)\n",
            "memory usage: 16.1+ MB\n"
          ],
          "name": "stdout"
        }
      ]
    },
    {
      "cell_type": "code",
      "metadata": {
        "id": "OueNPGqLdq7m",
        "colab_type": "code",
        "outputId": "dfbed911-d78c-42f3-deee-f33c7eec99b3",
        "colab": {
          "base_uri": "https://localhost:8080/",
          "height": 34
        }
      },
      "source": [
        "df.shape"
      ],
      "execution_count": 0,
      "outputs": [
        {
          "output_type": "execute_result",
          "data": {
            "text/plain": [
              "(150500, 13)"
            ]
          },
          "metadata": {
            "tags": []
          },
          "execution_count": 27
        }
      ]
    },
    {
      "cell_type": "code",
      "metadata": {
        "id": "F63cCRubRTyg",
        "colab_type": "code",
        "outputId": "3e75809b-4096-4045-d78c-918700a4ef58",
        "colab": {
          "base_uri": "https://localhost:8080/",
          "height": 255
        }
      },
      "source": [
        "print(df.isnull().sum()) #เช็คข้อมูลว่ามีค่าnullหรือไม่"
      ],
      "execution_count": 0,
      "outputs": [
        {
          "output_type": "stream",
          "text": [
            "IncidntNum    0\n",
            "Category      0\n",
            "Descript      0\n",
            "DayOfWeek     0\n",
            "Date          0\n",
            "Time          0\n",
            "PdDistrict    0\n",
            "Resolution    0\n",
            "Address       0\n",
            "X             0\n",
            "Y             0\n",
            "Location      0\n",
            "PdId          0\n",
            "dtype: int64\n"
          ],
          "name": "stdout"
        }
      ]
    },
    {
      "cell_type": "code",
      "metadata": {
        "id": "7p_G3xnAeSS9",
        "colab_type": "code",
        "outputId": "e79b1122-52c3-44b8-ce9b-aa76f73e729f",
        "colab": {
          "base_uri": "https://localhost:8080/",
          "height": 69
        }
      },
      "source": [
        "df[df['PdDistrict'].isna()]"
      ],
      "execution_count": 0,
      "outputs": [
        {
          "output_type": "execute_result",
          "data": {
            "text/html": [
              "<div>\n",
              "<style scoped>\n",
              "    .dataframe tbody tr th:only-of-type {\n",
              "        vertical-align: middle;\n",
              "    }\n",
              "\n",
              "    .dataframe tbody tr th {\n",
              "        vertical-align: top;\n",
              "    }\n",
              "\n",
              "    .dataframe thead th {\n",
              "        text-align: right;\n",
              "    }\n",
              "</style>\n",
              "<table border=\"1\" class=\"dataframe\">\n",
              "  <thead>\n",
              "    <tr style=\"text-align: right;\">\n",
              "      <th></th>\n",
              "      <th>IncidntNum</th>\n",
              "      <th>Category</th>\n",
              "      <th>Descript</th>\n",
              "      <th>DayOfWeek</th>\n",
              "      <th>Date</th>\n",
              "      <th>Time</th>\n",
              "      <th>PdDistrict</th>\n",
              "      <th>Resolution</th>\n",
              "      <th>Address</th>\n",
              "      <th>X</th>\n",
              "      <th>Y</th>\n",
              "      <th>Location</th>\n",
              "      <th>PdId</th>\n",
              "    </tr>\n",
              "  </thead>\n",
              "  <tbody>\n",
              "  </tbody>\n",
              "</table>\n",
              "</div>"
            ],
            "text/plain": [
              "Empty DataFrame\n",
              "Columns: [IncidntNum, Category, Descript, DayOfWeek, Date, Time, PdDistrict, Resolution, Address, X, Y, Location, PdId]\n",
              "Index: []"
            ]
          },
          "metadata": {
            "tags": []
          },
          "execution_count": 115
        }
      ]
    },
    {
      "cell_type": "code",
      "metadata": {
        "id": "sEwuk8XThZ8E",
        "colab_type": "code",
        "outputId": "b750a0a5-4d63-4ba0-9fa6-2bdb842576ab",
        "colab": {
          "base_uri": "https://localhost:8080/",
          "height": 255
        }
      },
      "source": [
        "df.nunique()"
      ],
      "execution_count": 0,
      "outputs": [
        {
          "output_type": "execute_result",
          "data": {
            "text/plain": [
              "IncidntNum    116698\n",
              "Category          39\n",
              "Descript         726\n",
              "DayOfWeek          7\n",
              "Date             366\n",
              "Time            1439\n",
              "PdDistrict        10\n",
              "Resolution        14\n",
              "Address        16129\n",
              "X              18970\n",
              "Y              19127\n",
              "Location       19385\n",
              "PdId            1909\n",
              "dtype: int64"
            ]
          },
          "metadata": {
            "tags": []
          },
          "execution_count": 116
        }
      ]
    },
    {
      "cell_type": "code",
      "metadata": {
        "id": "_iG5PqUouJ63",
        "colab_type": "code",
        "colab": {}
      },
      "source": [
        ""
      ],
      "execution_count": 0,
      "outputs": []
    },
    {
      "cell_type": "markdown",
      "metadata": {
        "id": "QSh23dpOmB-a",
        "colab_type": "text"
      },
      "source": [
        "# **Data Exploration**"
      ]
    },
    {
      "cell_type": "code",
      "metadata": {
        "id": "9sx7kcm9jpf1",
        "colab_type": "code",
        "colab": {}
      },
      "source": [
        "def cat_plot(df,col,color='salmon'):\n",
        "  df_plt = df[col].value_counts().reset_index()\n",
        "  df_plt.columns = [col,'count']\n",
        "  plt.figure(figsize=(20,10))\n",
        "  ax = sns.barplot(x=col,y='count',data=df_plt, color=color)\n",
        "  ax.set_xticklabels(ax.get_xticklabels(),rotation=90)\n",
        "  plt.show()"
      ],
      "execution_count": 0,
      "outputs": []
    },
    {
      "cell_type": "code",
      "metadata": {
        "id": "R5bG8uq5nz9s",
        "colab_type": "code",
        "outputId": "208b65c8-04bb-46f8-a690-99bb3548e114",
        "colab": {
          "base_uri": "https://localhost:8080/",
          "height": 432
        }
      },
      "source": [
        "cat_plot(df_dropdup,'Category') #ร้านข้างล่างก่อน"
      ],
      "execution_count": 0,
      "outputs": [
        {
          "output_type": "display_data",
          "data": {
            "image/png": "[encoded data removed]",
            "text/plain": [
              "<Figure size 1440x720 with 1 Axes>"
            ]
          },
          "metadata": {
            "tags": [],
            "needs_background": "light"
          }
        }
      ]
    },
    {
      "cell_type": "markdown",
      "metadata": {
        "id": "wrDvwqPApiVs",
        "colab_type": "text"
      },
      "source": [
        "## **Data Preparation**"
      ]
    },
    {
      "cell_type": "markdown",
      "metadata": {
        "id": "zcLvrjPNEZCu",
        "colab_type": "text"
      },
      "source": [
        "### missing data"
      ]
    },
    {
      "cell_type": "code",
      "metadata": {
        "id": "0s4DD62KSPtL",
        "colab_type": "code",
        "colab": {}
      },
      "source": [
        "df = df.loc[~df['PdDistrict'].isna()] #เอาค่าnanออก"
      ],
      "execution_count": 0,
      "outputs": []
    },
    {
      "cell_type": "code",
      "metadata": {
        "id": "EJZQbAnXtZcy",
        "colab_type": "code",
        "outputId": "79bfc40e-2fb1-46a2-ce32-98e822468de7",
        "colab": {
          "base_uri": "https://localhost:8080/",
          "height": 289
        }
      },
      "source": [
        "df.head()"
      ],
      "execution_count": 0,
      "outputs": [
        {
          "output_type": "execute_result",
          "data": {
            "text/html": [
              "<div>\n",
              "<style scoped>\n",
              "    .dataframe tbody tr th:only-of-type {\n",
              "        vertical-align: middle;\n",
              "    }\n",
              "\n",
              "    .dataframe tbody tr th {\n",
              "        vertical-align: top;\n",
              "    }\n",
              "\n",
              "    .dataframe thead th {\n",
              "        text-align: right;\n",
              "    }\n",
              "</style>\n",
              "<table border=\"1\" class=\"dataframe\">\n",
              "  <thead>\n",
              "    <tr style=\"text-align: right;\">\n",
              "      <th></th>\n",
              "      <th>IncidntNum</th>\n",
              "      <th>Category</th>\n",
              "      <th>Descript</th>\n",
              "      <th>DayOfWeek</th>\n",
              "      <th>Date</th>\n",
              "      <th>Time</th>\n",
              "      <th>PdDistrict</th>\n",
              "      <th>Resolution</th>\n",
              "      <th>Address</th>\n",
              "      <th>X</th>\n",
              "      <th>Y</th>\n",
              "      <th>Location</th>\n",
              "      <th>PdId</th>\n",
              "    </tr>\n",
              "  </thead>\n",
              "  <tbody>\n",
              "    <tr>\n",
              "      <th>0</th>\n",
              "      <td>120058272</td>\n",
              "      <td>WEAPON LAWS</td>\n",
              "      <td>POSS OF PROHIBITED WEAPON</td>\n",
              "      <td>Friday</td>\n",
              "      <td>01/29/2016 12:00:00 AM</td>\n",
              "      <td>11:00</td>\n",
              "      <td>SOUTHERN</td>\n",
              "      <td>ARREST, BOOKED</td>\n",
              "      <td>800 Block of BRYANT ST</td>\n",
              "      <td>-122.403405</td>\n",
              "      <td>37.775421</td>\n",
              "      <td>(37.775420706711, -122.403404791479)</td>\n",
              "      <td>1.20058E+13</td>\n",
              "    </tr>\n",
              "    <tr>\n",
              "      <th>1</th>\n",
              "      <td>120058272</td>\n",
              "      <td>WEAPON LAWS</td>\n",
              "      <td>FIREARM, LOADED, IN VEHICLE, POSSESSION OR USE</td>\n",
              "      <td>Friday</td>\n",
              "      <td>01/29/2016 12:00:00 AM</td>\n",
              "      <td>11:00</td>\n",
              "      <td>SOUTHERN</td>\n",
              "      <td>ARREST, BOOKED</td>\n",
              "      <td>800 Block of BRYANT ST</td>\n",
              "      <td>-122.403405</td>\n",
              "      <td>37.775421</td>\n",
              "      <td>(37.775420706711, -122.403404791479)</td>\n",
              "      <td>1.20058E+13</td>\n",
              "    </tr>\n",
              "    <tr>\n",
              "      <th>2</th>\n",
              "      <td>141059263</td>\n",
              "      <td>WARRANTS</td>\n",
              "      <td>WARRANT ARREST</td>\n",
              "      <td>Monday</td>\n",
              "      <td>04/25/2016 12:00:00 AM</td>\n",
              "      <td>14:59</td>\n",
              "      <td>BAYVIEW</td>\n",
              "      <td>ARREST, BOOKED</td>\n",
              "      <td>KEITH ST / SHAFTER AV</td>\n",
              "      <td>-122.388856</td>\n",
              "      <td>37.729981</td>\n",
              "      <td>(37.7299809672996, -122.388856204292)</td>\n",
              "      <td>1.41059E+13</td>\n",
              "    </tr>\n",
              "    <tr>\n",
              "      <th>3</th>\n",
              "      <td>160013662</td>\n",
              "      <td>NON-CRIMINAL</td>\n",
              "      <td>LOST PROPERTY</td>\n",
              "      <td>Tuesday</td>\n",
              "      <td>1/5/2016 0:00</td>\n",
              "      <td>23:50</td>\n",
              "      <td>TENDERLOIN</td>\n",
              "      <td>NONE</td>\n",
              "      <td>JONES ST / OFARRELL ST</td>\n",
              "      <td>-122.412971</td>\n",
              "      <td>37.785788</td>\n",
              "      <td>(37.7857883766888, -122.412970537591)</td>\n",
              "      <td>1.60014E+13</td>\n",
              "    </tr>\n",
              "    <tr>\n",
              "      <th>4</th>\n",
              "      <td>160002740</td>\n",
              "      <td>NON-CRIMINAL</td>\n",
              "      <td>LOST PROPERTY</td>\n",
              "      <td>Friday</td>\n",
              "      <td>1/1/2016 0:00</td>\n",
              "      <td>0:30</td>\n",
              "      <td>MISSION</td>\n",
              "      <td>NONE</td>\n",
              "      <td>16TH ST / MISSION ST</td>\n",
              "      <td>-122.419672</td>\n",
              "      <td>37.765050</td>\n",
              "      <td>(37.7650501214668, -122.419671780296)</td>\n",
              "      <td>1.60003E+13</td>\n",
              "    </tr>\n",
              "  </tbody>\n",
              "</table>\n",
              "</div>"
            ],
            "text/plain": [
              "  IncidntNum      Category  ...                               Location         PdId\n",
              "0  120058272   WEAPON LAWS  ...   (37.775420706711, -122.403404791479)  1.20058E+13\n",
              "1  120058272   WEAPON LAWS  ...   (37.775420706711, -122.403404791479)  1.20058E+13\n",
              "2  141059263      WARRANTS  ...  (37.7299809672996, -122.388856204292)  1.41059E+13\n",
              "3  160013662  NON-CRIMINAL  ...  (37.7857883766888, -122.412970537591)  1.60014E+13\n",
              "4  160002740  NON-CRIMINAL  ...  (37.7650501214668, -122.419671780296)  1.60003E+13\n",
              "\n",
              "[5 rows x 13 columns]"
            ]
          },
          "metadata": {
            "tags": []
          },
          "execution_count": 114
        }
      ]
    },
    {
      "cell_type": "code",
      "metadata": {
        "id": "b5JyBsxYt2KD",
        "colab_type": "code",
        "colab": {}
      },
      "source": [
        "omit = ['Descript'] #ไม่เอาคอลัม\n",
        "df_dropdup = df[[col for col in df.columns if col not in omit]].drop_duplicates() #เอาทุกคอลัมยกเว้นคอลัมที่อยู่ในomit และเอาค่าที่ไม่ซ้ำ"
      ],
      "execution_count": 0,
      "outputs": []
    }
  ]
}