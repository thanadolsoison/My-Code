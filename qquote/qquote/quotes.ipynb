{
 "cells": [
  {
   "cell_type": "markdown",
   "metadata": {},
   "source": [
    "# Assignment 2 - DS4Biz Y63\n",
    "## TextScraping_Classification\n",
    "***\n",
    "\n",
    "### Team Detail\n",
    "**Team Name**: BBGUN   \n",
    "***\n",
    "### *Student 1*\n",
    "**Student ID**: 61070297   \n",
    "\n",
    "**Student Full Name**: นายธนดล สร้อยสน\n",
    "***\n",
    "### *Student 2*\n",
    "**Student ID**: 61070300\n",
    "\n",
    "**Student Full Name**: นางสาวธัญลักษณ์ โชติรัตนเดชเดโช\n",
    "***"
   ]
  },
  {
   "cell_type": "markdown",
   "metadata": {},
   "source": [
    "URL : https://quotes.toscrape.com/"
   ]
  },
  {
   "cell_type": "code",
   "execution_count": 2,
   "metadata": {},
   "outputs": [],
   "source": [
    "import pandas as pd"
   ]
  },
  {
   "cell_type": "markdown",
   "metadata": {},
   "source": [
    "Requests"
   ]
  },
  {
   "cell_type": "code",
   "execution_count": 3,
   "metadata": {},
   "outputs": [
    {
     "name": "stdout",
     "output_type": "stream",
     "text": [
      "<!DOCTYPE html>\n",
      "<html lang=\"en\">\n",
      "<head>\n",
      "\t<meta charset=\"UTF-8\">\n",
      "\t<title>Quotes to Scrape</title>\n",
      "    <link rel=\"stylesheet\" href=\"/static/bootstrap.min.css\">\n",
      "    <link rel=\"stylesheet\" href=\"/static/main.css\">\n",
      "</head>\n",
      "<body>\n",
      "    <div class=\"container\">\n",
      "        <div class=\"row header-box\">\n",
      "            <div class=\"col-md-8\">\n",
      "                <h1>\n",
      "                    <a href=\"/\" style=\"text-decoration: none\">Quotes to Scrape</a>\n",
      "                </h1>\n",
      "            </div>\n",
      "            <div class=\"col-md-4\">\n",
      "                <p>\n",
      "                \n",
      "                    <a href=\"/login\">Login</a>\n",
      "                \n",
      "                </p>\n",
      "            </div>\n",
      "        </div>\n",
      "    \n",
      "\n",
      "<div class=\"row\">\n",
      "    <div class=\"col-md-8\">\n",
      "\n",
      "    <div class=\"quote\" itemscope itemtype=\"http://schema.org/CreativeWork\">\n",
      "        <span class=\"text\" itemprop=\"text\">“The world as we have created it is a process of our thinking. It cannot be changed without changing our thinking.”</span>\n",
      "        <span>by <small class=\"author\" itemprop=\"author\">Albert Einstein</small>\n",
      "        <a href=\"/author/Albert-Einstein\">(about)</a>\n",
      "        </span>\n",
      "        <div class=\"tags\">\n",
      "            Tags:\n",
      "            <meta class=\"keywords\" itemprop=\"keywords\" content=\"change,deep-thoughts,thinking,world\" /    > \n",
      "            \n",
      "            <a class=\"tag\" href=\"/tag/change/page/1/\">change</a>\n",
      "            \n",
      "            <a class=\"tag\" href=\"/tag/deep-thoughts/page/1/\">deep-thoughts</a>\n",
      "            \n",
      "            <a class=\"tag\" href=\"/tag/thinking/page/1/\">thinking</a>\n",
      "            \n",
      "            <a class=\"tag\" href=\"/tag/world/page/1/\">world</a>\n",
      "            \n",
      "        </div>\n",
      "    </div>\n",
      "\n",
      "    <div class=\"quote\" itemscope itemtype=\"http://schema.org/CreativeWork\">\n",
      "        <span class=\"text\" itemprop=\"text\">“It is our choices, Harry, that show what we truly are, far more than our abilities.”</span>\n",
      "        <span>by <small class=\"author\" itemprop=\"author\">J.K. Rowling</small>\n",
      "        <a href=\"/author/J-K-Rowling\">(about)</a>\n",
      "        </span>\n",
      "        <div class=\"tags\">\n",
      "            Tags:\n",
      "            <meta class=\"keywords\" itemprop=\"keywords\" content=\"abilities,choices\" /    > \n",
      "            \n",
      "            <a class=\"tag\" href=\"/tag/abilities/page/1/\">abilities</a>\n",
      "            \n",
      "            <a class=\"tag\" href=\"/tag/choices/page/1/\">choices</a>\n",
      "            \n",
      "        </div>\n",
      "    </div>\n",
      "\n",
      "    <div class=\"quote\" itemscope itemtype=\"http://schema.org/CreativeWork\">\n",
      "        <span class=\"text\" itemprop=\"text\">“There are only two ways to live your life. One is as though nothing is a miracle. The other is as though everything is a miracle.”</span>\n",
      "        <span>by <small class=\"author\" itemprop=\"author\">Albert Einstein</small>\n",
      "        <a href=\"/author/Albert-Einstein\">(about)</a>\n",
      "        </span>\n",
      "        <div class=\"tags\">\n",
      "            Tags:\n",
      "            <meta class=\"keywords\" itemprop=\"keywords\" content=\"inspirational,life,live,miracle,miracles\" /    > \n",
      "            \n",
      "            <a class=\"tag\" href=\"/tag/inspirational/page/1/\">inspirational</a>\n",
      "            \n",
      "            <a class=\"tag\" href=\"/tag/life/page/1/\">life</a>\n",
      "            \n",
      "            <a class=\"tag\" href=\"/tag/live/page/1/\">live</a>\n",
      "            \n",
      "            <a class=\"tag\" href=\"/tag/miracle/page/1/\">miracle</a>\n",
      "            \n",
      "            <a class=\"tag\" href=\"/tag/miracles/page/1/\">miracles</a>\n",
      "            \n",
      "        </div>\n",
      "    </div>\n",
      "\n",
      "    <div class=\"quote\" itemscope itemtype=\"http://schema.org/CreativeWork\">\n",
      "        <span class=\"text\" itemprop=\"text\">“The person, be it gentleman or lady, who has not pleasure in a good novel, must be intolerably stupid.”</span>\n",
      "        <span>by <small class=\"author\" itemprop=\"author\">Jane Austen</small>\n",
      "        <a href=\"/author/Jane-Austen\">(about)</a>\n",
      "        </span>\n",
      "        <div class=\"tags\">\n",
      "            Tags:\n",
      "            <meta class=\"keywords\" itemprop=\"keywords\" content=\"aliteracy,books,classic,humor\" /    > \n",
      "            \n",
      "            <a class=\"tag\" href=\"/tag/aliteracy/page/1/\">aliteracy</a>\n",
      "            \n",
      "            <a class=\"tag\" href=\"/tag/books/page/1/\">books</a>\n",
      "            \n",
      "            <a class=\"tag\" href=\"/tag/classic/page/1/\">classic</a>\n",
      "            \n",
      "            <a class=\"tag\" href=\"/tag/humor/page/1/\">humor</a>\n",
      "            \n",
      "        </div>\n",
      "    </div>\n",
      "\n",
      "    <div class=\"quote\" itemscope itemtype=\"http://schema.org/CreativeWork\">\n",
      "        <span class=\"text\" itemprop=\"text\">“Imperfection is beauty, madness is genius and it&#39;s better to be absolutely ridiculous than absolutely boring.”</span>\n",
      "        <span>by <small class=\"author\" itemprop=\"author\">Marilyn Monroe</small>\n",
      "        <a href=\"/author/Marilyn-Monroe\">(about)</a>\n",
      "        </span>\n",
      "        <div class=\"tags\">\n",
      "            Tags:\n",
      "            <meta class=\"keywords\" itemprop=\"keywords\" content=\"be-yourself,inspirational\" /    > \n",
      "            \n",
      "            <a class=\"tag\" href=\"/tag/be-yourself/page/1/\">be-yourself</a>\n",
      "            \n",
      "            <a class=\"tag\" href=\"/tag/inspirational/page/1/\">inspirational</a>\n",
      "            \n",
      "        </div>\n",
      "    </div>\n",
      "\n",
      "    <div class=\"quote\" itemscope itemtype=\"http://schema.org/CreativeWork\">\n",
      "        <span class=\"text\" itemprop=\"text\">“Try not to become a man of success. Rather become a man of value.”</span>\n",
      "        <span>by <small class=\"author\" itemprop=\"author\">Albert Einstein</small>\n",
      "        <a href=\"/author/Albert-Einstein\">(about)</a>\n",
      "        </span>\n",
      "        <div class=\"tags\">\n",
      "            Tags:\n",
      "            <meta class=\"keywords\" itemprop=\"keywords\" content=\"adulthood,success,value\" /    > \n",
      "            \n",
      "            <a class=\"tag\" href=\"/tag/adulthood/page/1/\">adulthood</a>\n",
      "            \n",
      "            <a class=\"tag\" href=\"/tag/success/page/1/\">success</a>\n",
      "            \n",
      "            <a class=\"tag\" href=\"/tag/value/page/1/\">value</a>\n",
      "            \n",
      "        </div>\n",
      "    </div>\n",
      "\n",
      "    <div class=\"quote\" itemscope itemtype=\"http://schema.org/CreativeWork\">\n",
      "        <span class=\"text\" itemprop=\"text\">“It is better to be hated for what you are than to be loved for what you are not.”</span>\n",
      "        <span>by <small class=\"author\" itemprop=\"author\">André Gide</small>\n",
      "        <a href=\"/author/Andre-Gide\">(about)</a>\n",
      "        </span>\n",
      "        <div class=\"tags\">\n",
      "            Tags:\n",
      "            <meta class=\"keywords\" itemprop=\"keywords\" content=\"life,love\" /    > \n",
      "            \n",
      "            <a class=\"tag\" href=\"/tag/life/page/1/\">life</a>\n",
      "            \n",
      "            <a class=\"tag\" href=\"/tag/love/page/1/\">love</a>\n",
      "            \n",
      "        </div>\n",
      "    </div>\n",
      "\n",
      "    <div class=\"quote\" itemscope itemtype=\"http://schema.org/CreativeWork\">\n",
      "        <span class=\"text\" itemprop=\"text\">“I have not failed. I&#39;ve just found 10,000 ways that won&#39;t work.”</span>\n",
      "        <span>by <small class=\"author\" itemprop=\"author\">Thomas A. Edison</small>\n",
      "        <a href=\"/author/Thomas-A-Edison\">(about)</a>\n",
      "        </span>\n",
      "        <div class=\"tags\">\n",
      "            Tags:\n",
      "            <meta class=\"keywords\" itemprop=\"keywords\" content=\"edison,failure,inspirational,paraphrased\" /    > \n",
      "            \n",
      "            <a class=\"tag\" href=\"/tag/edison/page/1/\">edison</a>\n",
      "            \n",
      "            <a class=\"tag\" href=\"/tag/failure/page/1/\">failure</a>\n",
      "            \n",
      "            <a class=\"tag\" href=\"/tag/inspirational/page/1/\">inspirational</a>\n",
      "            \n",
      "            <a class=\"tag\" href=\"/tag/paraphrased/page/1/\">paraphrased</a>\n",
      "            \n",
      "        </div>\n",
      "    </div>\n",
      "\n",
      "    <div class=\"quote\" itemscope itemtype=\"http://schema.org/CreativeWork\">\n",
      "        <span class=\"text\" itemprop=\"text\">“A woman is like a tea bag; you never know how strong it is until it&#39;s in hot water.”</span>\n",
      "        <span>by <small class=\"author\" itemprop=\"author\">Eleanor Roosevelt</small>\n",
      "        <a href=\"/author/Eleanor-Roosevelt\">(about)</a>\n",
      "        </span>\n",
      "        <div class=\"tags\">\n",
      "            Tags:\n",
      "            <meta class=\"keywords\" itemprop=\"keywords\" content=\"misattributed-eleanor-roosevelt\" /    > \n",
      "            \n",
      "            <a class=\"tag\" href=\"/tag/misattributed-eleanor-roosevelt/page/1/\">misattributed-eleanor-roosevelt</a>\n",
      "            \n",
      "        </div>\n",
      "    </div>\n",
      "\n",
      "    <div class=\"quote\" itemscope itemtype=\"http://schema.org/CreativeWork\">\n",
      "        <span class=\"text\" itemprop=\"text\">“A day without sunshine is like, you know, night.”</span>\n",
      "        <span>by <small class=\"author\" itemprop=\"author\">Steve Martin</small>\n",
      "        <a href=\"/author/Steve-Martin\">(about)</a>\n",
      "        </span>\n",
      "        <div class=\"tags\">\n",
      "            Tags:\n",
      "            <meta class=\"keywords\" itemprop=\"keywords\" content=\"humor,obvious,simile\" /    > \n",
      "            \n",
      "            <a class=\"tag\" href=\"/tag/humor/page/1/\">humor</a>\n",
      "            \n",
      "            <a class=\"tag\" href=\"/tag/obvious/page/1/\">obvious</a>\n",
      "            \n",
      "            <a class=\"tag\" href=\"/tag/simile/page/1/\">simile</a>\n",
      "            \n",
      "        </div>\n",
      "    </div>\n",
      "\n",
      "    <nav>\n",
      "        <ul class=\"pager\">\n",
      "            \n",
      "            \n",
      "            <li class=\"next\">\n",
      "                <a href=\"/page/2/\">Next <span aria-hidden=\"true\">&rarr;</span></a>\n",
      "            </li>\n",
      "            \n",
      "        </ul>\n",
      "    </nav>\n",
      "    </div>\n",
      "    <div class=\"col-md-4 tags-box\">\n",
      "        \n",
      "            <h2>Top Ten tags</h2>\n",
      "            \n",
      "            <span class=\"tag-item\">\n",
      "            <a class=\"tag\" style=\"font-size: 28px\" href=\"/tag/love/\">love</a>\n",
      "            </span>\n",
      "            \n",
      "            <span class=\"tag-item\">\n",
      "            <a class=\"tag\" style=\"font-size: 26px\" href=\"/tag/inspirational/\">inspirational</a>\n",
      "            </span>\n",
      "            \n",
      "            <span class=\"tag-item\">\n",
      "            <a class=\"tag\" style=\"font-size: 26px\" href=\"/tag/life/\">life</a>\n",
      "            </span>\n",
      "            \n",
      "            <span class=\"tag-item\">\n",
      "            <a class=\"tag\" style=\"font-size: 24px\" href=\"/tag/humor/\">humor</a>\n",
      "            </span>\n",
      "            \n",
      "            <span class=\"tag-item\">\n",
      "            <a class=\"tag\" style=\"font-size: 22px\" href=\"/tag/books/\">books</a>\n",
      "            </span>\n",
      "            \n",
      "            <span class=\"tag-item\">\n",
      "            <a class=\"tag\" style=\"font-size: 14px\" href=\"/tag/reading/\">reading</a>\n",
      "            </span>\n",
      "            \n",
      "            <span class=\"tag-item\">\n",
      "            <a class=\"tag\" style=\"font-size: 10px\" href=\"/tag/friendship/\">friendship</a>\n",
      "            </span>\n",
      "            \n",
      "            <span class=\"tag-item\">\n",
      "            <a class=\"tag\" style=\"font-size: 8px\" href=\"/tag/friends/\">friends</a>\n",
      "            </span>\n",
      "            \n",
      "            <span class=\"tag-item\">\n",
      "            <a class=\"tag\" style=\"font-size: 8px\" href=\"/tag/truth/\">truth</a>\n",
      "            </span>\n",
      "            \n",
      "            <span class=\"tag-item\">\n",
      "            <a class=\"tag\" style=\"font-size: 6px\" href=\"/tag/simile/\">simile</a>\n",
      "            </span>\n",
      "            \n",
      "        \n",
      "    </div>\n",
      "</div>\n",
      "\n",
      "    </div>\n",
      "    <footer class=\"footer\">\n",
      "        <div class=\"container\">\n",
      "            <p class=\"text-muted\">\n",
      "                Quotes by: <a href=\"https://www.goodreads.com/quotes\">GoodReads.com</a>\n",
      "            </p>\n",
      "            <p class=\"copyright\">\n",
      "                Made with <span class='sh-red'>❤</span> by <a href=\"https://scrapinghub.com\">Scrapinghub</a>\n",
      "            </p>\n",
      "        </div>\n",
      "    </footer>\n",
      "</body>\n",
      "</html>\n"
     ]
    }
   ],
   "source": [
    "import requests\n",
    "url = \"https://quotes.toscrape.com/\"\n",
    "data = requests.get(url)\n",
    "print(data.text)"
   ]
  },
  {
   "cell_type": "markdown",
   "metadata": {},
   "source": [
    "Beautiful Soup"
   ]
  },
  {
   "cell_type": "code",
   "execution_count": 4,
   "metadata": {
    "scrolled": true
   },
   "outputs": [
    {
     "name": "stdout",
     "output_type": "stream",
     "text": [
      "<!DOCTYPE html>\n",
      "<html lang=\"en\">\n",
      " <head>\n",
      "  <meta charset=\"utf-8\"/>\n",
      "  <title>\n",
      "   Quotes to Scrape\n",
      "  </title>\n",
      "  <link href=\"/static/bootstrap.min.css\" rel=\"stylesheet\"/>\n",
      "  <link href=\"/static/main.css\" rel=\"stylesheet\"/>\n",
      " </head>\n",
      " <body>\n",
      "  <div class=\"container\">\n",
      "   <div class=\"row header-box\">\n",
      "    <div class=\"col-md-8\">\n",
      "     <h1>\n",
      "      <a href=\"/\" style=\"text-decoration: none\">\n",
      "       Quotes to Scrape\n",
      "      </a>\n",
      "     </h1>\n",
      "    </div>\n",
      "    <div class=\"col-md-4\">\n",
      "     <p>\n",
      "      <a href=\"/login\">\n",
      "       Login\n",
      "      </a>\n",
      "     </p>\n",
      "    </div>\n",
      "   </div>\n",
      "   <div class=\"row\">\n",
      "    <div class=\"col-md-8\">\n",
      "     <div class=\"quote\" itemscope=\"\" itemtype=\"http://schema.org/CreativeWork\">\n",
      "      <span class=\"text\" itemprop=\"text\">\n",
      "       “The world as we have created it is a process of our thinking. It cannot be changed without changing our thinking.”\n",
      "      </span>\n",
      "      <span>\n",
      "       by\n",
      "       <small class=\"author\" itemprop=\"author\">\n",
      "        Albert Einstein\n",
      "       </small>\n",
      "       <a href=\"/author/Albert-Einstein\">\n",
      "        (about)\n",
      "       </a>\n",
      "      </span>\n",
      "      <div class=\"tags\">\n",
      "       Tags:\n",
      "       <meta class=\"keywords\" content=\"change,deep-thoughts,thinking,world\" itemprop=\"keywords\"/>\n",
      "       <a class=\"tag\" href=\"/tag/change/page/1/\">\n",
      "        change\n",
      "       </a>\n",
      "       <a class=\"tag\" href=\"/tag/deep-thoughts/page/1/\">\n",
      "        deep-thoughts\n",
      "       </a>\n",
      "       <a class=\"tag\" href=\"/tag/thinking/page/1/\">\n",
      "        thinking\n",
      "       </a>\n",
      "       <a class=\"tag\" href=\"/tag/world/page/1/\">\n",
      "        world\n",
      "       </a>\n",
      "      </div>\n",
      "     </div>\n",
      "     <div class=\"quote\" itemscope=\"\" itemtype=\"http://schema.org/CreativeWork\">\n",
      "      <span class=\"text\" itemprop=\"text\">\n",
      "       “It is our choices, Harry, that show what we truly are, far more than our abilities.”\n",
      "      </span>\n",
      "      <span>\n",
      "       by\n",
      "       <small class=\"author\" itemprop=\"author\">\n",
      "        J.K. Rowling\n",
      "       </small>\n",
      "       <a href=\"/author/J-K-Rowling\">\n",
      "        (about)\n",
      "       </a>\n",
      "      </span>\n",
      "      <div class=\"tags\">\n",
      "       Tags:\n",
      "       <meta class=\"keywords\" content=\"abilities,choices\" itemprop=\"keywords\"/>\n",
      "       <a class=\"tag\" href=\"/tag/abilities/page/1/\">\n",
      "        abilities\n",
      "       </a>\n",
      "       <a class=\"tag\" href=\"/tag/choices/page/1/\">\n",
      "        choices\n",
      "       </a>\n",
      "      </div>\n",
      "     </div>\n",
      "     <div class=\"quote\" itemscope=\"\" itemtype=\"http://schema.org/CreativeWork\">\n",
      "      <span class=\"text\" itemprop=\"text\">\n",
      "       “There are only two ways to live your life. One is as though nothing is a miracle. The other is as though everything is a miracle.”\n",
      "      </span>\n",
      "      <span>\n",
      "       by\n",
      "       <small class=\"author\" itemprop=\"author\">\n",
      "        Albert Einstein\n",
      "       </small>\n",
      "       <a href=\"/author/Albert-Einstein\">\n",
      "        (about)\n",
      "       </a>\n",
      "      </span>\n",
      "      <div class=\"tags\">\n",
      "       Tags:\n",
      "       <meta class=\"keywords\" content=\"inspirational,life,live,miracle,miracles\" itemprop=\"keywords\"/>\n",
      "       <a class=\"tag\" href=\"/tag/inspirational/page/1/\">\n",
      "        inspirational\n",
      "       </a>\n",
      "       <a class=\"tag\" href=\"/tag/life/page/1/\">\n",
      "        life\n",
      "       </a>\n",
      "       <a class=\"tag\" href=\"/tag/live/page/1/\">\n",
      "        live\n",
      "       </a>\n",
      "       <a class=\"tag\" href=\"/tag/miracle/page/1/\">\n",
      "        miracle\n",
      "       </a>\n",
      "       <a class=\"tag\" href=\"/tag/miracles/page/1/\">\n",
      "        miracles\n",
      "       </a>\n",
      "      </div>\n",
      "     </div>\n",
      "     <div class=\"quote\" itemscope=\"\" itemtype=\"http://schema.org/CreativeWork\">\n",
      "      <span class=\"text\" itemprop=\"text\">\n",
      "       “The person, be it gentleman or lady, who has not pleasure in a good novel, must be intolerably stupid.”\n",
      "      </span>\n",
      "      <span>\n",
      "       by\n",
      "       <small class=\"author\" itemprop=\"author\">\n",
      "        Jane Austen\n",
      "       </small>\n",
      "       <a href=\"/author/Jane-Austen\">\n",
      "        (about)\n",
      "       </a>\n",
      "      </span>\n",
      "      <div class=\"tags\">\n",
      "       Tags:\n",
      "       <meta class=\"keywords\" content=\"aliteracy,books,classic,humor\" itemprop=\"keywords\"/>\n",
      "       <a class=\"tag\" href=\"/tag/aliteracy/page/1/\">\n",
      "        aliteracy\n",
      "       </a>\n",
      "       <a class=\"tag\" href=\"/tag/books/page/1/\">\n",
      "        books\n",
      "       </a>\n",
      "       <a class=\"tag\" href=\"/tag/classic/page/1/\">\n",
      "        classic\n",
      "       </a>\n",
      "       <a class=\"tag\" href=\"/tag/humor/page/1/\">\n",
      "        humor\n",
      "       </a>\n",
      "      </div>\n",
      "     </div>\n",
      "     <div class=\"quote\" itemscope=\"\" itemtype=\"http://schema.org/CreativeWork\">\n",
      "      <span class=\"text\" itemprop=\"text\">\n",
      "       “Imperfection is beauty, madness is genius and it's better to be absolutely ridiculous than absolutely boring.”\n",
      "      </span>\n",
      "      <span>\n",
      "       by\n",
      "       <small class=\"author\" itemprop=\"author\">\n",
      "        Marilyn Monroe\n",
      "       </small>\n",
      "       <a href=\"/author/Marilyn-Monroe\">\n",
      "        (about)\n",
      "       </a>\n",
      "      </span>\n",
      "      <div class=\"tags\">\n",
      "       Tags:\n",
      "       <meta class=\"keywords\" content=\"be-yourself,inspirational\" itemprop=\"keywords\"/>\n",
      "       <a class=\"tag\" href=\"/tag/be-yourself/page/1/\">\n",
      "        be-yourself\n",
      "       </a>\n",
      "       <a class=\"tag\" href=\"/tag/inspirational/page/1/\">\n",
      "        inspirational\n",
      "       </a>\n",
      "      </div>\n",
      "     </div>\n",
      "     <div class=\"quote\" itemscope=\"\" itemtype=\"http://schema.org/CreativeWork\">\n",
      "      <span class=\"text\" itemprop=\"text\">\n",
      "       “Try not to become a man of success. Rather become a man of value.”\n",
      "      </span>\n",
      "      <span>\n",
      "       by\n",
      "       <small class=\"author\" itemprop=\"author\">\n",
      "        Albert Einstein\n",
      "       </small>\n",
      "       <a href=\"/author/Albert-Einstein\">\n",
      "        (about)\n",
      "       </a>\n",
      "      </span>\n",
      "      <div class=\"tags\">\n",
      "       Tags:\n",
      "       <meta class=\"keywords\" content=\"adulthood,success,value\" itemprop=\"keywords\"/>\n",
      "       <a class=\"tag\" href=\"/tag/adulthood/page/1/\">\n",
      "        adulthood\n",
      "       </a>\n",
      "       <a class=\"tag\" href=\"/tag/success/page/1/\">\n",
      "        success\n",
      "       </a>\n",
      "       <a class=\"tag\" href=\"/tag/value/page/1/\">\n",
      "        value\n",
      "       </a>\n",
      "      </div>\n",
      "     </div>\n",
      "     <div class=\"quote\" itemscope=\"\" itemtype=\"http://schema.org/CreativeWork\">\n",
      "      <span class=\"text\" itemprop=\"text\">\n",
      "       “It is better to be hated for what you are than to be loved for what you are not.”\n",
      "      </span>\n",
      "      <span>\n",
      "       by\n",
      "       <small class=\"author\" itemprop=\"author\">\n",
      "        André Gide\n",
      "       </small>\n",
      "       <a href=\"/author/Andre-Gide\">\n",
      "        (about)\n",
      "       </a>\n",
      "      </span>\n",
      "      <div class=\"tags\">\n",
      "       Tags:\n",
      "       <meta class=\"keywords\" content=\"life,love\" itemprop=\"keywords\"/>\n",
      "       <a class=\"tag\" href=\"/tag/life/page/1/\">\n",
      "        life\n",
      "       </a>\n",
      "       <a class=\"tag\" href=\"/tag/love/page/1/\">\n",
      "        love\n",
      "       </a>\n",
      "      </div>\n",
      "     </div>\n",
      "     <div class=\"quote\" itemscope=\"\" itemtype=\"http://schema.org/CreativeWork\">\n",
      "      <span class=\"text\" itemprop=\"text\">\n",
      "       “I have not failed. I've just found 10,000 ways that won't work.”\n",
      "      </span>\n",
      "      <span>\n",
      "       by\n",
      "       <small class=\"author\" itemprop=\"author\">\n",
      "        Thomas A. Edison\n",
      "       </small>\n",
      "       <a href=\"/author/Thomas-A-Edison\">\n",
      "        (about)\n",
      "       </a>\n",
      "      </span>\n",
      "      <div class=\"tags\">\n",
      "       Tags:\n",
      "       <meta class=\"keywords\" content=\"edison,failure,inspirational,paraphrased\" itemprop=\"keywords\"/>\n",
      "       <a class=\"tag\" href=\"/tag/edison/page/1/\">\n",
      "        edison\n",
      "       </a>\n",
      "       <a class=\"tag\" href=\"/tag/failure/page/1/\">\n",
      "        failure\n",
      "       </a>\n",
      "       <a class=\"tag\" href=\"/tag/inspirational/page/1/\">\n",
      "        inspirational\n",
      "       </a>\n",
      "       <a class=\"tag\" href=\"/tag/paraphrased/page/1/\">\n",
      "        paraphrased\n",
      "       </a>\n",
      "      </div>\n",
      "     </div>\n",
      "     <div class=\"quote\" itemscope=\"\" itemtype=\"http://schema.org/CreativeWork\">\n",
      "      <span class=\"text\" itemprop=\"text\">\n",
      "       “A woman is like a tea bag; you never know how strong it is until it's in hot water.”\n",
      "      </span>\n",
      "      <span>\n",
      "       by\n",
      "       <small class=\"author\" itemprop=\"author\">\n",
      "        Eleanor Roosevelt\n",
      "       </small>\n",
      "       <a href=\"/author/Eleanor-Roosevelt\">\n",
      "        (about)\n",
      "       </a>\n",
      "      </span>\n",
      "      <div class=\"tags\">\n",
      "       Tags:\n",
      "       <meta class=\"keywords\" content=\"misattributed-eleanor-roosevelt\" itemprop=\"keywords\"/>\n",
      "       <a class=\"tag\" href=\"/tag/misattributed-eleanor-roosevelt/page/1/\">\n",
      "        misattributed-eleanor-roosevelt\n",
      "       </a>\n",
      "      </div>\n",
      "     </div>\n",
      "     <div class=\"quote\" itemscope=\"\" itemtype=\"http://schema.org/CreativeWork\">\n",
      "      <span class=\"text\" itemprop=\"text\">\n",
      "       “A day without sunshine is like, you know, night.”\n",
      "      </span>\n",
      "      <span>\n",
      "       by\n",
      "       <small class=\"author\" itemprop=\"author\">\n",
      "        Steve Martin\n",
      "       </small>\n",
      "       <a href=\"/author/Steve-Martin\">\n",
      "        (about)\n",
      "       </a>\n",
      "      </span>\n",
      "      <div class=\"tags\">\n",
      "       Tags:\n",
      "       <meta class=\"keywords\" content=\"humor,obvious,simile\" itemprop=\"keywords\"/>\n",
      "       <a class=\"tag\" href=\"/tag/humor/page/1/\">\n",
      "        humor\n",
      "       </a>\n",
      "       <a class=\"tag\" href=\"/tag/obvious/page/1/\">\n",
      "        obvious\n",
      "       </a>\n",
      "       <a class=\"tag\" href=\"/tag/simile/page/1/\">\n",
      "        simile\n",
      "       </a>\n",
      "      </div>\n",
      "     </div>\n",
      "     <nav>\n",
      "      <ul class=\"pager\">\n",
      "       <li class=\"next\">\n",
      "        <a href=\"/page/2/\">\n",
      "         Next\n",
      "         <span aria-hidden=\"true\">\n",
      "          →\n",
      "         </span>\n",
      "        </a>\n",
      "       </li>\n",
      "      </ul>\n",
      "     </nav>\n",
      "    </div>\n",
      "    <div class=\"col-md-4 tags-box\">\n",
      "     <h2>\n",
      "      Top Ten tags\n",
      "     </h2>\n",
      "     <span class=\"tag-item\">\n",
      "      <a class=\"tag\" href=\"/tag/love/\" style=\"font-size: 28px\">\n",
      "       love\n",
      "      </a>\n",
      "     </span>\n",
      "     <span class=\"tag-item\">\n",
      "      <a class=\"tag\" href=\"/tag/inspirational/\" style=\"font-size: 26px\">\n",
      "       inspirational\n",
      "      </a>\n",
      "     </span>\n",
      "     <span class=\"tag-item\">\n",
      "      <a class=\"tag\" href=\"/tag/life/\" style=\"font-size: 26px\">\n",
      "       life\n",
      "      </a>\n",
      "     </span>\n",
      "     <span class=\"tag-item\">\n",
      "      <a class=\"tag\" href=\"/tag/humor/\" style=\"font-size: 24px\">\n",
      "       humor\n",
      "      </a>\n",
      "     </span>\n",
      "     <span class=\"tag-item\">\n",
      "      <a class=\"tag\" href=\"/tag/books/\" style=\"font-size: 22px\">\n",
      "       books\n",
      "      </a>\n",
      "     </span>\n",
      "     <span class=\"tag-item\">\n",
      "      <a class=\"tag\" href=\"/tag/reading/\" style=\"font-size: 14px\">\n",
      "       reading\n",
      "      </a>\n",
      "     </span>\n",
      "     <span class=\"tag-item\">\n",
      "      <a class=\"tag\" href=\"/tag/friendship/\" style=\"font-size: 10px\">\n",
      "       friendship\n",
      "      </a>\n",
      "     </span>\n",
      "     <span class=\"tag-item\">\n",
      "      <a class=\"tag\" href=\"/tag/friends/\" style=\"font-size: 8px\">\n",
      "       friends\n",
      "      </a>\n",
      "     </span>\n",
      "     <span class=\"tag-item\">\n",
      "      <a class=\"tag\" href=\"/tag/truth/\" style=\"font-size: 8px\">\n",
      "       truth\n",
      "      </a>\n",
      "     </span>\n",
      "     <span class=\"tag-item\">\n",
      "      <a class=\"tag\" href=\"/tag/simile/\" style=\"font-size: 6px\">\n",
      "       simile\n",
      "      </a>\n",
      "     </span>\n",
      "    </div>\n",
      "   </div>\n",
      "  </div>\n",
      "  <footer class=\"footer\">\n",
      "   <div class=\"container\">\n",
      "    <p class=\"text-muted\">\n",
      "     Quotes by:\n",
      "     <a href=\"https://www.goodreads.com/quotes\">\n",
      "      GoodReads.com\n",
      "     </a>\n",
      "    </p>\n",
      "    <p class=\"copyright\">\n",
      "     Made with\n",
      "     <span class=\"sh-red\">\n",
      "      ❤\n",
      "     </span>\n",
      "     by\n",
      "     <a href=\"https://scrapinghub.com\">\n",
      "      Scrapinghub\n",
      "     </a>\n",
      "    </p>\n",
      "   </div>\n",
      "  </footer>\n",
      " </body>\n",
      "</html>\n"
     ]
    }
   ],
   "source": [
    "from bs4 import BeautifulSoup\n",
    "soup = BeautifulSoup(data.text,'html.parser')\n",
    "print(soup.prettify())"
   ]
  },
  {
   "cell_type": "markdown",
   "metadata": {},
   "source": [
    "Finding Tags and Scrape"
   ]
  },
  {
   "cell_type": "code",
   "execution_count": 5,
   "metadata": {},
   "outputs": [],
   "source": [
    "url = \"http://quotes.toscrape.com/page/%i/\" # url format to follow\n",
    "page = 1 # page numbers for the url\n",
    "stop = False # parameter to stop our crawl when necessary\n",
    "lst_page = [] # list to append scraped info to\n",
    "scrape = []\n",
    "while stop == False:\n",
    "    req = requests.get(\"http://quotes.toscrape.com/page/%i/\" % page)\n",
    "    soup = BeautifulSoup(req.content)\n",
    "    if soup.find(\"div\", {\"class\":\"quote\"}) == None:\n",
    "        stop = True\n",
    "    else:\n",
    "        for quote in soup.find_all(\"div\", {\"class\":\"quote\"}):\n",
    "            d = {} # dictionary for our scraped information\n",
    "            d['quote'] = quote.find(\"span\", {\"class\":\"text\"}).text\n",
    "            tags = []\n",
    "            for tag in quote.find_all(\"a\", {\"class\":\"tag\"}):\n",
    "                tags.append(tag.text)\n",
    "            d['Tags'] = tags\n",
    "            lst_page.append(d)\n",
    "            scrape.append(d)\n",
    "        page += 1"
   ]
  },
  {
   "cell_type": "code",
   "execution_count": 6,
   "metadata": {},
   "outputs": [
    {
     "data": {
      "text/plain": [
       "[{'quote': '“The world as we have created it is a process of our thinking. It cannot be changed without changing our thinking.”',\n",
       "  'Tags': ['change', 'deep-thoughts', 'thinking', 'world']},\n",
       " {'quote': '“It is our choices, Harry, that show what we truly are, far more than our abilities.”',\n",
       "  'Tags': ['abilities', 'choices']},\n",
       " {'quote': '“There are only two ways to live your life. One is as though nothing is a miracle. The other is as though everything is a miracle.”',\n",
       "  'Tags': ['inspirational', 'life', 'live', 'miracle', 'miracles']},\n",
       " {'quote': '“The person, be it gentleman or lady, who has not pleasure in a good novel, must be intolerably stupid.”',\n",
       "  'Tags': ['aliteracy', 'books', 'classic', 'humor']},\n",
       " {'quote': \"“Imperfection is beauty, madness is genius and it's better to be absolutely ridiculous than absolutely boring.”\",\n",
       "  'Tags': ['be-yourself', 'inspirational']},\n",
       " {'quote': '“Try not to become a man of success. Rather become a man of value.”',\n",
       "  'Tags': ['adulthood', 'success', 'value']},\n",
       " {'quote': '“It is better to be hated for what you are than to be loved for what you are not.”',\n",
       "  'Tags': ['life', 'love']},\n",
       " {'quote': \"“I have not failed. I've just found 10,000 ways that won't work.”\",\n",
       "  'Tags': ['edison', 'failure', 'inspirational', 'paraphrased']},\n",
       " {'quote': \"“A woman is like a tea bag; you never know how strong it is until it's in hot water.”\",\n",
       "  'Tags': ['misattributed-eleanor-roosevelt']},\n",
       " {'quote': '“A day without sunshine is like, you know, night.”',\n",
       "  'Tags': ['humor', 'obvious', 'simile']},\n",
       " {'quote': \"“This life is what you make it. No matter what, you're going to mess up sometimes, it's a universal truth. But the good part is you get to decide how you're going to mess it up. Girls will be your friends - they'll act like it anyway. But just remember, some come, some go. The ones that stay with you through everything - they're your true best friends. Don't let go of them. Also remember, sisters make the best friends in the world. As for lovers, well, they'll come and go too. And baby, I hate to say it, most of them - actually pretty much all of them are going to break your heart, but you can't give up because if you give up, you'll never find your soulmate. You'll never find that half who makes you whole and that goes for everything. Just because you fail once, doesn't mean you're gonna fail at everything. Keep trying, hold on, and always, always, always believe in yourself, because if you don't, then who will, sweetie? So keep your head high, keep your chin up, and most importantly, keep smiling, because life's a beautiful thing and there's so much to smile about.”\",\n",
       "  'Tags': ['friends',\n",
       "   'heartbreak',\n",
       "   'inspirational',\n",
       "   'life',\n",
       "   'love',\n",
       "   'sisters']},\n",
       " {'quote': '“It takes a great deal of bravery to stand up to our enemies, but just as much to stand up to our friends.”',\n",
       "  'Tags': ['courage', 'friends']},\n",
       " {'quote': \"“If you can't explain it to a six year old, you don't understand it yourself.”\",\n",
       "  'Tags': ['simplicity', 'understand']},\n",
       " {'quote': \"“You may not be her first, her last, or her only. She loved before she may love again. But if she loves you now, what else matters? She's not perfect—you aren't either, and the two of you may never be perfect together but if she can make you laugh, cause you to think twice, and admit to being human and making mistakes, hold onto her and give her the most you can. She may not be thinking about you every second of the day, but she will give you a part of her that she knows you can break—her heart. So don't hurt her, don't change her, don't analyze and don't expect more than she can give. Smile when she makes you happy, let her know when she makes you mad, and miss her when she's not there.”\",\n",
       "  'Tags': ['love']},\n",
       " {'quote': '“I like nonsense, it wakes up the brain cells. Fantasy is a necessary ingredient in living.”',\n",
       "  'Tags': ['fantasy']},\n",
       " {'quote': '“I may not have gone where I intended to go, but I think I have ended up where I needed to be.”',\n",
       "  'Tags': ['life', 'navigation']},\n",
       " {'quote': \"“The opposite of love is not hate, it's indifference. The opposite of art is not ugliness, it's indifference. The opposite of faith is not heresy, it's indifference. And the opposite of life is not death, it's indifference.”\",\n",
       "  'Tags': ['activism',\n",
       "   'apathy',\n",
       "   'hate',\n",
       "   'indifference',\n",
       "   'inspirational',\n",
       "   'love',\n",
       "   'opposite',\n",
       "   'philosophy']},\n",
       " {'quote': '“It is not a lack of love, but a lack of friendship that makes unhappy marriages.”',\n",
       "  'Tags': ['friendship',\n",
       "   'lack-of-friendship',\n",
       "   'lack-of-love',\n",
       "   'love',\n",
       "   'marriage',\n",
       "   'unhappy-marriage']},\n",
       " {'quote': '“Good friends, good books, and a sleepy conscience: this is the ideal life.”',\n",
       "  'Tags': ['books', 'contentment', 'friends', 'friendship', 'life']},\n",
       " {'quote': '“Life is what happens to us while we are making other plans.”',\n",
       "  'Tags': ['fate', 'life', 'misattributed-john-lennon', 'planning', 'plans']},\n",
       " {'quote': '“I love you without knowing how, or when, or from where. I love you simply, without problems or pride: I love you in this way because I do not know any other way of loving but this, in which there is no I or you, so intimate that your hand upon my chest is my hand, so intimate that when I fall asleep your eyes close.”',\n",
       "  'Tags': ['love', 'poetry']},\n",
       " {'quote': '“For every minute you are angry you lose sixty seconds of happiness.”',\n",
       "  'Tags': ['happiness']},\n",
       " {'quote': '“If you judge people, you have no time to love them.”',\n",
       "  'Tags': ['attributed-no-source']},\n",
       " {'quote': '“Anyone who thinks sitting in church can make you a Christian must also think that sitting in a garage can make you a car.”',\n",
       "  'Tags': ['humor', 'religion']},\n",
       " {'quote': '“Beauty is in the eye of the beholder and it may be necessary from time to time to give a stupid or misinformed beholder a black eye.”',\n",
       "  'Tags': ['humor']},\n",
       " {'quote': '“Today you are You, that is truer than true. There is no one alive who is Youer than You.”',\n",
       "  'Tags': ['comedy', 'life', 'yourself']},\n",
       " {'quote': '“If you want your children to be intelligent, read them fairy tales. If you want them to be more intelligent, read them more fairy tales.”',\n",
       "  'Tags': ['children', 'fairy-tales']},\n",
       " {'quote': '“It is impossible to live without failing at something, unless you live so cautiously that you might as well not have lived at all - in which case, you fail by default.”',\n",
       "  'Tags': []},\n",
       " {'quote': '“Logic will get you from A to Z; imagination will get you everywhere.”',\n",
       "  'Tags': ['imagination']},\n",
       " {'quote': '“One good thing about music, when it hits you, you feel no pain.”',\n",
       "  'Tags': ['music']},\n",
       " {'quote': \"“The more that you read, the more things you will know. The more that you learn, the more places you'll go.”\",\n",
       "  'Tags': ['learning', 'reading', 'seuss']},\n",
       " {'quote': '“Of course it is happening inside your head, Harry, but why on earth should that mean that it is not real?”',\n",
       "  'Tags': ['dumbledore']},\n",
       " {'quote': '“The truth is, everyone is going to hurt you. You just got to find the ones worth suffering for.”',\n",
       "  'Tags': ['friendship']},\n",
       " {'quote': '“Not all of us can do great things. But we can do small things with great love.”',\n",
       "  'Tags': ['misattributed-to-mother-teresa', 'paraphrased']},\n",
       " {'quote': '“To the well-organized mind, death is but the next great adventure.”',\n",
       "  'Tags': ['death', 'inspirational']},\n",
       " {'quote': \"“All you need is love. But a little chocolate now and then doesn't hurt.”\",\n",
       "  'Tags': ['chocolate', 'food', 'humor']},\n",
       " {'quote': \"“We read to know we're not alone.”\",\n",
       "  'Tags': ['misattributed-to-c-s-lewis', 'reading']},\n",
       " {'quote': '“Any fool can know. The point is to understand.”',\n",
       "  'Tags': ['knowledge', 'learning', 'understanding', 'wisdom']},\n",
       " {'quote': '“I have always imagined that Paradise will be a kind of library.”',\n",
       "  'Tags': ['books', 'library']},\n",
       " {'quote': '“It is never too late to be what you might have been.”',\n",
       "  'Tags': ['inspirational']},\n",
       " {'quote': '“A reader lives a thousand lives before he dies, said Jojen. The man who never reads lives only one.”',\n",
       "  'Tags': ['read', 'readers', 'reading', 'reading-books']},\n",
       " {'quote': '“You can never get a cup of tea large enough or a book long enough to suit me.”',\n",
       "  'Tags': ['books', 'inspirational', 'reading', 'tea']},\n",
       " {'quote': '“You believe lies so you eventually learn to trust no one but yourself.”',\n",
       "  'Tags': []},\n",
       " {'quote': '“If you can make a woman laugh, you can make her do anything.”',\n",
       "  'Tags': ['girls', 'love']},\n",
       " {'quote': '“Life is like riding a bicycle. To keep your balance, you must keep moving.”',\n",
       "  'Tags': ['life', 'simile']},\n",
       " {'quote': '“The real lover is the man who can thrill you by kissing your forehead or smiling into your eyes or just staring into space.”',\n",
       "  'Tags': ['love']},\n",
       " {'quote': \"“A wise girl kisses but doesn't love, listens but doesn't believe, and leaves before she is left.”\",\n",
       "  'Tags': ['attributed-no-source']},\n",
       " {'quote': '“Only in the darkness can you see the stars.”',\n",
       "  'Tags': ['hope', 'inspirational']},\n",
       " {'quote': '“It matters not what someone is born, but what they grow to be.”',\n",
       "  'Tags': ['dumbledore']},\n",
       " {'quote': '“Love does not begin and end the way we seem to think it does. Love is a battle, love is a war; love is a growing up.”',\n",
       "  'Tags': ['love']},\n",
       " {'quote': '“There is nothing I would not do for those who are really my friends. I have no notion of loving people by halves, it is not my nature.”',\n",
       "  'Tags': ['friendship', 'love']},\n",
       " {'quote': '“Do one thing every day that scares you.”',\n",
       "  'Tags': ['attributed', 'fear', 'inspiration']},\n",
       " {'quote': '“I am good, but not an angel. I do sin, but I am not the devil. I am just a small girl in a big world trying to find someone to love.”',\n",
       "  'Tags': ['attributed-no-source']},\n",
       " {'quote': '“If I were not a physicist, I would probably be a musician. I often think in music. I live my daydreams in music. I see my life in terms of music.”',\n",
       "  'Tags': ['music']},\n",
       " {'quote': '“If you only read the books that everyone else is reading, you can only think what everyone else is thinking.”',\n",
       "  'Tags': ['books', 'thought']},\n",
       " {'quote': '“The difference between genius and stupidity is: genius has its limits.”',\n",
       "  'Tags': ['misattributed-to-einstein']},\n",
       " {'quote': \"“He's like a drug for you, Bella.”\",\n",
       "  'Tags': ['drug', 'romance', 'simile']},\n",
       " {'quote': '“There is no friend as loyal as a book.”',\n",
       "  'Tags': ['books', 'friends', 'novelist-quotes']},\n",
       " {'quote': '“When one door of happiness closes, another opens; but often we look so long at the closed door that we do not see the one which has been opened for us.”',\n",
       "  'Tags': ['inspirational']},\n",
       " {'quote': \"“Life isn't about finding yourself. Life is about creating yourself.”\",\n",
       "  'Tags': ['inspirational', 'life', 'yourself']},\n",
       " {'quote': \"“That's the problem with drinking, I thought, as I poured myself a drink. If something bad happens you drink in an attempt to forget; if something good happens you drink in order to celebrate; and if nothing happens you drink to make something happen.”\",\n",
       "  'Tags': ['alcohol']},\n",
       " {'quote': '“You don’t forget the face of the person who was your last hope.”',\n",
       "  'Tags': ['the-hunger-games']},\n",
       " {'quote': \"“Remember, we're madly in love, so it's all right to kiss me anytime you feel like it.”\",\n",
       "  'Tags': ['humor']},\n",
       " {'quote': '“To love at all is to be vulnerable. Love anything and your heart will be wrung and possibly broken. If you want to make sure of keeping it intact you must give it to no one, not even an animal. Wrap it carefully round with hobbies and little luxuries; avoid all entanglements. Lock it up safe in the casket or coffin of your selfishness. But in that casket, safe, dark, motionless, airless, it will change. It will not be broken; it will become unbreakable, impenetrable, irredeemable. To love is to be vulnerable.”',\n",
       "  'Tags': ['love']},\n",
       " {'quote': '“Not all those who wander are lost.”',\n",
       "  'Tags': ['bilbo', 'journey', 'lost', 'quest', 'travel', 'wander']},\n",
       " {'quote': '“Do not pity the dead, Harry. Pity the living, and, above all those who live without love.”',\n",
       "  'Tags': ['live-death-love']},\n",
       " {'quote': '“There is nothing to writing. All you do is sit down at a typewriter and bleed.”',\n",
       "  'Tags': ['good', 'writing']},\n",
       " {'quote': '“Finish each day and be done with it. You have done what you could. Some blunders and absurdities no doubt crept in; forget them as soon as you can. Tomorrow is a new day. You shall begin it serenely and with too high a spirit to be encumbered with your old nonsense.”',\n",
       "  'Tags': ['life', 'regrets']},\n",
       " {'quote': '“I have never let my schooling interfere with my education.”',\n",
       "  'Tags': ['education']},\n",
       " {'quote': \"“I have heard there are troubles of more than one kind. Some come from ahead and some come from behind. But I've bought a big bat. I'm all ready you see. Now my troubles are going to have troubles with me!”\",\n",
       "  'Tags': ['troubles']},\n",
       " {'quote': '“If I had a flower for every time I thought of you...I could walk through my garden forever.”',\n",
       "  'Tags': ['friendship', 'love']},\n",
       " {'quote': '“Some people never go crazy. What truly horrible lives they must lead.”',\n",
       "  'Tags': ['humor']},\n",
       " {'quote': '“The trouble with having an open mind, of course, is that people will insist on coming along and trying to put things in it.”',\n",
       "  'Tags': ['humor', 'open-mind', 'thinking']},\n",
       " {'quote': '“Think left and think right and think low and think high. Oh, the thinks you can think up if only you try!”',\n",
       "  'Tags': ['humor', 'philosophy']},\n",
       " {'quote': \"“What really knocks me out is a book that, when you're all done reading it, you wish the author that wrote it was a terrific friend of yours and you could call him up on the phone whenever you felt like it. That doesn't happen much, though.”\",\n",
       "  'Tags': ['authors', 'books', 'literature', 'reading', 'writing']},\n",
       " {'quote': '“The reason I talk to myself is because I’m the only one whose answers I accept.”',\n",
       "  'Tags': ['humor', 'insanity', 'lies', 'lying', 'self-indulgence', 'truth']},\n",
       " {'quote': \"“You may say I'm a dreamer, but I'm not the only one. I hope someday you'll join us. And the world will live as one.”\",\n",
       "  'Tags': ['beatles',\n",
       "   'connection',\n",
       "   'dreamers',\n",
       "   'dreaming',\n",
       "   'dreams',\n",
       "   'hope',\n",
       "   'inspirational',\n",
       "   'peace']},\n",
       " {'quote': '“I am free of all prejudice. I hate everyone equally. ”',\n",
       "  'Tags': ['humor', 'sinister']},\n",
       " {'quote': \"“The question isn't who is going to let me; it's who is going to stop me.”\",\n",
       "  'Tags': []},\n",
       " {'quote': \"“′Classic′ - a book which people praise and don't read.”\",\n",
       "  'Tags': ['books', 'classic', 'reading']},\n",
       " {'quote': '“Anyone who has never made a mistake has never tried anything new.”',\n",
       "  'Tags': ['mistakes']},\n",
       " {'quote': \"“A lady's imagination is very rapid; it jumps from admiration to love, from love to matrimony in a moment.”\",\n",
       "  'Tags': ['humor', 'love', 'romantic', 'women']},\n",
       " {'quote': '“Remember, if the time should come when you have to make a choice between what is right and what is easy, remember what happened to a boy who was good, and kind, and brave, because he strayed across the path of Lord Voldemort. Remember Cedric Diggory.”',\n",
       "  'Tags': ['integrity']},\n",
       " {'quote': '“I declare after all there is no enjoyment like reading! How much sooner one tires of any thing than of a book! -- When I have a house of my own, I shall be miserable if I have not an excellent library.”',\n",
       "  'Tags': ['books', 'library', 'reading']},\n",
       " {'quote': '“There are few people whom I really love, and still fewer of whom I think well. The more I see of the world, the more am I dissatisfied with it; and every day confirms my belief of the inconsistency of all human characters, and of the little dependence that can be placed on the appearance of merit or sense.”',\n",
       "  'Tags': ['elizabeth-bennet', 'jane-austen']},\n",
       " {'quote': '“Some day you will be old enough to start reading fairy tales again.”',\n",
       "  'Tags': ['age', 'fairytales', 'growing-up']},\n",
       " {'quote': '“We are not necessarily doubting that God will do the best for us; we are wondering how painful the best will turn out to be.”',\n",
       "  'Tags': ['god']},\n",
       " {'quote': '“The fear of death follows from the fear of life. A man who lives fully is prepared to die at any time.”',\n",
       "  'Tags': ['death', 'life']},\n",
       " {'quote': '“A lie can travel half way around the world while the truth is putting on its shoes.”',\n",
       "  'Tags': ['misattributed-mark-twain', 'truth']},\n",
       " {'quote': '“I believe in Christianity as I believe that the sun has risen: not only because I see it, but because by it I see everything else.”',\n",
       "  'Tags': ['christianity', 'faith', 'religion', 'sun']},\n",
       " {'quote': '“The truth.\" Dumbledore sighed. \"It is a beautiful and terrible thing, and should therefore be treated with great caution.”',\n",
       "  'Tags': ['truth']},\n",
       " {'quote': \"“I'm the one that's got to die when it's time for me to die, so let me live my life the way I want to.”\",\n",
       "  'Tags': ['death', 'life']},\n",
       " {'quote': '“To die will be an awfully big adventure.”',\n",
       "  'Tags': ['adventure', 'love']},\n",
       " {'quote': '“It takes courage to grow up and become who you really are.”',\n",
       "  'Tags': ['courage']},\n",
       " {'quote': '“But better to get hurt by the truth than comforted with a lie.”',\n",
       "  'Tags': ['life']},\n",
       " {'quote': '“You never really understand a person until you consider things from his point of view... Until you climb inside of his skin and walk around in it.”',\n",
       "  'Tags': ['better-life-empathy']},\n",
       " {'quote': '“You have to write the book that wants to be written. And if the book will be too difficult for grown-ups, then you write it for children.”',\n",
       "  'Tags': ['books',\n",
       "   'children',\n",
       "   'difficult',\n",
       "   'grown-ups',\n",
       "   'write',\n",
       "   'writers',\n",
       "   'writing']},\n",
       " {'quote': '“Never tell the truth to people who are not worthy of it.”',\n",
       "  'Tags': ['truth']},\n",
       " {'quote': \"“A person's a person, no matter how small.”\",\n",
       "  'Tags': ['inspirational']},\n",
       " {'quote': '“... a mind needs books as a sword needs a whetstone, if it is to keep its edge.”',\n",
       "  'Tags': ['books', 'mind']}]"
      ]
     },
     "execution_count": 6,
     "metadata": {},
     "output_type": "execute_result"
    }
   ],
   "source": [
    "lst_page"
   ]
  },
  {
   "cell_type": "code",
   "execution_count": 110,
   "metadata": {},
   "outputs": [],
   "source": [
    "#วน loop เพื่อดึง page\n",
    "lstpage = [] #สร้าง list มาเพื่อเก็บ link ของแต่ละหน้า\n",
    "for i in range(1,11): #เก็บ link แต่ละเดือนเข้า list\n",
    "    reqm = \"http://quotes.toscrape.com/page/\"+ str(i)\n",
    "    lstpage.append(reqm)\n",
    "    i += 1"
   ]
  },
  {
   "cell_type": "code",
   "execution_count": 111,
   "metadata": {},
   "outputs": [
    {
     "data": {
      "text/plain": [
       "['http://quotes.toscrape.com/page/1',\n",
       " 'http://quotes.toscrape.com/page/2',\n",
       " 'http://quotes.toscrape.com/page/3',\n",
       " 'http://quotes.toscrape.com/page/4',\n",
       " 'http://quotes.toscrape.com/page/5',\n",
       " 'http://quotes.toscrape.com/page/6',\n",
       " 'http://quotes.toscrape.com/page/7',\n",
       " 'http://quotes.toscrape.com/page/8',\n",
       " 'http://quotes.toscrape.com/page/9',\n",
       " 'http://quotes.toscrape.com/page/10']"
      ]
     },
     "execution_count": 111,
     "metadata": {},
     "output_type": "execute_result"
    }
   ],
   "source": [
    "lstpage"
   ]
  },
  {
   "cell_type": "code",
   "execution_count": 9,
   "metadata": {
    "scrolled": true
   },
   "outputs": [
    {
     "data": {
      "text/html": [
       "<div>\n",
       "<style scoped>\n",
       "    .dataframe tbody tr th:only-of-type {\n",
       "        vertical-align: middle;\n",
       "    }\n",
       "\n",
       "    .dataframe tbody tr th {\n",
       "        vertical-align: top;\n",
       "    }\n",
       "\n",
       "    .dataframe thead th {\n",
       "        text-align: right;\n",
       "    }\n",
       "</style>\n",
       "<table border=\"1\" class=\"dataframe\">\n",
       "  <thead>\n",
       "    <tr style=\"text-align: right;\">\n",
       "      <th></th>\n",
       "      <th>quote</th>\n",
       "      <th>Tags</th>\n",
       "    </tr>\n",
       "  </thead>\n",
       "  <tbody>\n",
       "    <tr>\n",
       "      <th>0</th>\n",
       "      <td>“The world as we have created it is a process ...</td>\n",
       "      <td>[change, deep-thoughts, thinking, world]</td>\n",
       "    </tr>\n",
       "    <tr>\n",
       "      <th>1</th>\n",
       "      <td>“It is our choices, Harry, that show what we t...</td>\n",
       "      <td>[abilities, choices]</td>\n",
       "    </tr>\n",
       "    <tr>\n",
       "      <th>2</th>\n",
       "      <td>“There are only two ways to live your life. On...</td>\n",
       "      <td>[inspirational, life, live, miracle, miracles]</td>\n",
       "    </tr>\n",
       "    <tr>\n",
       "      <th>3</th>\n",
       "      <td>“The person, be it gentleman or lady, who has ...</td>\n",
       "      <td>[aliteracy, books, classic, humor]</td>\n",
       "    </tr>\n",
       "    <tr>\n",
       "      <th>4</th>\n",
       "      <td>“Imperfection is beauty, madness is genius and...</td>\n",
       "      <td>[be-yourself, inspirational]</td>\n",
       "    </tr>\n",
       "    <tr>\n",
       "      <th>...</th>\n",
       "      <td>...</td>\n",
       "      <td>...</td>\n",
       "    </tr>\n",
       "    <tr>\n",
       "      <th>95</th>\n",
       "      <td>“You never really understand a person until yo...</td>\n",
       "      <td>[better-life-empathy]</td>\n",
       "    </tr>\n",
       "    <tr>\n",
       "      <th>96</th>\n",
       "      <td>“You have to write the book that wants to be w...</td>\n",
       "      <td>[books, children, difficult, grown-ups, write,...</td>\n",
       "    </tr>\n",
       "    <tr>\n",
       "      <th>97</th>\n",
       "      <td>“Never tell the truth to people who are not wo...</td>\n",
       "      <td>[truth]</td>\n",
       "    </tr>\n",
       "    <tr>\n",
       "      <th>98</th>\n",
       "      <td>“A person's a person, no matter how small.”</td>\n",
       "      <td>[inspirational]</td>\n",
       "    </tr>\n",
       "    <tr>\n",
       "      <th>99</th>\n",
       "      <td>“... a mind needs books as a sword needs a whe...</td>\n",
       "      <td>[books, mind]</td>\n",
       "    </tr>\n",
       "  </tbody>\n",
       "</table>\n",
       "<p>100 rows × 2 columns</p>\n",
       "</div>"
      ],
      "text/plain": [
       "                                                quote  \\\n",
       "0   “The world as we have created it is a process ...   \n",
       "1   “It is our choices, Harry, that show what we t...   \n",
       "2   “There are only two ways to live your life. On...   \n",
       "3   “The person, be it gentleman or lady, who has ...   \n",
       "4   “Imperfection is beauty, madness is genius and...   \n",
       "..                                                ...   \n",
       "95  “You never really understand a person until yo...   \n",
       "96  “You have to write the book that wants to be w...   \n",
       "97  “Never tell the truth to people who are not wo...   \n",
       "98        “A person's a person, no matter how small.”   \n",
       "99  “... a mind needs books as a sword needs a whe...   \n",
       "\n",
       "                                                 Tags  \n",
       "0            [change, deep-thoughts, thinking, world]  \n",
       "1                                [abilities, choices]  \n",
       "2      [inspirational, life, live, miracle, miracles]  \n",
       "3                  [aliteracy, books, classic, humor]  \n",
       "4                        [be-yourself, inspirational]  \n",
       "..                                                ...  \n",
       "95                              [better-life-empathy]  \n",
       "96  [books, children, difficult, grown-ups, write,...  \n",
       "97                                            [truth]  \n",
       "98                                    [inspirational]  \n",
       "99                                      [books, mind]  \n",
       "\n",
       "[100 rows x 2 columns]"
      ]
     },
     "execution_count": 9,
     "metadata": {},
     "output_type": "execute_result"
    }
   ],
   "source": [
    "df = pd.DataFrame(scrape)\n",
    "df #เรียกดูข้อมูลที่เก็บไว้ใน scrape"
   ]
  },
  {
   "cell_type": "code",
   "execution_count": 10,
   "metadata": {},
   "outputs": [],
   "source": [
    "quote = '\\n'.join(df.quote)\n",
    "with open(\"quote.txt\", \"w\", encoding=\"utf-8\") as f:\n",
    "    f.write(quote)"
   ]
  },
  {
   "cell_type": "code",
   "execution_count": 11,
   "metadata": {},
   "outputs": [],
   "source": [
    "with open('quote.txt', 'r', encoding='utf-8') as f:\n",
    "    line = f.read()\n",
    "    line = line.split('\\n') #ลบ /n ออก"
   ]
  },
  {
   "cell_type": "code",
   "execution_count": 12,
   "metadata": {
    "scrolled": true
   },
   "outputs": [
    {
     "data": {
      "text/plain": [
       "['“The world as we have created it is a process of our thinking. It cannot be changed without changing our thinking.”',\n",
       " '“It is our choices, Harry, that show what we truly are, far more than our abilities.”',\n",
       " '“There are only two ways to live your life. One is as though nothing is a miracle. The other is as though everything is a miracle.”',\n",
       " '“The person, be it gentleman or lady, who has not pleasure in a good novel, must be intolerably stupid.”',\n",
       " \"“Imperfection is beauty, madness is genius and it's better to be absolutely ridiculous than absolutely boring.”\",\n",
       " '“Try not to become a man of success. Rather become a man of value.”',\n",
       " '“It is better to be hated for what you are than to be loved for what you are not.”',\n",
       " \"“I have not failed. I've just found 10,000 ways that won't work.”\",\n",
       " \"“A woman is like a tea bag; you never know how strong it is until it's in hot water.”\",\n",
       " '“A day without sunshine is like, you know, night.”',\n",
       " \"“This life is what you make it. No matter what, you're going to mess up sometimes, it's a universal truth. But the good part is you get to decide how you're going to mess it up. Girls will be your friends - they'll act like it anyway. But just remember, some come, some go. The ones that stay with you through everything - they're your true best friends. Don't let go of them. Also remember, sisters make the best friends in the world. As for lovers, well, they'll come and go too. And baby, I hate to say it, most of them - actually pretty much all of them are going to break your heart, but you can't give up because if you give up, you'll never find your soulmate. You'll never find that half who makes you whole and that goes for everything. Just because you fail once, doesn't mean you're gonna fail at everything. Keep trying, hold on, and always, always, always believe in yourself, because if you don't, then who will, sweetie? So keep your head high, keep your chin up, and most importantly, keep smiling, because life's a beautiful thing and there's so much to smile about.”\",\n",
       " '“It takes a great deal of bravery to stand up to our enemies, but just as much to stand up to our friends.”',\n",
       " \"“If you can't explain it to a six year old, you don't understand it yourself.”\",\n",
       " \"“You may not be her first, her last, or her only. She loved before she may love again. But if she loves you now, what else matters? She's not perfect—you aren't either, and the two of you may never be perfect together but if she can make you laugh, cause you to think twice, and admit to being human and making mistakes, hold onto her and give her the most you can. She may not be thinking about you every second of the day, but she will give you a part of her that she knows you can break—her heart. So don't hurt her, don't change her, don't analyze and don't expect more than she can give. Smile when she makes you happy, let her know when she makes you mad, and miss her when she's not there.”\",\n",
       " '“I like nonsense, it wakes up the brain cells. Fantasy is a necessary ingredient in living.”',\n",
       " '“I may not have gone where I intended to go, but I think I have ended up where I needed to be.”',\n",
       " \"“The opposite of love is not hate, it's indifference. The opposite of art is not ugliness, it's indifference. The opposite of faith is not heresy, it's indifference. And the opposite of life is not death, it's indifference.”\",\n",
       " '“It is not a lack of love, but a lack of friendship that makes unhappy marriages.”',\n",
       " '“Good friends, good books, and a sleepy conscience: this is the ideal life.”',\n",
       " '“Life is what happens to us while we are making other plans.”',\n",
       " '“I love you without knowing how, or when, or from where. I love you simply, without problems or pride: I love you in this way because I do not know any other way of loving but this, in which there is no I or you, so intimate that your hand upon my chest is my hand, so intimate that when I fall asleep your eyes close.”',\n",
       " '“For every minute you are angry you lose sixty seconds of happiness.”',\n",
       " '“If you judge people, you have no time to love them.”',\n",
       " '“Anyone who thinks sitting in church can make you a Christian must also think that sitting in a garage can make you a car.”',\n",
       " '“Beauty is in the eye of the beholder and it may be necessary from time to time to give a stupid or misinformed beholder a black eye.”',\n",
       " '“Today you are You, that is truer than true. There is no one alive who is Youer than You.”',\n",
       " '“If you want your children to be intelligent, read them fairy tales. If you want them to be more intelligent, read them more fairy tales.”',\n",
       " '“It is impossible to live without failing at something, unless you live so cautiously that you might as well not have lived at all - in which case, you fail by default.”',\n",
       " '“Logic will get you from A to Z; imagination will get you everywhere.”',\n",
       " '“One good thing about music, when it hits you, you feel no pain.”',\n",
       " \"“The more that you read, the more things you will know. The more that you learn, the more places you'll go.”\",\n",
       " '“Of course it is happening inside your head, Harry, but why on earth should that mean that it is not real?”',\n",
       " '“The truth is, everyone is going to hurt you. You just got to find the ones worth suffering for.”',\n",
       " '“Not all of us can do great things. But we can do small things with great love.”',\n",
       " '“To the well-organized mind, death is but the next great adventure.”',\n",
       " \"“All you need is love. But a little chocolate now and then doesn't hurt.”\",\n",
       " \"“We read to know we're not alone.”\",\n",
       " '“Any fool can know. The point is to understand.”',\n",
       " '“I have always imagined that Paradise will be a kind of library.”',\n",
       " '“It is never too late to be what you might have been.”',\n",
       " '“A reader lives a thousand lives before he dies, said Jojen. The man who never reads lives only one.”',\n",
       " '“You can never get a cup of tea large enough or a book long enough to suit me.”',\n",
       " '“You believe lies so you eventually learn to trust no one but yourself.”',\n",
       " '“If you can make a woman laugh, you can make her do anything.”',\n",
       " '“Life is like riding a bicycle. To keep your balance, you must keep moving.”',\n",
       " '“The real lover is the man who can thrill you by kissing your forehead or smiling into your eyes or just staring into space.”',\n",
       " \"“A wise girl kisses but doesn't love, listens but doesn't believe, and leaves before she is left.”\",\n",
       " '“Only in the darkness can you see the stars.”',\n",
       " '“It matters not what someone is born, but what they grow to be.”',\n",
       " '“Love does not begin and end the way we seem to think it does. Love is a battle, love is a war; love is a growing up.”',\n",
       " '“There is nothing I would not do for those who are really my friends. I have no notion of loving people by halves, it is not my nature.”',\n",
       " '“Do one thing every day that scares you.”',\n",
       " '“I am good, but not an angel. I do sin, but I am not the devil. I am just a small girl in a big world trying to find someone to love.”',\n",
       " '“If I were not a physicist, I would probably be a musician. I often think in music. I live my daydreams in music. I see my life in terms of music.”',\n",
       " '“If you only read the books that everyone else is reading, you can only think what everyone else is thinking.”',\n",
       " '“The difference between genius and stupidity is: genius has its limits.”',\n",
       " \"“He's like a drug for you, Bella.”\",\n",
       " '“There is no friend as loyal as a book.”',\n",
       " '“When one door of happiness closes, another opens; but often we look so long at the closed door that we do not see the one which has been opened for us.”',\n",
       " \"“Life isn't about finding yourself. Life is about creating yourself.”\",\n",
       " \"“That's the problem with drinking, I thought, as I poured myself a drink. If something bad happens you drink in an attempt to forget; if something good happens you drink in order to celebrate; and if nothing happens you drink to make something happen.”\",\n",
       " '“You don’t forget the face of the person who was your last hope.”',\n",
       " \"“Remember, we're madly in love, so it's all right to kiss me anytime you feel like it.”\",\n",
       " '“To love at all is to be vulnerable. Love anything and your heart will be wrung and possibly broken. If you want to make sure of keeping it intact you must give it to no one, not even an animal. Wrap it carefully round with hobbies and little luxuries; avoid all entanglements. Lock it up safe in the casket or coffin of your selfishness. But in that casket, safe, dark, motionless, airless, it will change. It will not be broken; it will become unbreakable, impenetrable, irredeemable. To love is to be vulnerable.”',\n",
       " '“Not all those who wander are lost.”',\n",
       " '“Do not pity the dead, Harry. Pity the living, and, above all those who live without love.”',\n",
       " '“There is nothing to writing. All you do is sit down at a typewriter and bleed.”',\n",
       " '“Finish each day and be done with it. You have done what you could. Some blunders and absurdities no doubt crept in; forget them as soon as you can. Tomorrow is a new day. You shall begin it serenely and with too high a spirit to be encumbered with your old nonsense.”',\n",
       " '“I have never let my schooling interfere with my education.”',\n",
       " \"“I have heard there are troubles of more than one kind. Some come from ahead and some come from behind. But I've bought a big bat. I'm all ready you see. Now my troubles are going to have troubles with me!”\",\n",
       " '“If I had a flower for every time I thought of you...I could walk through my garden forever.”',\n",
       " '“Some people never go crazy. What truly horrible lives they must lead.”',\n",
       " '“The trouble with having an open mind, of course, is that people will insist on coming along and trying to put things in it.”',\n",
       " '“Think left and think right and think low and think high. Oh, the thinks you can think up if only you try!”',\n",
       " \"“What really knocks me out is a book that, when you're all done reading it, you wish the author that wrote it was a terrific friend of yours and you could call him up on the phone whenever you felt like it. That doesn't happen much, though.”\",\n",
       " '“The reason I talk to myself is because I’m the only one whose answers I accept.”',\n",
       " \"“You may say I'm a dreamer, but I'm not the only one. I hope someday you'll join us. And the world will live as one.”\",\n",
       " '“I am free of all prejudice. I hate everyone equally. ”',\n",
       " \"“The question isn't who is going to let me; it's who is going to stop me.”\",\n",
       " \"“′Classic′ - a book which people praise and don't read.”\",\n",
       " '“Anyone who has never made a mistake has never tried anything new.”',\n",
       " \"“A lady's imagination is very rapid; it jumps from admiration to love, from love to matrimony in a moment.”\",\n",
       " '“Remember, if the time should come when you have to make a choice between what is right and what is easy, remember what happened to a boy who was good, and kind, and brave, because he strayed across the path of Lord Voldemort. Remember Cedric Diggory.”',\n",
       " '“I declare after all there is no enjoyment like reading! How much sooner one tires of any thing than of a book! -- When I have a house of my own, I shall be miserable if I have not an excellent library.”',\n",
       " '“There are few people whom I really love, and still fewer of whom I think well. The more I see of the world, the more am I dissatisfied with it; and every day confirms my belief of the inconsistency of all human characters, and of the little dependence that can be placed on the appearance of merit or sense.”',\n",
       " '“Some day you will be old enough to start reading fairy tales again.”',\n",
       " '“We are not necessarily doubting that God will do the best for us; we are wondering how painful the best will turn out to be.”',\n",
       " '“The fear of death follows from the fear of life. A man who lives fully is prepared to die at any time.”',\n",
       " '“A lie can travel half way around the world while the truth is putting on its shoes.”',\n",
       " '“I believe in Christianity as I believe that the sun has risen: not only because I see it, but because by it I see everything else.”',\n",
       " '“The truth.\" Dumbledore sighed. \"It is a beautiful and terrible thing, and should therefore be treated with great caution.”',\n",
       " \"“I'm the one that's got to die when it's time for me to die, so let me live my life the way I want to.”\",\n",
       " '“To die will be an awfully big adventure.”',\n",
       " '“It takes courage to grow up and become who you really are.”',\n",
       " '“But better to get hurt by the truth than comforted with a lie.”',\n",
       " '“You never really understand a person until you consider things from his point of view... Until you climb inside of his skin and walk around in it.”',\n",
       " '“You have to write the book that wants to be written. And if the book will be too difficult for grown-ups, then you write it for children.”',\n",
       " '“Never tell the truth to people who are not worthy of it.”',\n",
       " \"“A person's a person, no matter how small.”\",\n",
       " '“... a mind needs books as a sword needs a whetstone, if it is to keep its edge.”']"
      ]
     },
     "execution_count": 12,
     "metadata": {},
     "output_type": "execute_result"
    }
   ],
   "source": [
    "line #เรียกดู text quote ที่เก็บไว้ใน line"
   ]
  },
  {
   "cell_type": "code",
   "execution_count": 13,
   "metadata": {
    "scrolled": true
   },
   "outputs": [],
   "source": [
    "with open(\"tag.txt\", \"w\", encoding=\"utf-8\") as f:\n",
    "    for i in df['Tags']:\n",
    "        text = ''\n",
    "        for j in i:\n",
    "            text += j + \",\"\n",
    "        #print(text)\n",
    "        f.write(text+'\\n')"
   ]
  },
  {
   "cell_type": "code",
   "execution_count": 14,
   "metadata": {},
   "outputs": [
    {
     "name": "stdout",
     "output_type": "stream",
     "text": [
      "change,deep-thoughts,thinking,world,abilities,choices,inspirational,life,live,miracle,miracles,aliteracy,books,classic,humor,be-yourself,inspirational,adulthood,success,value,life,love,edison,failure,inspirational,paraphrased,misattributed-eleanor-roosevelt,humor,obvious,simile,friends,heartbreak,inspirational,life,love,sisters,courage,friends,simplicity,understand,love,fantasy,life,navigation,activism,apathy,hate,indifference,inspirational,love,opposite,philosophy,friendship,lack-of-friendship,lack-of-love,love,marriage,unhappy-marriage,books,contentment,friends,friendship,life,fate,life,misattributed-john-lennon,planning,plans,love,poetry,happiness,attributed-no-source,humor,religion,humor,comedy,life,yourself,children,fairy-tales,imagination,music,learning,reading,seuss,dumbledore,friendship,misattributed-to-mother-teresa,paraphrased,death,inspirational,chocolate,food,humor,misattributed-to-c-s-lewis,reading,knowledge,learning,understanding,wisdom,books,library,inspirational,read,readers,reading,reading-books,books,inspirational,reading,tea,girls,love,life,simile,love,attributed-no-source,hope,inspirational,dumbledore,love,friendship,love,attributed,fear,inspiration,attributed-no-source,music,books,thought,misattributed-to-einstein,drug,romance,simile,books,friends,novelist-quotes,inspirational,inspirational,life,yourself,alcohol,the-hunger-games,humor,love,bilbo,journey,lost,quest,travel,wander,live-death-love,good,writing,life,regrets,education,troubles,friendship,love,humor,humor,open-mind,thinking,humor,philosophy,authors,books,literature,reading,writing,humor,insanity,lies,lying,self-indulgence,truth,beatles,connection,dreamers,dreaming,dreams,hope,inspirational,peace,humor,sinister,books,classic,reading,mistakes,humor,love,romantic,women,integrity,books,library,reading,elizabeth-bennet,jane-austen,age,fairytales,growing-up,god,death,life,misattributed-mark-twain,truth,christianity,faith,religion,sun,truth,death,life,adventure,love,courage,life,better-life-empathy,books,children,difficult,grown-ups,write,writers,writing,truth,inspirational,books,mind,\n"
     ]
    }
   ],
   "source": [
    "fin = open('tag.txt', 'r', encoding='UTF-8') #ทำการดปิดไฟล์ และอ่านไฟล์\n",
    "raw = fin.readlines() #อ่านทีละบรรทัด\n",
    "rawdata =''\n",
    "for i in raw:\n",
    "    text = i.rstrip()\n",
    "    rawdata += text\n",
    "print(rawdata)"
   ]
  },
  {
   "cell_type": "code",
   "execution_count": 15,
   "metadata": {},
   "outputs": [
    {
     "name": "stdout",
     "output_type": "stream",
     "text": [
      "['change', 'deep', 'thoughts', 'thinking', 'world', 'abilities', 'choices', 'inspirational', 'life', 'live', 'miracle', 'miracles', 'aliteracy', 'books', 'classic', 'humor', 'be', 'yourself', 'inspirational', 'adulthood', 'success', 'value', 'life', 'love', 'edison', 'failure', 'inspirational', 'paraphrased', 'misattributed', 'eleanor', 'roosevelt', 'humor', 'obvious', 'simile', 'friends', 'heartbreak', 'inspirational', 'life', 'love', 'sisters', 'courage', 'friends', 'simplicity', 'understand', 'love', 'fantasy', 'life', 'navigation', 'activism', 'apathy', 'hate', 'indifference', 'inspirational', 'love', 'opposite', 'philosophy', 'friendship', 'lack', 'of', 'friendship', 'lack', 'of', 'love', 'love', 'marriage', 'unhappy', 'marriage', 'books', 'contentment', 'friends', 'friendship', 'life', 'fate', 'life', 'misattributed', 'john', 'lennon', 'planning', 'plans', 'love', 'poetry', 'happiness', 'attributed', 'no', 'source', 'humor', 'religion', 'humor', 'comedy', 'life', 'yourself', 'children', 'fairy', 'tales', 'imagination', 'music', 'learning', 'reading', 'seuss', 'dumbledore', 'friendship', 'misattributed', 'to', 'mother', 'teresa', 'paraphrased', 'death', 'inspirational', 'chocolate', 'food', 'humor', 'misattributed', 'to', 'lewis', 'reading', 'knowledge', 'learning', 'understanding', 'wisdom', 'books', 'library', 'inspirational', 'read', 'readers', 'reading', 'reading', 'books', 'books', 'inspirational', 'reading', 'tea', 'girls', 'love', 'life', 'simile', 'love', 'attributed', 'no', 'source', 'hope', 'inspirational', 'dumbledore', 'love', 'friendship', 'love', 'attributed', 'fear', 'inspiration', 'attributed', 'no', 'source', 'music', 'books', 'thought', 'misattributed', 'to', 'einstein', 'drug', 'romance', 'simile', 'books', 'friends', 'novelist', 'quotes', 'inspirational', 'inspirational', 'life', 'yourself', 'alcohol', 'the', 'hunger', 'games', 'humor', 'love', 'bilbo', 'journey', 'lost', 'quest', 'travel', 'wander', 'live', 'death', 'love', 'good', 'writing', 'life', 'regrets', 'education', 'troubles', 'friendship', 'love', 'humor', 'humor', 'open', 'mind', 'thinking', 'humor', 'philosophy', 'authors', 'books', 'literature', 'reading', 'writing', 'humor', 'insanity', 'lies', 'lying', 'self', 'indulgence', 'truth', 'beatles', 'connection', 'dreamers', 'dreaming', 'dreams', 'hope', 'inspirational', 'peace', 'humor', 'sinister', 'books', 'classic', 'reading', 'mistakes', 'humor', 'love', 'romantic', 'women', 'integrity', 'books', 'library', 'reading', 'elizabeth', 'bennet', 'jane', 'austen', 'age', 'fairytales', 'growing', 'up', 'god', 'death', 'life', 'misattributed', 'mark', 'twain', 'truth', 'christianity', 'faith', 'religion', 'sun', 'truth', 'death', 'life', 'adventure', 'love', 'courage', 'life', 'better', 'life', 'empathy', 'books', 'children', 'difficult', 'grown', 'ups', 'write', 'writers', 'writing', 'truth', 'inspirational', 'books', 'mind']\n"
     ]
    }
   ],
   "source": [
    "from sklearn.feature_extraction.text import CountVectorizer\n",
    "tokenize = CountVectorizer().build_tokenizer() #เครื่องมือในการsplitคำโดยตัดตัวแปลแปลกๆออก\n",
    "# convert to lowercase, then tokenize\n",
    "tokens1 = tokenize(rawdata.lower())\n",
    "print(tokens1)"
   ]
  },
  {
   "cell_type": "code",
   "execution_count": 113,
   "metadata": {},
   "outputs": [
    {
     "name": "stdout",
     "output_type": "stream",
     "text": [
      "[<a href=\"/author/Albert-Einstein\">(about)</a>, <a class=\"tag\" href=\"/tag/change/page/1/\">change</a>, <a class=\"tag\" href=\"/tag/deep-thoughts/page/1/\">deep-thoughts</a>, <a class=\"tag\" href=\"/tag/thinking/page/1/\">thinking</a>, <a class=\"tag\" href=\"/tag/world/page/1/\">world</a>]\n",
      "[<a href=\"/author/J-K-Rowling\">(about)</a>, <a class=\"tag\" href=\"/tag/abilities/page/1/\">abilities</a>, <a class=\"tag\" href=\"/tag/choices/page/1/\">choices</a>]\n",
      "[<a href=\"/author/Albert-Einstein\">(about)</a>, <a class=\"tag\" href=\"/tag/inspirational/page/1/\">inspirational</a>, <a class=\"tag\" href=\"/tag/life/page/1/\">life</a>, <a class=\"tag\" href=\"/tag/live/page/1/\">live</a>, <a class=\"tag\" href=\"/tag/miracle/page/1/\">miracle</a>, <a class=\"tag\" href=\"/tag/miracles/page/1/\">miracles</a>]\n",
      "[<a href=\"/author/Jane-Austen\">(about)</a>, <a class=\"tag\" href=\"/tag/aliteracy/page/1/\">aliteracy</a>, <a class=\"tag\" href=\"/tag/books/page/1/\">books</a>, <a class=\"tag\" href=\"/tag/classic/page/1/\">classic</a>, <a class=\"tag\" href=\"/tag/humor/page/1/\">humor</a>]\n",
      "[<a href=\"/author/Marilyn-Monroe\">(about)</a>, <a class=\"tag\" href=\"/tag/be-yourself/page/1/\">be-yourself</a>, <a class=\"tag\" href=\"/tag/inspirational/page/1/\">inspirational</a>]\n",
      "[<a href=\"/author/Albert-Einstein\">(about)</a>, <a class=\"tag\" href=\"/tag/adulthood/page/1/\">adulthood</a>, <a class=\"tag\" href=\"/tag/success/page/1/\">success</a>, <a class=\"tag\" href=\"/tag/value/page/1/\">value</a>]\n",
      "[<a href=\"/author/Andre-Gide\">(about)</a>, <a class=\"tag\" href=\"/tag/life/page/1/\">life</a>, <a class=\"tag\" href=\"/tag/love/page/1/\">love</a>]\n",
      "[<a href=\"/author/Thomas-A-Edison\">(about)</a>, <a class=\"tag\" href=\"/tag/edison/page/1/\">edison</a>, <a class=\"tag\" href=\"/tag/failure/page/1/\">failure</a>, <a class=\"tag\" href=\"/tag/inspirational/page/1/\">inspirational</a>, <a class=\"tag\" href=\"/tag/paraphrased/page/1/\">paraphrased</a>]\n",
      "[<a href=\"/author/Eleanor-Roosevelt\">(about)</a>, <a class=\"tag\" href=\"/tag/misattributed-eleanor-roosevelt/page/1/\">misattributed-eleanor-roosevelt</a>]\n",
      "[<a href=\"/author/Steve-Martin\">(about)</a>, <a class=\"tag\" href=\"/tag/humor/page/1/\">humor</a>, <a class=\"tag\" href=\"/tag/obvious/page/1/\">obvious</a>, <a class=\"tag\" href=\"/tag/simile/page/1/\">simile</a>]\n",
      "[<a href=\"/author/Marilyn-Monroe\">(about)</a>, <a class=\"tag\" href=\"/tag/friends/page/1/\">friends</a>, <a class=\"tag\" href=\"/tag/heartbreak/page/1/\">heartbreak</a>, <a class=\"tag\" href=\"/tag/inspirational/page/1/\">inspirational</a>, <a class=\"tag\" href=\"/tag/life/page/1/\">life</a>, <a class=\"tag\" href=\"/tag/love/page/1/\">love</a>, <a class=\"tag\" href=\"/tag/sisters/page/1/\">sisters</a>]\n",
      "[<a href=\"/author/J-K-Rowling\">(about)</a>, <a class=\"tag\" href=\"/tag/courage/page/1/\">courage</a>, <a class=\"tag\" href=\"/tag/friends/page/1/\">friends</a>]\n",
      "[<a href=\"/author/Albert-Einstein\">(about)</a>, <a class=\"tag\" href=\"/tag/simplicity/page/1/\">simplicity</a>, <a class=\"tag\" href=\"/tag/understand/page/1/\">understand</a>]\n",
      "[<a href=\"/author/Bob-Marley\">(about)</a>, <a class=\"tag\" href=\"/tag/love/page/1/\">love</a>]\n",
      "[<a href=\"/author/Dr-Seuss\">(about)</a>, <a class=\"tag\" href=\"/tag/fantasy/page/1/\">fantasy</a>]\n",
      "[<a href=\"/author/Douglas-Adams\">(about)</a>, <a class=\"tag\" href=\"/tag/life/page/1/\">life</a>, <a class=\"tag\" href=\"/tag/navigation/page/1/\">navigation</a>]\n",
      "[<a href=\"/author/Elie-Wiesel\">(about)</a>, <a class=\"tag\" href=\"/tag/activism/page/1/\">activism</a>, <a class=\"tag\" href=\"/tag/apathy/page/1/\">apathy</a>, <a class=\"tag\" href=\"/tag/hate/page/1/\">hate</a>, <a class=\"tag\" href=\"/tag/indifference/page/1/\">indifference</a>, <a class=\"tag\" href=\"/tag/inspirational/page/1/\">inspirational</a>, <a class=\"tag\" href=\"/tag/love/page/1/\">love</a>, <a class=\"tag\" href=\"/tag/opposite/page/1/\">opposite</a>, <a class=\"tag\" href=\"/tag/philosophy/page/1/\">philosophy</a>]\n",
      "[<a href=\"/author/Friedrich-Nietzsche\">(about)</a>, <a class=\"tag\" href=\"/tag/friendship/page/1/\">friendship</a>, <a class=\"tag\" href=\"/tag/lack-of-friendship/page/1/\">lack-of-friendship</a>, <a class=\"tag\" href=\"/tag/lack-of-love/page/1/\">lack-of-love</a>, <a class=\"tag\" href=\"/tag/love/page/1/\">love</a>, <a class=\"tag\" href=\"/tag/marriage/page/1/\">marriage</a>, <a class=\"tag\" href=\"/tag/unhappy-marriage/page/1/\">unhappy-marriage</a>]\n",
      "[<a href=\"/author/Mark-Twain\">(about)</a>, <a class=\"tag\" href=\"/tag/books/page/1/\">books</a>, <a class=\"tag\" href=\"/tag/contentment/page/1/\">contentment</a>, <a class=\"tag\" href=\"/tag/friends/page/1/\">friends</a>, <a class=\"tag\" href=\"/tag/friendship/page/1/\">friendship</a>, <a class=\"tag\" href=\"/tag/life/page/1/\">life</a>]\n",
      "[<a href=\"/author/Allen-Saunders\">(about)</a>, <a class=\"tag\" href=\"/tag/fate/page/1/\">fate</a>, <a class=\"tag\" href=\"/tag/life/page/1/\">life</a>, <a class=\"tag\" href=\"/tag/misattributed-john-lennon/page/1/\">misattributed-john-lennon</a>, <a class=\"tag\" href=\"/tag/planning/page/1/\">planning</a>, <a class=\"tag\" href=\"/tag/plans/page/1/\">plans</a>]\n",
      "[<a href=\"/author/Pablo-Neruda\">(about)</a>, <a class=\"tag\" href=\"/tag/love/page/1/\">love</a>, <a class=\"tag\" href=\"/tag/poetry/page/1/\">poetry</a>]\n",
      "[<a href=\"/author/Ralph-Waldo-Emerson\">(about)</a>, <a class=\"tag\" href=\"/tag/happiness/page/1/\">happiness</a>]\n",
      "[<a href=\"/author/Mother-Teresa\">(about)</a>, <a class=\"tag\" href=\"/tag/attributed-no-source/page/1/\">attributed-no-source</a>]\n",
      "[<a href=\"/author/Garrison-Keillor\">(about)</a>, <a class=\"tag\" href=\"/tag/humor/page/1/\">humor</a>, <a class=\"tag\" href=\"/tag/religion/page/1/\">religion</a>]\n",
      "[<a href=\"/author/Jim-Henson\">(about)</a>, <a class=\"tag\" href=\"/tag/humor/page/1/\">humor</a>]\n",
      "[<a href=\"/author/Dr-Seuss\">(about)</a>, <a class=\"tag\" href=\"/tag/comedy/page/1/\">comedy</a>, <a class=\"tag\" href=\"/tag/life/page/1/\">life</a>, <a class=\"tag\" href=\"/tag/yourself/page/1/\">yourself</a>]\n",
      "[<a href=\"/author/Albert-Einstein\">(about)</a>, <a class=\"tag\" href=\"/tag/children/page/1/\">children</a>, <a class=\"tag\" href=\"/tag/fairy-tales/page/1/\">fairy-tales</a>]\n",
      "[<a href=\"/author/J-K-Rowling\">(about)</a>]\n",
      "[<a href=\"/author/Albert-Einstein\">(about)</a>, <a class=\"tag\" href=\"/tag/imagination/page/1/\">imagination</a>]\n",
      "[<a href=\"/author/Bob-Marley\">(about)</a>, <a class=\"tag\" href=\"/tag/music/page/1/\">music</a>]\n",
      "[<a href=\"/author/Dr-Seuss\">(about)</a>, <a class=\"tag\" href=\"/tag/learning/page/1/\">learning</a>, <a class=\"tag\" href=\"/tag/reading/page/1/\">reading</a>, <a class=\"tag\" href=\"/tag/seuss/page/1/\">seuss</a>]\n",
      "[<a href=\"/author/J-K-Rowling\">(about)</a>, <a class=\"tag\" href=\"/tag/dumbledore/page/1/\">dumbledore</a>]\n",
      "[<a href=\"/author/Bob-Marley\">(about)</a>, <a class=\"tag\" href=\"/tag/friendship/page/1/\">friendship</a>]\n",
      "[<a href=\"/author/Mother-Teresa\">(about)</a>, <a class=\"tag\" href=\"/tag/misattributed-to-mother-teresa/page/1/\">misattributed-to-mother-teresa</a>, <a class=\"tag\" href=\"/tag/paraphrased/page/1/\">paraphrased</a>]\n",
      "[<a href=\"/author/J-K-Rowling\">(about)</a>, <a class=\"tag\" href=\"/tag/death/page/1/\">death</a>, <a class=\"tag\" href=\"/tag/inspirational/page/1/\">inspirational</a>]\n",
      "[<a href=\"/author/Charles-M-Schulz\">(about)</a>, <a class=\"tag\" href=\"/tag/chocolate/page/1/\">chocolate</a>, <a class=\"tag\" href=\"/tag/food/page/1/\">food</a>, <a class=\"tag\" href=\"/tag/humor/page/1/\">humor</a>]\n",
      "[<a href=\"/author/William-Nicholson\">(about)</a>, <a class=\"tag\" href=\"/tag/misattributed-to-c-s-lewis/page/1/\">misattributed-to-c-s-lewis</a>, <a class=\"tag\" href=\"/tag/reading/page/1/\">reading</a>]\n",
      "[<a href=\"/author/Albert-Einstein\">(about)</a>, <a class=\"tag\" href=\"/tag/knowledge/page/1/\">knowledge</a>, <a class=\"tag\" href=\"/tag/learning/page/1/\">learning</a>, <a class=\"tag\" href=\"/tag/understanding/page/1/\">understanding</a>, <a class=\"tag\" href=\"/tag/wisdom/page/1/\">wisdom</a>]\n",
      "[<a href=\"/author/Jorge-Luis-Borges\">(about)</a>, <a class=\"tag\" href=\"/tag/books/page/1/\">books</a>, <a class=\"tag\" href=\"/tag/library/page/1/\">library</a>]\n",
      "[<a href=\"/author/George-Eliot\">(about)</a>, <a class=\"tag\" href=\"/tag/inspirational/page/1/\">inspirational</a>]\n",
      "[<a href=\"/author/George-R-R-Martin\">(about)</a>, <a class=\"tag\" href=\"/tag/read/page/1/\">read</a>, <a class=\"tag\" href=\"/tag/readers/page/1/\">readers</a>, <a class=\"tag\" href=\"/tag/reading/page/1/\">reading</a>, <a class=\"tag\" href=\"/tag/reading-books/page/1/\">reading-books</a>]\n",
      "[<a href=\"/author/C-S-Lewis\">(about)</a>, <a class=\"tag\" href=\"/tag/books/page/1/\">books</a>, <a class=\"tag\" href=\"/tag/inspirational/page/1/\">inspirational</a>, <a class=\"tag\" href=\"/tag/reading/page/1/\">reading</a>, <a class=\"tag\" href=\"/tag/tea/page/1/\">tea</a>]\n",
      "[<a href=\"/author/Marilyn-Monroe\">(about)</a>]\n",
      "[<a href=\"/author/Marilyn-Monroe\">(about)</a>, <a class=\"tag\" href=\"/tag/girls/page/1/\">girls</a>, <a class=\"tag\" href=\"/tag/love/page/1/\">love</a>]\n",
      "[<a href=\"/author/Albert-Einstein\">(about)</a>, <a class=\"tag\" href=\"/tag/life/page/1/\">life</a>, <a class=\"tag\" href=\"/tag/simile/page/1/\">simile</a>]\n",
      "[<a href=\"/author/Marilyn-Monroe\">(about)</a>, <a class=\"tag\" href=\"/tag/love/page/1/\">love</a>]\n",
      "[<a href=\"/author/Marilyn-Monroe\">(about)</a>, <a class=\"tag\" href=\"/tag/attributed-no-source/page/1/\">attributed-no-source</a>]\n",
      "[<a href=\"/author/Martin-Luther-King-Jr\">(about)</a>, <a class=\"tag\" href=\"/tag/hope/page/1/\">hope</a>, <a class=\"tag\" href=\"/tag/inspirational/page/1/\">inspirational</a>]\n",
      "[<a href=\"/author/J-K-Rowling\">(about)</a>, <a class=\"tag\" href=\"/tag/dumbledore/page/1/\">dumbledore</a>]\n",
      "[<a href=\"/author/James-Baldwin\">(about)</a>, <a class=\"tag\" href=\"/tag/love/page/1/\">love</a>]\n"
     ]
    },
    {
     "name": "stdout",
     "output_type": "stream",
     "text": [
      "[<a href=\"/author/Jane-Austen\">(about)</a>, <a class=\"tag\" href=\"/tag/friendship/page/1/\">friendship</a>, <a class=\"tag\" href=\"/tag/love/page/1/\">love</a>]\n",
      "[<a href=\"/author/Eleanor-Roosevelt\">(about)</a>, <a class=\"tag\" href=\"/tag/attributed/page/1/\">attributed</a>, <a class=\"tag\" href=\"/tag/fear/page/1/\">fear</a>, <a class=\"tag\" href=\"/tag/inspiration/page/1/\">inspiration</a>]\n",
      "[<a href=\"/author/Marilyn-Monroe\">(about)</a>, <a class=\"tag\" href=\"/tag/attributed-no-source/page/1/\">attributed-no-source</a>]\n",
      "[<a href=\"/author/Albert-Einstein\">(about)</a>, <a class=\"tag\" href=\"/tag/music/page/1/\">music</a>]\n",
      "[<a href=\"/author/Haruki-Murakami\">(about)</a>, <a class=\"tag\" href=\"/tag/books/page/1/\">books</a>, <a class=\"tag\" href=\"/tag/thought/page/1/\">thought</a>]\n",
      "[<a href=\"/author/Alexandre-Dumas-fils\">(about)</a>, <a class=\"tag\" href=\"/tag/misattributed-to-einstein/page/1/\">misattributed-to-einstein</a>]\n",
      "[<a href=\"/author/Stephenie-Meyer\">(about)</a>, <a class=\"tag\" href=\"/tag/drug/page/1/\">drug</a>, <a class=\"tag\" href=\"/tag/romance/page/1/\">romance</a>, <a class=\"tag\" href=\"/tag/simile/page/1/\">simile</a>]\n",
      "[<a href=\"/author/Ernest-Hemingway\">(about)</a>, <a class=\"tag\" href=\"/tag/books/page/1/\">books</a>, <a class=\"tag\" href=\"/tag/friends/page/1/\">friends</a>, <a class=\"tag\" href=\"/tag/novelist-quotes/page/1/\">novelist-quotes</a>]\n",
      "[<a href=\"/author/Helen-Keller\">(about)</a>, <a class=\"tag\" href=\"/tag/inspirational/page/1/\">inspirational</a>]\n",
      "[<a href=\"/author/George-Bernard-Shaw\">(about)</a>, <a class=\"tag\" href=\"/tag/inspirational/page/1/\">inspirational</a>, <a class=\"tag\" href=\"/tag/life/page/1/\">life</a>, <a class=\"tag\" href=\"/tag/yourself/page/1/\">yourself</a>]\n",
      "[<a href=\"/author/Charles-Bukowski\">(about)</a>, <a class=\"tag\" href=\"/tag/alcohol/page/1/\">alcohol</a>]\n",
      "[<a href=\"/author/Suzanne-Collins\">(about)</a>, <a class=\"tag\" href=\"/tag/the-hunger-games/page/1/\">the-hunger-games</a>]\n",
      "[<a href=\"/author/Suzanne-Collins\">(about)</a>, <a class=\"tag\" href=\"/tag/humor/page/1/\">humor</a>]\n",
      "[<a href=\"/author/C-S-Lewis\">(about)</a>, <a class=\"tag\" href=\"/tag/love/page/1/\">love</a>]\n",
      "[<a href=\"/author/J-R-R-Tolkien\">(about)</a>, <a class=\"tag\" href=\"/tag/bilbo/page/1/\">bilbo</a>, <a class=\"tag\" href=\"/tag/journey/page/1/\">journey</a>, <a class=\"tag\" href=\"/tag/lost/page/1/\">lost</a>, <a class=\"tag\" href=\"/tag/quest/page/1/\">quest</a>, <a class=\"tag\" href=\"/tag/travel/page/1/\">travel</a>, <a class=\"tag\" href=\"/tag/wander/page/1/\">wander</a>]\n",
      "[<a href=\"/author/J-K-Rowling\">(about)</a>, <a class=\"tag\" href=\"/tag/live-death-love/page/1/\">live-death-love</a>]\n",
      "[<a href=\"/author/Ernest-Hemingway\">(about)</a>, <a class=\"tag\" href=\"/tag/good/page/1/\">good</a>, <a class=\"tag\" href=\"/tag/writing/page/1/\">writing</a>]\n",
      "[<a href=\"/author/Ralph-Waldo-Emerson\">(about)</a>, <a class=\"tag\" href=\"/tag/life/page/1/\">life</a>, <a class=\"tag\" href=\"/tag/regrets/page/1/\">regrets</a>]\n",
      "[<a href=\"/author/Mark-Twain\">(about)</a>, <a class=\"tag\" href=\"/tag/education/page/1/\">education</a>]\n",
      "[<a href=\"/author/Dr-Seuss\">(about)</a>, <a class=\"tag\" href=\"/tag/troubles/page/1/\">troubles</a>]\n",
      "[<a href=\"/author/Alfred-Tennyson\">(about)</a>, <a class=\"tag\" href=\"/tag/friendship/page/1/\">friendship</a>, <a class=\"tag\" href=\"/tag/love/page/1/\">love</a>]\n",
      "[<a href=\"/author/Charles-Bukowski\">(about)</a>, <a class=\"tag\" href=\"/tag/humor/page/1/\">humor</a>]\n",
      "[<a href=\"/author/Terry-Pratchett\">(about)</a>, <a class=\"tag\" href=\"/tag/humor/page/1/\">humor</a>, <a class=\"tag\" href=\"/tag/open-mind/page/1/\">open-mind</a>, <a class=\"tag\" href=\"/tag/thinking/page/1/\">thinking</a>]\n",
      "[<a href=\"/author/Dr-Seuss\">(about)</a>, <a class=\"tag\" href=\"/tag/humor/page/1/\">humor</a>, <a class=\"tag\" href=\"/tag/philosophy/page/1/\">philosophy</a>]\n",
      "[<a href=\"/author/J-D-Salinger\">(about)</a>, <a class=\"tag\" href=\"/tag/authors/page/1/\">authors</a>, <a class=\"tag\" href=\"/tag/books/page/1/\">books</a>, <a class=\"tag\" href=\"/tag/literature/page/1/\">literature</a>, <a class=\"tag\" href=\"/tag/reading/page/1/\">reading</a>, <a class=\"tag\" href=\"/tag/writing/page/1/\">writing</a>]\n",
      "[<a href=\"/author/George-Carlin\">(about)</a>, <a class=\"tag\" href=\"/tag/humor/page/1/\">humor</a>, <a class=\"tag\" href=\"/tag/insanity/page/1/\">insanity</a>, <a class=\"tag\" href=\"/tag/lies/page/1/\">lies</a>, <a class=\"tag\" href=\"/tag/lying/page/1/\">lying</a>, <a class=\"tag\" href=\"/tag/self-indulgence/page/1/\">self-indulgence</a>, <a class=\"tag\" href=\"/tag/truth/page/1/\">truth</a>]\n",
      "[<a href=\"/author/John-Lennon\">(about)</a>, <a class=\"tag\" href=\"/tag/beatles/page/1/\">beatles</a>, <a class=\"tag\" href=\"/tag/connection/page/1/\">connection</a>, <a class=\"tag\" href=\"/tag/dreamers/page/1/\">dreamers</a>, <a class=\"tag\" href=\"/tag/dreaming/page/1/\">dreaming</a>, <a class=\"tag\" href=\"/tag/dreams/page/1/\">dreams</a>, <a class=\"tag\" href=\"/tag/hope/page/1/\">hope</a>, <a class=\"tag\" href=\"/tag/inspirational/page/1/\">inspirational</a>, <a class=\"tag\" href=\"/tag/peace/page/1/\">peace</a>]\n",
      "[<a href=\"/author/W-C-Fields\">(about)</a>, <a class=\"tag\" href=\"/tag/humor/page/1/\">humor</a>, <a class=\"tag\" href=\"/tag/sinister/page/1/\">sinister</a>]\n",
      "[<a href=\"/author/Ayn-Rand\">(about)</a>]\n",
      "[<a href=\"/author/Mark-Twain\">(about)</a>, <a class=\"tag\" href=\"/tag/books/page/1/\">books</a>, <a class=\"tag\" href=\"/tag/classic/page/1/\">classic</a>, <a class=\"tag\" href=\"/tag/reading/page/1/\">reading</a>]\n",
      "[<a href=\"/author/Albert-Einstein\">(about)</a>, <a class=\"tag\" href=\"/tag/mistakes/page/1/\">mistakes</a>]\n",
      "[<a href=\"/author/Jane-Austen\">(about)</a>, <a class=\"tag\" href=\"/tag/humor/page/1/\">humor</a>, <a class=\"tag\" href=\"/tag/love/page/1/\">love</a>, <a class=\"tag\" href=\"/tag/romantic/page/1/\">romantic</a>, <a class=\"tag\" href=\"/tag/women/page/1/\">women</a>]\n",
      "[<a href=\"/author/J-K-Rowling\">(about)</a>, <a class=\"tag\" href=\"/tag/integrity/page/1/\">integrity</a>]\n",
      "[<a href=\"/author/Jane-Austen\">(about)</a>, <a class=\"tag\" href=\"/tag/books/page/1/\">books</a>, <a class=\"tag\" href=\"/tag/library/page/1/\">library</a>, <a class=\"tag\" href=\"/tag/reading/page/1/\">reading</a>]\n",
      "[<a href=\"/author/Jane-Austen\">(about)</a>, <a class=\"tag\" href=\"/tag/elizabeth-bennet/page/1/\">elizabeth-bennet</a>, <a class=\"tag\" href=\"/tag/jane-austen/page/1/\">jane-austen</a>]\n",
      "[<a href=\"/author/C-S-Lewis\">(about)</a>, <a class=\"tag\" href=\"/tag/age/page/1/\">age</a>, <a class=\"tag\" href=\"/tag/fairytales/page/1/\">fairytales</a>, <a class=\"tag\" href=\"/tag/growing-up/page/1/\">growing-up</a>]\n",
      "[<a href=\"/author/C-S-Lewis\">(about)</a>, <a class=\"tag\" href=\"/tag/god/page/1/\">god</a>]\n",
      "[<a href=\"/author/Mark-Twain\">(about)</a>, <a class=\"tag\" href=\"/tag/death/page/1/\">death</a>, <a class=\"tag\" href=\"/tag/life/page/1/\">life</a>]\n",
      "[<a href=\"/author/Mark-Twain\">(about)</a>, <a class=\"tag\" href=\"/tag/misattributed-mark-twain/page/1/\">misattributed-mark-twain</a>, <a class=\"tag\" href=\"/tag/truth/page/1/\">truth</a>]\n",
      "[<a href=\"/author/C-S-Lewis\">(about)</a>, <a class=\"tag\" href=\"/tag/christianity/page/1/\">christianity</a>, <a class=\"tag\" href=\"/tag/faith/page/1/\">faith</a>, <a class=\"tag\" href=\"/tag/religion/page/1/\">religion</a>, <a class=\"tag\" href=\"/tag/sun/page/1/\">sun</a>]\n",
      "[<a href=\"/author/J-K-Rowling\">(about)</a>, <a class=\"tag\" href=\"/tag/truth/page/1/\">truth</a>]\n",
      "[<a href=\"/author/Jimi-Hendrix\">(about)</a>, <a class=\"tag\" href=\"/tag/death/page/1/\">death</a>, <a class=\"tag\" href=\"/tag/life/page/1/\">life</a>]\n",
      "[<a href=\"/author/J-M-Barrie\">(about)</a>, <a class=\"tag\" href=\"/tag/adventure/page/1/\">adventure</a>, <a class=\"tag\" href=\"/tag/love/page/1/\">love</a>]\n",
      "[<a href=\"/author/E-E-Cummings\">(about)</a>, <a class=\"tag\" href=\"/tag/courage/page/1/\">courage</a>]\n",
      "[<a href=\"/author/Khaled-Hosseini\">(about)</a>, <a class=\"tag\" href=\"/tag/life/page/1/\">life</a>]\n",
      "[<a href=\"/author/Harper-Lee\">(about)</a>, <a class=\"tag\" href=\"/tag/better-life-empathy/page/1/\">better-life-empathy</a>]\n",
      "[<a href=\"/author/Madeleine-LEngle\">(about)</a>, <a class=\"tag\" href=\"/tag/books/page/1/\">books</a>, <a class=\"tag\" href=\"/tag/children/page/1/\">children</a>, <a class=\"tag\" href=\"/tag/difficult/page/1/\">difficult</a>, <a class=\"tag\" href=\"/tag/grown-ups/page/1/\">grown-ups</a>, <a class=\"tag\" href=\"/tag/write/page/1/\">write</a>, <a class=\"tag\" href=\"/tag/writers/page/1/\">writers</a>, <a class=\"tag\" href=\"/tag/writing/page/1/\">writing</a>]\n",
      "[<a href=\"/author/Mark-Twain\">(about)</a>, <a class=\"tag\" href=\"/tag/truth/page/1/\">truth</a>]\n",
      "[<a href=\"/author/Dr-Seuss\">(about)</a>, <a class=\"tag\" href=\"/tag/inspirational/page/1/\">inspirational</a>]\n",
      "[<a href=\"/author/George-R-R-Martin\">(about)</a>, <a class=\"tag\" href=\"/tag/books/page/1/\">books</a>, <a class=\"tag\" href=\"/tag/mind/page/1/\">mind</a>]\n"
     ]
    }
   ],
   "source": [
    "lst_tags = [] #สร้าง list มาเพื่อเก็บ tag\n",
    "for i in lstpage:\n",
    "    reqq = requests.get(i)   \n",
    "    soupq = BeautifulSoup(reqq.content, 'html.parser')\n",
    "    quotes = soupq.find_all('div', class_='quote')  \n",
    "    for q in quotes:\n",
    "        print(q.find_all('a'))\n",
    "        tag = []\n",
    "        for j in q.find_all('a',class_='tag'):\n",
    "              tag.append(j.text)\n",
    "        tags.append(tag) #เรียก tag ในแต่ละ quote"
   ]
  },
  {
   "cell_type": "code",
   "execution_count": 106,
   "metadata": {},
   "outputs": [],
   "source": [
    "file = open('C:/Users/thunyaluck/Desktop/quote/datastore/quotes.txt','w',encoding=\"utf-8\") \n",
    "for i in line:\n",
    "    file.writelines(i+'\\n') \n",
    "file.close()"
   ]
  },
  {
   "cell_type": "code",
   "execution_count": 107,
   "metadata": {},
   "outputs": [
    {
     "name": "stdout",
     "output_type": "stream",
     "text": [
      "Read 100 raw text documents\n"
     ]
    }
   ],
   "source": [
    "fin = open('C:/Users/thunyaluck/Downloads/ds4biz-assign2/datastore/quotes.txt', 'r', encoding='UTF-8') #ทำการดปิดไฟล์ และอ่านไฟล์\n",
    "raw = fin.readlines() #อ่านทีละบรรทัด\n",
    "fin.close()\n",
    "print(\"Read %d raw text documents\" % len(raw))"
   ]
  },
  {
   "cell_type": "code",
   "execution_count": 108,
   "metadata": {},
   "outputs": [],
   "source": [
    "file = open('C:/Users/thunyaluck/Desktop/quote/target/tag.txt','w',encoding=\"utf-8\") \n",
    "for i in tags:\n",
    "    x = ','.join(str(x) for x in i)\n",
    "    file.writelines(x+'\\n') \n",
    "file.close()"
   ]
  },
  {
   "cell_type": "code",
   "execution_count": 109,
   "metadata": {},
   "outputs": [
    {
     "name": "stdout",
     "output_type": "stream",
     "text": [
      "Read 100 raw text documents\n"
     ]
    }
   ],
   "source": [
    "fin = open('C:/Users/thunyaluck/Downloads/ds4biz-assign2/target/tag.txt', 'r', encoding='UTF-8') #ทำการดปิดไฟล์ และอ่านไฟล์\n",
    "raw = fin.readlines() #อ่านทีละบรรทัด\n",
    "fin.close()\n",
    "print(\"Read %d raw text documents\" % len(raw))"
   ]
  },
  {
   "cell_type": "markdown",
   "metadata": {},
   "source": [
    "# Term Weighting"
   ]
  },
  {
   "cell_type": "code",
   "execution_count": 17,
   "metadata": {
    "scrolled": true
   },
   "outputs": [
    {
     "name": "stdout",
     "output_type": "stream",
     "text": [
      "  (0, 19)\t1.0\n",
      "  (2, 7)\t0.6592779466037926\n",
      "  (2, 9)\t0.7518993211340775\n",
      "  (3, 3)\t1.0\n",
      "  (7, 4)\t1.0\n",
      "  (8, 5)\t0.7297599850512536\n",
      "  (8, 8)\t0.6837034183167392\n",
      "  (9, 1)\t0.6037284973895782\n",
      "  (9, 5)\t0.5817573649270407\n",
      "  (9, 8)\t0.5450415303377056\n",
      "  (10, 15)\t0.22712786304351262\n",
      "  (10, 6)\t0.22712786304351262\n",
      "  (10, 2)\t0.45425572608702525\n",
      "  (10, 18)\t0.21797049755805145\n",
      "  (10, 11)\t0.42007605352238897\n",
      "  (10, 8)\t0.19678211989527714\n",
      "  (10, 4)\t0.4359409951161029\n",
      "  (10, 3)\t0.21003802676119449\n",
      "  (10, 7)\t0.3822403824850753\n",
      "  (10, 19)\t0.21797049755805145\n",
      "  (11, 4)\t1.0\n",
      "  (12, 2)\t1.0\n",
      "  (13, 16)\t0.19515397203453164\n",
      "  (13, 10)\t0.16230200689821378\n",
      "  (13, 6)\t0.21830509417787516\n",
      "  :\t:\n",
      "  (83, 15)\t0.6118036669624952\n",
      "  (83, 8)\t0.5300627625837325\n",
      "  (84, 14)\t0.44503644692884065\n",
      "  (84, 12)\t0.41155046279742047\n",
      "  (84, 16)\t0.3978406030577204\n",
      "  (84, 10)\t0.33086863479487993\n",
      "  (84, 1)\t0.42709341984150484\n",
      "  (84, 19)\t0.42709341984150484\n",
      "  (85, 1)\t1.0\n",
      "  (87, 17)\t0.7518993211340775\n",
      "  (87, 7)\t0.6592779466037926\n",
      "  (88, 18)\t0.7071067811865476\n",
      "  (88, 19)\t0.7071067811865476\n",
      "  (90, 15)\t0.721501973006662\n",
      "  (90, 18)\t0.6924123792563893\n",
      "  (91, 17)\t0.5093432254210128\n",
      "  (91, 6)\t0.5307417271677075\n",
      "  (91, 7)\t0.4466006901903279\n",
      "  (91, 9)\t0.5093432254210128\n",
      "  (93, 14)\t1.0\n",
      "  (94, 18)\t1.0\n",
      "  (95, 14)\t1.0\n",
      "  (96, 0)\t1.0\n",
      "  (97, 12)\t0.6938824991939403\n",
      "  (97, 18)\t0.720088242726106\n"
     ]
    }
   ],
   "source": [
    "from sklearn.feature_extraction.text import TfidfVectorizer\n",
    "# we can pass in the same preprocessing parameters\n",
    "vectorizer = TfidfVectorizer(stop_words=\"english\",min_df = 5) #ทำการถ่วงน้ำหนักและstop wordเพื่อตัดคำที่ไม่จำเป็นออกจากเนื้อหาของข่าว\n",
    "X = vectorizer.fit_transform(line)\n",
    "# display some sample weighted values\n",
    "print(X)"
   ]
  },
  {
   "cell_type": "markdown",
   "metadata": {},
   "source": [
    "# สร้างโมเดล โดยใช้วิธีการ  Holdout Splitting"
   ]
  },
  {
   "cell_type": "code",
   "execution_count": 18,
   "metadata": {
    "scrolled": true
   },
   "outputs": [
    {
     "data": {
      "text/html": [
       "<div>\n",
       "<style scoped>\n",
       "    .dataframe tbody tr th:only-of-type {\n",
       "        vertical-align: middle;\n",
       "    }\n",
       "\n",
       "    .dataframe tbody tr th {\n",
       "        vertical-align: top;\n",
       "    }\n",
       "\n",
       "    .dataframe thead th {\n",
       "        text-align: right;\n",
       "    }\n",
       "</style>\n",
       "<table border=\"1\" class=\"dataframe\">\n",
       "  <thead>\n",
       "    <tr style=\"text-align: right;\">\n",
       "      <th></th>\n",
       "      <th>quote</th>\n",
       "      <th>Tags</th>\n",
       "      <th>abilities</th>\n",
       "      <th>activism</th>\n",
       "      <th>adulthood</th>\n",
       "      <th>adventure</th>\n",
       "      <th>age</th>\n",
       "      <th>alcohol</th>\n",
       "      <th>aliteracy</th>\n",
       "      <th>apathy</th>\n",
       "      <th>...</th>\n",
       "      <th>unhappy-marriage</th>\n",
       "      <th>value</th>\n",
       "      <th>wander</th>\n",
       "      <th>wisdom</th>\n",
       "      <th>women</th>\n",
       "      <th>world</th>\n",
       "      <th>write</th>\n",
       "      <th>writers</th>\n",
       "      <th>writing</th>\n",
       "      <th>yourself</th>\n",
       "    </tr>\n",
       "  </thead>\n",
       "  <tbody>\n",
       "    <tr>\n",
       "      <th>0</th>\n",
       "      <td>“The world as we have created it is a process ...</td>\n",
       "      <td>[change, deep-thoughts, thinking, world]</td>\n",
       "      <td>0</td>\n",
       "      <td>0</td>\n",
       "      <td>0</td>\n",
       "      <td>0</td>\n",
       "      <td>0</td>\n",
       "      <td>0</td>\n",
       "      <td>0</td>\n",
       "      <td>0</td>\n",
       "      <td>...</td>\n",
       "      <td>0</td>\n",
       "      <td>0</td>\n",
       "      <td>0</td>\n",
       "      <td>0</td>\n",
       "      <td>0</td>\n",
       "      <td>1</td>\n",
       "      <td>0</td>\n",
       "      <td>0</td>\n",
       "      <td>0</td>\n",
       "      <td>0</td>\n",
       "    </tr>\n",
       "    <tr>\n",
       "      <th>1</th>\n",
       "      <td>“It is our choices, Harry, that show what we t...</td>\n",
       "      <td>[abilities, choices]</td>\n",
       "      <td>1</td>\n",
       "      <td>0</td>\n",
       "      <td>0</td>\n",
       "      <td>0</td>\n",
       "      <td>0</td>\n",
       "      <td>0</td>\n",
       "      <td>0</td>\n",
       "      <td>0</td>\n",
       "      <td>...</td>\n",
       "      <td>0</td>\n",
       "      <td>0</td>\n",
       "      <td>0</td>\n",
       "      <td>0</td>\n",
       "      <td>0</td>\n",
       "      <td>0</td>\n",
       "      <td>0</td>\n",
       "      <td>0</td>\n",
       "      <td>0</td>\n",
       "      <td>0</td>\n",
       "    </tr>\n",
       "    <tr>\n",
       "      <th>2</th>\n",
       "      <td>“There are only two ways to live your life. On...</td>\n",
       "      <td>[inspirational, life, live, miracle, miracles]</td>\n",
       "      <td>0</td>\n",
       "      <td>0</td>\n",
       "      <td>0</td>\n",
       "      <td>0</td>\n",
       "      <td>0</td>\n",
       "      <td>0</td>\n",
       "      <td>0</td>\n",
       "      <td>0</td>\n",
       "      <td>...</td>\n",
       "      <td>0</td>\n",
       "      <td>0</td>\n",
       "      <td>0</td>\n",
       "      <td>0</td>\n",
       "      <td>0</td>\n",
       "      <td>0</td>\n",
       "      <td>0</td>\n",
       "      <td>0</td>\n",
       "      <td>0</td>\n",
       "      <td>0</td>\n",
       "    </tr>\n",
       "    <tr>\n",
       "      <th>3</th>\n",
       "      <td>“The person, be it gentleman or lady, who has ...</td>\n",
       "      <td>[aliteracy, books, classic, humor]</td>\n",
       "      <td>0</td>\n",
       "      <td>0</td>\n",
       "      <td>0</td>\n",
       "      <td>0</td>\n",
       "      <td>0</td>\n",
       "      <td>0</td>\n",
       "      <td>1</td>\n",
       "      <td>0</td>\n",
       "      <td>...</td>\n",
       "      <td>0</td>\n",
       "      <td>0</td>\n",
       "      <td>0</td>\n",
       "      <td>0</td>\n",
       "      <td>0</td>\n",
       "      <td>0</td>\n",
       "      <td>0</td>\n",
       "      <td>0</td>\n",
       "      <td>0</td>\n",
       "      <td>0</td>\n",
       "    </tr>\n",
       "    <tr>\n",
       "      <th>4</th>\n",
       "      <td>“Imperfection is beauty, madness is genius and...</td>\n",
       "      <td>[be-yourself, inspirational]</td>\n",
       "      <td>0</td>\n",
       "      <td>0</td>\n",
       "      <td>0</td>\n",
       "      <td>0</td>\n",
       "      <td>0</td>\n",
       "      <td>0</td>\n",
       "      <td>0</td>\n",
       "      <td>0</td>\n",
       "      <td>...</td>\n",
       "      <td>0</td>\n",
       "      <td>0</td>\n",
       "      <td>0</td>\n",
       "      <td>0</td>\n",
       "      <td>0</td>\n",
       "      <td>0</td>\n",
       "      <td>0</td>\n",
       "      <td>0</td>\n",
       "      <td>0</td>\n",
       "      <td>0</td>\n",
       "    </tr>\n",
       "    <tr>\n",
       "      <th>...</th>\n",
       "      <td>...</td>\n",
       "      <td>...</td>\n",
       "      <td>...</td>\n",
       "      <td>...</td>\n",
       "      <td>...</td>\n",
       "      <td>...</td>\n",
       "      <td>...</td>\n",
       "      <td>...</td>\n",
       "      <td>...</td>\n",
       "      <td>...</td>\n",
       "      <td>...</td>\n",
       "      <td>...</td>\n",
       "      <td>...</td>\n",
       "      <td>...</td>\n",
       "      <td>...</td>\n",
       "      <td>...</td>\n",
       "      <td>...</td>\n",
       "      <td>...</td>\n",
       "      <td>...</td>\n",
       "      <td>...</td>\n",
       "      <td>...</td>\n",
       "    </tr>\n",
       "    <tr>\n",
       "      <th>95</th>\n",
       "      <td>“You never really understand a person until yo...</td>\n",
       "      <td>[better-life-empathy]</td>\n",
       "      <td>0</td>\n",
       "      <td>0</td>\n",
       "      <td>0</td>\n",
       "      <td>0</td>\n",
       "      <td>0</td>\n",
       "      <td>0</td>\n",
       "      <td>0</td>\n",
       "      <td>0</td>\n",
       "      <td>...</td>\n",
       "      <td>0</td>\n",
       "      <td>0</td>\n",
       "      <td>0</td>\n",
       "      <td>0</td>\n",
       "      <td>0</td>\n",
       "      <td>0</td>\n",
       "      <td>0</td>\n",
       "      <td>0</td>\n",
       "      <td>0</td>\n",
       "      <td>0</td>\n",
       "    </tr>\n",
       "    <tr>\n",
       "      <th>96</th>\n",
       "      <td>“You have to write the book that wants to be w...</td>\n",
       "      <td>[books, children, difficult, grown-ups, write,...</td>\n",
       "      <td>0</td>\n",
       "      <td>0</td>\n",
       "      <td>0</td>\n",
       "      <td>0</td>\n",
       "      <td>0</td>\n",
       "      <td>0</td>\n",
       "      <td>0</td>\n",
       "      <td>0</td>\n",
       "      <td>...</td>\n",
       "      <td>0</td>\n",
       "      <td>0</td>\n",
       "      <td>0</td>\n",
       "      <td>0</td>\n",
       "      <td>0</td>\n",
       "      <td>0</td>\n",
       "      <td>1</td>\n",
       "      <td>1</td>\n",
       "      <td>1</td>\n",
       "      <td>0</td>\n",
       "    </tr>\n",
       "    <tr>\n",
       "      <th>97</th>\n",
       "      <td>“Never tell the truth to people who are not wo...</td>\n",
       "      <td>[truth]</td>\n",
       "      <td>0</td>\n",
       "      <td>0</td>\n",
       "      <td>0</td>\n",
       "      <td>0</td>\n",
       "      <td>0</td>\n",
       "      <td>0</td>\n",
       "      <td>0</td>\n",
       "      <td>0</td>\n",
       "      <td>...</td>\n",
       "      <td>0</td>\n",
       "      <td>0</td>\n",
       "      <td>0</td>\n",
       "      <td>0</td>\n",
       "      <td>0</td>\n",
       "      <td>0</td>\n",
       "      <td>0</td>\n",
       "      <td>0</td>\n",
       "      <td>0</td>\n",
       "      <td>0</td>\n",
       "    </tr>\n",
       "    <tr>\n",
       "      <th>98</th>\n",
       "      <td>“A person's a person, no matter how small.”</td>\n",
       "      <td>[inspirational]</td>\n",
       "      <td>0</td>\n",
       "      <td>0</td>\n",
       "      <td>0</td>\n",
       "      <td>0</td>\n",
       "      <td>0</td>\n",
       "      <td>0</td>\n",
       "      <td>0</td>\n",
       "      <td>0</td>\n",
       "      <td>...</td>\n",
       "      <td>0</td>\n",
       "      <td>0</td>\n",
       "      <td>0</td>\n",
       "      <td>0</td>\n",
       "      <td>0</td>\n",
       "      <td>0</td>\n",
       "      <td>0</td>\n",
       "      <td>0</td>\n",
       "      <td>0</td>\n",
       "      <td>0</td>\n",
       "    </tr>\n",
       "    <tr>\n",
       "      <th>99</th>\n",
       "      <td>“... a mind needs books as a sword needs a whe...</td>\n",
       "      <td>[books, mind]</td>\n",
       "      <td>0</td>\n",
       "      <td>0</td>\n",
       "      <td>0</td>\n",
       "      <td>0</td>\n",
       "      <td>0</td>\n",
       "      <td>0</td>\n",
       "      <td>0</td>\n",
       "      <td>0</td>\n",
       "      <td>...</td>\n",
       "      <td>0</td>\n",
       "      <td>0</td>\n",
       "      <td>0</td>\n",
       "      <td>0</td>\n",
       "      <td>0</td>\n",
       "      <td>0</td>\n",
       "      <td>0</td>\n",
       "      <td>0</td>\n",
       "      <td>0</td>\n",
       "      <td>0</td>\n",
       "    </tr>\n",
       "  </tbody>\n",
       "</table>\n",
       "<p>100 rows × 139 columns</p>\n",
       "</div>"
      ],
      "text/plain": [
       "                                                quote  \\\n",
       "0   “The world as we have created it is a process ...   \n",
       "1   “It is our choices, Harry, that show what we t...   \n",
       "2   “There are only two ways to live your life. On...   \n",
       "3   “The person, be it gentleman or lady, who has ...   \n",
       "4   “Imperfection is beauty, madness is genius and...   \n",
       "..                                                ...   \n",
       "95  “You never really understand a person until yo...   \n",
       "96  “You have to write the book that wants to be w...   \n",
       "97  “Never tell the truth to people who are not wo...   \n",
       "98        “A person's a person, no matter how small.”   \n",
       "99  “... a mind needs books as a sword needs a whe...   \n",
       "\n",
       "                                                 Tags  abilities  activism  \\\n",
       "0            [change, deep-thoughts, thinking, world]          0         0   \n",
       "1                                [abilities, choices]          1         0   \n",
       "2      [inspirational, life, live, miracle, miracles]          0         0   \n",
       "3                  [aliteracy, books, classic, humor]          0         0   \n",
       "4                        [be-yourself, inspirational]          0         0   \n",
       "..                                                ...        ...       ...   \n",
       "95                              [better-life-empathy]          0         0   \n",
       "96  [books, children, difficult, grown-ups, write,...          0         0   \n",
       "97                                            [truth]          0         0   \n",
       "98                                    [inspirational]          0         0   \n",
       "99                                      [books, mind]          0         0   \n",
       "\n",
       "    adulthood  adventure  age  alcohol  aliteracy  apathy  ...  \\\n",
       "0           0          0    0        0          0       0  ...   \n",
       "1           0          0    0        0          0       0  ...   \n",
       "2           0          0    0        0          0       0  ...   \n",
       "3           0          0    0        0          1       0  ...   \n",
       "4           0          0    0        0          0       0  ...   \n",
       "..        ...        ...  ...      ...        ...     ...  ...   \n",
       "95          0          0    0        0          0       0  ...   \n",
       "96          0          0    0        0          0       0  ...   \n",
       "97          0          0    0        0          0       0  ...   \n",
       "98          0          0    0        0          0       0  ...   \n",
       "99          0          0    0        0          0       0  ...   \n",
       "\n",
       "    unhappy-marriage  value  wander  wisdom  women  world  write  writers  \\\n",
       "0                  0      0       0       0      0      1      0        0   \n",
       "1                  0      0       0       0      0      0      0        0   \n",
       "2                  0      0       0       0      0      0      0        0   \n",
       "3                  0      0       0       0      0      0      0        0   \n",
       "4                  0      0       0       0      0      0      0        0   \n",
       "..               ...    ...     ...     ...    ...    ...    ...      ...   \n",
       "95                 0      0       0       0      0      0      0        0   \n",
       "96                 0      0       0       0      0      0      1        1   \n",
       "97                 0      0       0       0      0      0      0        0   \n",
       "98                 0      0       0       0      0      0      0        0   \n",
       "99                 0      0       0       0      0      0      0        0   \n",
       "\n",
       "    writing  yourself  \n",
       "0         0         0  \n",
       "1         0         0  \n",
       "2         0         0  \n",
       "3         0         0  \n",
       "4         0         0  \n",
       "..      ...       ...  \n",
       "95        0         0  \n",
       "96        1         0  \n",
       "97        0         0  \n",
       "98        0         0  \n",
       "99        0         0  \n",
       "\n",
       "[100 rows x 139 columns]"
      ]
     },
     "execution_count": 18,
     "metadata": {},
     "output_type": "execute_result"
    }
   ],
   "source": [
    "#เอา tag แต่ละอันมาทำเป็น 0, 1\n",
    "from sklearn.preprocessing import MultiLabelBinarizer\n",
    "mlb = MultiLabelBinarizer() \n",
    "binary_labels=pd.DataFrame(mlb.fit_transform(tags),columns=mlb.classes_) \n",
    "df = df.merge(binary_labels, how='inner', left_index=True, right_index=True)\n",
    "df"
   ]
  },
  {
   "cell_type": "markdown",
   "metadata": {},
   "source": [
    "Top 15 Tags"
   ]
  },
  {
   "cell_type": "code",
   "execution_count": 19,
   "metadata": {},
   "outputs": [
    {
     "data": {
      "text/plain": [
       "love             14\n",
       "inspirational    13\n",
       "life             13\n",
       "humor            12\n",
       "books            11\n",
       "reading           7\n",
       "friendship        5\n",
       "friends           4\n",
       "truth             4\n",
       "death             3\n",
       "simile            3\n",
       "writing           3\n",
       "children          2\n",
       "classic           2\n",
       "courage           2\n",
       "dtype: int64"
      ]
     },
     "execution_count": 19,
     "metadata": {},
     "output_type": "execute_result"
    }
   ],
   "source": [
    "#หา tag top 15 \n",
    "df.iloc[:,12:].sum().nlargest(15)"
   ]
  },
  {
   "cell_type": "markdown",
   "metadata": {},
   "source": [
    "ทำการทำนายค่า x กับค่า y ของ tags แต่ละตัวว่ามี accuracy เท่าไหร่บ้าง"
   ]
  },
  {
   "cell_type": "code",
   "execution_count": 190,
   "metadata": {},
   "outputs": [],
   "source": [
    "Y = df['love']"
   ]
  },
  {
   "cell_type": "code",
   "execution_count": 191,
   "metadata": {},
   "outputs": [],
   "source": [
    "from sklearn.model_selection import train_test_split\n",
    "from sklearn import metrics\n",
    "X_train, X_test, y_train, y_test = train_test_split(X, Y, test_size=0.3, random_state=101) #แบ่งชุดข้อมูลเป็นแบบ train,test"
   ]
  },
  {
   "cell_type": "markdown",
   "metadata": {},
   "source": [
    "K-Nearest Neighbors"
   ]
  },
  {
   "cell_type": "code",
   "execution_count": 192,
   "metadata": {},
   "outputs": [
    {
     "name": "stdout",
     "output_type": "stream",
     "text": [
      "Accuracy of KNN = 76.67 percent\n"
     ]
    }
   ],
   "source": [
    "from sklearn.neighbors import KNeighborsClassifier\n",
    "classifier = KNeighborsClassifier()\n",
    "classifier.fit(X_train, y_train)\n",
    "classifier_pred = classifier.predict(X_test)\n",
    "print(\"Accuracy of KNN = %.2f percent\"% (metrics.accuracy_score(y_test,classifier_pred)*100))"
   ]
  },
  {
   "cell_type": "markdown",
   "metadata": {},
   "source": [
    "Naive Bayes"
   ]
  },
  {
   "cell_type": "code",
   "execution_count": 193,
   "metadata": {
    "scrolled": true
   },
   "outputs": [
    {
     "name": "stdout",
     "output_type": "stream",
     "text": [
      "Accuracy of KNN = 73.33 percent\n"
     ]
    }
   ],
   "source": [
    "from sklearn.naive_bayes import BernoulliNB\n",
    "naive = BernoulliNB(alpha=0.2)\n",
    "naive.fit(X_train, y_train)\n",
    "naive_pred = naive.predict(X_test)\n",
    "print(\"Accuracy of KNN = %.2f percent\"% (metrics.accuracy_score(y_test,naive_pred)*100))"
   ]
  },
  {
   "cell_type": "markdown",
   "metadata": {},
   "source": [
    "SVM"
   ]
  },
  {
   "cell_type": "code",
   "execution_count": 194,
   "metadata": {},
   "outputs": [
    {
     "name": "stdout",
     "output_type": "stream",
     "text": [
      "Accuracy of SVM = 80.00 percent\n"
     ]
    }
   ],
   "source": [
    "from sklearn import svm\n",
    "svm = svm.SVC(C=1, kernel='linear')\n",
    "svm.fit(X_train, y_train)\n",
    "svm_pred = svm.predict(X_test)\n",
    "print(\"Accuracy of SVM = %0.2f percent\" % (metrics.accuracy_score(y_test,svm_pred)*100))"
   ]
  },
  {
   "cell_type": "markdown",
   "metadata": {},
   "source": [
    "Decision Tree"
   ]
  },
  {
   "cell_type": "code",
   "execution_count": 195,
   "metadata": {},
   "outputs": [
    {
     "name": "stdout",
     "output_type": "stream",
     "text": [
      "Accuracy of Decision tree = 83.33 percent\n"
     ]
    }
   ],
   "source": [
    "from sklearn.tree import DecisionTreeClassifier\n",
    "decision_tree = DecisionTreeClassifier()\n",
    "decision_tree.fit(X_train, y_train)\n",
    "decision_tree_pred = decision_tree.predict(X_test)\n",
    "print(\"Accuracy of Decision tree = %0.2f percent\" % (metrics.accuracy_score(y_test,decision_tree_pred)*100))"
   ]
  },
  {
   "cell_type": "code",
   "execution_count": 20,
   "metadata": {},
   "outputs": [],
   "source": [
    "Y1 = df['inspirational']"
   ]
  },
  {
   "cell_type": "code",
   "execution_count": 21,
   "metadata": {},
   "outputs": [],
   "source": [
    "from sklearn.model_selection import train_test_split\n",
    "from sklearn import metrics\n",
    "X_train, X_test, y_train, y_test = train_test_split(X, Y1, test_size=0.3, random_state=101) #แบ่งชุดข้อมูลเป็นแบบ train,test"
   ]
  },
  {
   "cell_type": "markdown",
   "metadata": {},
   "source": [
    "K-Nearest Neighbors"
   ]
  },
  {
   "cell_type": "code",
   "execution_count": 22,
   "metadata": {},
   "outputs": [
    {
     "name": "stdout",
     "output_type": "stream",
     "text": [
      "Accuracy of KNN = 83.33 percent\n"
     ]
    }
   ],
   "source": [
    "from sklearn.neighbors import KNeighborsClassifier\n",
    "classifier = KNeighborsClassifier()\n",
    "classifier.fit(X_train, y_train)\n",
    "classifier_pred = classifier.predict(X_test)\n",
    "print(\"Accuracy of KNN = %.2f percent\"% (metrics.accuracy_score(y_test,classifier_pred)*100))"
   ]
  },
  {
   "cell_type": "markdown",
   "metadata": {},
   "source": [
    "Naive Bayes"
   ]
  },
  {
   "cell_type": "code",
   "execution_count": 23,
   "metadata": {},
   "outputs": [
    {
     "name": "stdout",
     "output_type": "stream",
     "text": [
      "Accuracy of KNN = 70.00 percent\n"
     ]
    }
   ],
   "source": [
    "from sklearn.naive_bayes import BernoulliNB\n",
    "naive = BernoulliNB(alpha=0.2)\n",
    "naive.fit(X_train, y_train)\n",
    "naive_pred = naive.predict(X_test)\n",
    "print(\"Accuracy of KNN = %.2f percent\"% (metrics.accuracy_score(y_test,naive_pred)*100))"
   ]
  },
  {
   "cell_type": "markdown",
   "metadata": {},
   "source": [
    "SVM"
   ]
  },
  {
   "cell_type": "code",
   "execution_count": 24,
   "metadata": {},
   "outputs": [
    {
     "name": "stdout",
     "output_type": "stream",
     "text": [
      "Accuracy of SVM = 83.33 percent\n"
     ]
    }
   ],
   "source": [
    "from sklearn import svm\n",
    "svm = svm.SVC(C=1, kernel='linear')\n",
    "svm.fit(X_train, y_train)\n",
    "svm_pred = svm.predict(X_test)\n",
    "print(\"Accuracy of SVM = %0.2f percent\" % (metrics.accuracy_score(y_test,svm_pred)*100))"
   ]
  },
  {
   "cell_type": "markdown",
   "metadata": {},
   "source": [
    "Decision Tree"
   ]
  },
  {
   "cell_type": "code",
   "execution_count": 25,
   "metadata": {},
   "outputs": [
    {
     "name": "stdout",
     "output_type": "stream",
     "text": [
      "Accuracy of Decision tree = 70.00 percent\n"
     ]
    }
   ],
   "source": [
    "from sklearn.tree import DecisionTreeClassifier\n",
    "decision_tree = DecisionTreeClassifier()\n",
    "decision_tree.fit(X_train, y_train)\n",
    "decision_tree_pred = decision_tree.predict(X_test)\n",
    "print(\"Accuracy of Decision tree = %0.2f percent\" % (metrics.accuracy_score(y_test,decision_tree_pred)*100))"
   ]
  },
  {
   "cell_type": "code",
   "execution_count": 27,
   "metadata": {},
   "outputs": [],
   "source": [
    "Y2 = df['life']"
   ]
  },
  {
   "cell_type": "code",
   "execution_count": 28,
   "metadata": {},
   "outputs": [],
   "source": [
    "from sklearn.model_selection import train_test_split\n",
    "from sklearn import metrics\n",
    "X_train, X_test, y_train, y_test = train_test_split(X, Y2, test_size=0.3, random_state=101) #แบ่งชุดข้อมูลเป็นแบบ train,test"
   ]
  },
  {
   "cell_type": "markdown",
   "metadata": {},
   "source": [
    "K-Nearest Neighbors"
   ]
  },
  {
   "cell_type": "code",
   "execution_count": 29,
   "metadata": {},
   "outputs": [
    {
     "name": "stdout",
     "output_type": "stream",
     "text": [
      "Accuracy of KNN = 83.33 percent\n"
     ]
    }
   ],
   "source": [
    "from sklearn.neighbors import KNeighborsClassifier\n",
    "classifier = KNeighborsClassifier()\n",
    "classifier.fit(X_train, y_train)\n",
    "classifier_pred = classifier.predict(X_test)\n",
    "print(\"Accuracy of KNN = %.2f percent\"% (metrics.accuracy_score(y_test,classifier_pred)*100))"
   ]
  },
  {
   "cell_type": "markdown",
   "metadata": {},
   "source": [
    "Naive Bayes"
   ]
  },
  {
   "cell_type": "code",
   "execution_count": 30,
   "metadata": {},
   "outputs": [
    {
     "name": "stdout",
     "output_type": "stream",
     "text": [
      "Accuracy of KNN = 86.67 percent\n"
     ]
    }
   ],
   "source": [
    "from sklearn.naive_bayes import BernoulliNB\n",
    "naive = BernoulliNB(alpha=0.2)\n",
    "naive.fit(X_train, y_train)\n",
    "naive_pred = naive.predict(X_test)\n",
    "print(\"Accuracy of KNN = %.2f percent\"% (metrics.accuracy_score(y_test,naive_pred)*100))"
   ]
  },
  {
   "cell_type": "markdown",
   "metadata": {},
   "source": [
    "SVM"
   ]
  },
  {
   "cell_type": "code",
   "execution_count": 31,
   "metadata": {},
   "outputs": [
    {
     "name": "stdout",
     "output_type": "stream",
     "text": [
      "Accuracy of SVM = 80.00 percent\n"
     ]
    }
   ],
   "source": [
    "from sklearn import svm\n",
    "svm = svm.SVC(C=1, kernel='linear')\n",
    "svm.fit(X_train, y_train)\n",
    "svm_pred = svm.predict(X_test)\n",
    "print(\"Accuracy of SVM = %0.2f percent\" % (metrics.accuracy_score(y_test,svm_pred)*100))"
   ]
  },
  {
   "cell_type": "markdown",
   "metadata": {},
   "source": [
    "Decision Tree"
   ]
  },
  {
   "cell_type": "code",
   "execution_count": 32,
   "metadata": {},
   "outputs": [
    {
     "name": "stdout",
     "output_type": "stream",
     "text": [
      "Accuracy of Decision tree = 86.67 percent\n"
     ]
    }
   ],
   "source": [
    "from sklearn.tree import DecisionTreeClassifier\n",
    "decision_tree = DecisionTreeClassifier()\n",
    "decision_tree.fit(X_train, y_train)\n",
    "decision_tree_pred = decision_tree.predict(X_test)\n",
    "print(\"Accuracy of Decision tree = %0.2f percent\" % (metrics.accuracy_score(y_test,decision_tree_pred)*100))"
   ]
  },
  {
   "cell_type": "code",
   "execution_count": 33,
   "metadata": {},
   "outputs": [],
   "source": [
    "Y3 = df['humor']"
   ]
  },
  {
   "cell_type": "code",
   "execution_count": 34,
   "metadata": {},
   "outputs": [],
   "source": [
    "from sklearn.model_selection import train_test_split\n",
    "from sklearn import metrics\n",
    "X_train, X_test, y_train, y_test = train_test_split(X, Y3, test_size=0.3, random_state=101) #แบ่งชุดข้อมูลเป็นแบบ train,test"
   ]
  },
  {
   "cell_type": "markdown",
   "metadata": {},
   "source": [
    "K-Nearest Neighbors"
   ]
  },
  {
   "cell_type": "code",
   "execution_count": 35,
   "metadata": {},
   "outputs": [
    {
     "name": "stdout",
     "output_type": "stream",
     "text": [
      "Accuracy of KNN = 96.67 percent\n"
     ]
    }
   ],
   "source": [
    "from sklearn.neighbors import KNeighborsClassifier\n",
    "classifier = KNeighborsClassifier()\n",
    "classifier.fit(X_train, y_train)\n",
    "classifier_pred = classifier.predict(X_test)\n",
    "print(\"Accuracy of KNN = %.2f percent\"% (metrics.accuracy_score(y_test,classifier_pred)*100))"
   ]
  },
  {
   "cell_type": "markdown",
   "metadata": {},
   "source": [
    "Naive Bayes"
   ]
  },
  {
   "cell_type": "code",
   "execution_count": 36,
   "metadata": {},
   "outputs": [
    {
     "name": "stdout",
     "output_type": "stream",
     "text": [
      "Accuracy of KNN = 90.00 percent\n"
     ]
    }
   ],
   "source": [
    "from sklearn.naive_bayes import BernoulliNB\n",
    "naive = BernoulliNB(alpha=0.2)\n",
    "naive.fit(X_train, y_train)\n",
    "naive_pred = naive.predict(X_test)\n",
    "print(\"Accuracy of KNN = %.2f percent\"% (metrics.accuracy_score(y_test,naive_pred)*100))"
   ]
  },
  {
   "cell_type": "markdown",
   "metadata": {},
   "source": [
    "SVM"
   ]
  },
  {
   "cell_type": "code",
   "execution_count": 37,
   "metadata": {},
   "outputs": [
    {
     "name": "stdout",
     "output_type": "stream",
     "text": [
      "Accuracy of SVM = 96.67 percent\n"
     ]
    }
   ],
   "source": [
    "from sklearn import svm\n",
    "svm = svm.SVC(C=1, kernel='linear')\n",
    "svm.fit(X_train, y_train)\n",
    "svm_pred = svm.predict(X_test)\n",
    "print(\"Accuracy of SVM = %0.2f percent\" % (metrics.accuracy_score(y_test,svm_pred)*100))"
   ]
  },
  {
   "cell_type": "markdown",
   "metadata": {},
   "source": [
    "Decision Tree"
   ]
  },
  {
   "cell_type": "code",
   "execution_count": 38,
   "metadata": {},
   "outputs": [
    {
     "name": "stdout",
     "output_type": "stream",
     "text": [
      "Accuracy of Decision tree = 83.33 percent\n"
     ]
    }
   ],
   "source": [
    "from sklearn.tree import DecisionTreeClassifier\n",
    "decision_tree = DecisionTreeClassifier()\n",
    "decision_tree.fit(X_train, y_train)\n",
    "decision_tree_pred = decision_tree.predict(X_test)\n",
    "print(\"Accuracy of Decision tree = %0.2f percent\" % (metrics.accuracy_score(y_test,decision_tree_pred)*100))"
   ]
  },
  {
   "cell_type": "code",
   "execution_count": 39,
   "metadata": {},
   "outputs": [],
   "source": [
    "Y4 = df['books']"
   ]
  },
  {
   "cell_type": "code",
   "execution_count": 40,
   "metadata": {},
   "outputs": [],
   "source": [
    "from sklearn.model_selection import train_test_split\n",
    "from sklearn import metrics\n",
    "X_train, X_test, y_train, y_test = train_test_split(X, Y4, test_size=0.3, random_state=101) #แบ่งชุดข้อมูลเป็นแบบ train,test"
   ]
  },
  {
   "cell_type": "markdown",
   "metadata": {},
   "source": [
    "K-Nearest Neighbors"
   ]
  },
  {
   "cell_type": "code",
   "execution_count": 41,
   "metadata": {},
   "outputs": [
    {
     "name": "stdout",
     "output_type": "stream",
     "text": [
      "Accuracy of KNN = 93.33 percent\n"
     ]
    }
   ],
   "source": [
    "from sklearn.neighbors import KNeighborsClassifier\n",
    "classifier = KNeighborsClassifier()\n",
    "classifier.fit(X_train, y_train)\n",
    "classifier_pred = classifier.predict(X_test)\n",
    "print(\"Accuracy of KNN = %.2f percent\"% (metrics.accuracy_score(y_test,classifier_pred)*100))"
   ]
  },
  {
   "cell_type": "markdown",
   "metadata": {},
   "source": [
    "Naive Bayes"
   ]
  },
  {
   "cell_type": "code",
   "execution_count": 42,
   "metadata": {},
   "outputs": [
    {
     "name": "stdout",
     "output_type": "stream",
     "text": [
      "Accuracy of KNN = 93.33 percent\n"
     ]
    }
   ],
   "source": [
    "from sklearn.naive_bayes import BernoulliNB\n",
    "naive = BernoulliNB(alpha=0.2)\n",
    "naive.fit(X_train, y_train)\n",
    "naive_pred = naive.predict(X_test)\n",
    "print(\"Accuracy of KNN = %.2f percent\"% (metrics.accuracy_score(y_test,naive_pred)*100))"
   ]
  },
  {
   "cell_type": "markdown",
   "metadata": {},
   "source": [
    "SVM"
   ]
  },
  {
   "cell_type": "code",
   "execution_count": 43,
   "metadata": {},
   "outputs": [
    {
     "name": "stdout",
     "output_type": "stream",
     "text": [
      "Accuracy of SVM = 93.33 percent\n"
     ]
    }
   ],
   "source": [
    "from sklearn import svm\n",
    "svm = svm.SVC(C=1, kernel='linear')\n",
    "svm.fit(X_train, y_train)\n",
    "svm_pred = svm.predict(X_test)\n",
    "print(\"Accuracy of SVM = %0.2f percent\" % (metrics.accuracy_score(y_test,svm_pred)*100))"
   ]
  },
  {
   "cell_type": "markdown",
   "metadata": {},
   "source": [
    "Decision Tree"
   ]
  },
  {
   "cell_type": "code",
   "execution_count": 44,
   "metadata": {},
   "outputs": [
    {
     "name": "stdout",
     "output_type": "stream",
     "text": [
      "Accuracy of Decision tree = 96.67 percent\n"
     ]
    }
   ],
   "source": [
    "from sklearn.tree import DecisionTreeClassifier\n",
    "decision_tree = DecisionTreeClassifier()\n",
    "decision_tree.fit(X_train, y_train)\n",
    "decision_tree_pred = decision_tree.predict(X_test)\n",
    "print(\"Accuracy of Decision tree = %0.2f percent\" % (metrics.accuracy_score(y_test,decision_tree_pred)*100))"
   ]
  },
  {
   "cell_type": "code",
   "execution_count": 45,
   "metadata": {},
   "outputs": [],
   "source": [
    "Y5 = df['reading']"
   ]
  },
  {
   "cell_type": "code",
   "execution_count": 46,
   "metadata": {},
   "outputs": [],
   "source": [
    "from sklearn.model_selection import train_test_split\n",
    "from sklearn import metrics\n",
    "X_train, X_test, y_train, y_test = train_test_split(X, Y5, test_size=0.3, random_state=101) #แบ่งชุดข้อมูลเป็นแบบ train,test"
   ]
  },
  {
   "cell_type": "markdown",
   "metadata": {},
   "source": [
    "K-Nearest Neighbors"
   ]
  },
  {
   "cell_type": "code",
   "execution_count": 47,
   "metadata": {},
   "outputs": [
    {
     "name": "stdout",
     "output_type": "stream",
     "text": [
      "Accuracy of KNN = 96.67 percent\n"
     ]
    }
   ],
   "source": [
    "from sklearn.neighbors import KNeighborsClassifier\n",
    "classifier = KNeighborsClassifier()\n",
    "classifier.fit(X_train, y_train)\n",
    "classifier_pred = classifier.predict(X_test)\n",
    "print(\"Accuracy of KNN = %.2f percent\"% (metrics.accuracy_score(y_test,classifier_pred)*100))"
   ]
  },
  {
   "cell_type": "markdown",
   "metadata": {},
   "source": [
    "Naive Bayes"
   ]
  },
  {
   "cell_type": "code",
   "execution_count": 48,
   "metadata": {},
   "outputs": [
    {
     "name": "stdout",
     "output_type": "stream",
     "text": [
      "Accuracy of KNN = 96.67 percent\n"
     ]
    }
   ],
   "source": [
    "from sklearn.naive_bayes import BernoulliNB\n",
    "naive = BernoulliNB(alpha=0.2)\n",
    "naive.fit(X_train, y_train)\n",
    "naive_pred = naive.predict(X_test)\n",
    "print(\"Accuracy of KNN = %.2f percent\"% (metrics.accuracy_score(y_test,naive_pred)*100))"
   ]
  },
  {
   "cell_type": "markdown",
   "metadata": {},
   "source": [
    "SVM"
   ]
  },
  {
   "cell_type": "code",
   "execution_count": 49,
   "metadata": {},
   "outputs": [
    {
     "name": "stdout",
     "output_type": "stream",
     "text": [
      "Accuracy of SVM = 96.67 percent\n"
     ]
    }
   ],
   "source": [
    "from sklearn import svm\n",
    "svm = svm.SVC(C=1, kernel='linear')\n",
    "svm.fit(X_train, y_train)\n",
    "svm_pred = svm.predict(X_test)\n",
    "print(\"Accuracy of SVM = %0.2f percent\" % (metrics.accuracy_score(y_test,svm_pred)*100))"
   ]
  },
  {
   "cell_type": "markdown",
   "metadata": {},
   "source": [
    "Decision Tree"
   ]
  },
  {
   "cell_type": "code",
   "execution_count": 50,
   "metadata": {},
   "outputs": [
    {
     "name": "stdout",
     "output_type": "stream",
     "text": [
      "Accuracy of Decision tree = 96.67 percent\n"
     ]
    }
   ],
   "source": [
    "from sklearn.tree import DecisionTreeClassifier\n",
    "decision_tree = DecisionTreeClassifier()\n",
    "decision_tree.fit(X_train, y_train)\n",
    "decision_tree_pred = decision_tree.predict(X_test)\n",
    "print(\"Accuracy of Decision tree = %0.2f percent\" % (metrics.accuracy_score(y_test,decision_tree_pred)*100))"
   ]
  },
  {
   "cell_type": "code",
   "execution_count": 51,
   "metadata": {},
   "outputs": [],
   "source": [
    "Y6 = df['friendship']"
   ]
  },
  {
   "cell_type": "code",
   "execution_count": 52,
   "metadata": {},
   "outputs": [],
   "source": [
    "from sklearn.model_selection import train_test_split\n",
    "from sklearn import metrics\n",
    "X_train, X_test, y_train, y_test = train_test_split(X, Y6, test_size=0.3, random_state=101) #แบ่งชุดข้อมูลเป็นแบบ train,test"
   ]
  },
  {
   "cell_type": "markdown",
   "metadata": {},
   "source": [
    "K-Nearest Neighbors"
   ]
  },
  {
   "cell_type": "code",
   "execution_count": 53,
   "metadata": {},
   "outputs": [
    {
     "name": "stdout",
     "output_type": "stream",
     "text": [
      "Accuracy of KNN = 93.33 percent\n"
     ]
    }
   ],
   "source": [
    "from sklearn.neighbors import KNeighborsClassifier\n",
    "classifier = KNeighborsClassifier()\n",
    "classifier.fit(X_train, y_train)\n",
    "classifier_pred = classifier.predict(X_test)\n",
    "print(\"Accuracy of KNN = %.2f percent\"% (metrics.accuracy_score(y_test,classifier_pred)*100))"
   ]
  },
  {
   "cell_type": "markdown",
   "metadata": {},
   "source": [
    "Naive Bayes"
   ]
  },
  {
   "cell_type": "code",
   "execution_count": 54,
   "metadata": {},
   "outputs": [
    {
     "name": "stdout",
     "output_type": "stream",
     "text": [
      "Accuracy of KNN = 86.67 percent\n"
     ]
    }
   ],
   "source": [
    "from sklearn.naive_bayes import BernoulliNB\n",
    "naive = BernoulliNB(alpha=0.2)\n",
    "naive.fit(X_train, y_train)\n",
    "naive_pred = naive.predict(X_test)\n",
    "print(\"Accuracy of KNN = %.2f percent\"% (metrics.accuracy_score(y_test,naive_pred)*100))"
   ]
  },
  {
   "cell_type": "markdown",
   "metadata": {},
   "source": [
    "SVM"
   ]
  },
  {
   "cell_type": "code",
   "execution_count": 55,
   "metadata": {},
   "outputs": [
    {
     "name": "stdout",
     "output_type": "stream",
     "text": [
      "Accuracy of SVM = 93.33 percent\n"
     ]
    }
   ],
   "source": [
    "from sklearn import svm\n",
    "svm = svm.SVC(C=1, kernel='linear')\n",
    "svm.fit(X_train, y_train)\n",
    "svm_pred = svm.predict(X_test)\n",
    "print(\"Accuracy of SVM = %0.2f percent\" % (metrics.accuracy_score(y_test,svm_pred)*100))"
   ]
  },
  {
   "cell_type": "markdown",
   "metadata": {},
   "source": [
    "Decision Tree"
   ]
  },
  {
   "cell_type": "code",
   "execution_count": 56,
   "metadata": {},
   "outputs": [
    {
     "name": "stdout",
     "output_type": "stream",
     "text": [
      "Accuracy of Decision tree = 90.00 percent\n"
     ]
    }
   ],
   "source": [
    "from sklearn.tree import DecisionTreeClassifier\n",
    "decision_tree = DecisionTreeClassifier()\n",
    "decision_tree.fit(X_train, y_train)\n",
    "decision_tree_pred = decision_tree.predict(X_test)\n",
    "print(\"Accuracy of Decision tree = %0.2f percent\" % (metrics.accuracy_score(y_test,decision_tree_pred)*100))"
   ]
  },
  {
   "cell_type": "code",
   "execution_count": 58,
   "metadata": {},
   "outputs": [],
   "source": [
    "Y7 = df['friends']"
   ]
  },
  {
   "cell_type": "code",
   "execution_count": 59,
   "metadata": {},
   "outputs": [],
   "source": [
    "from sklearn.model_selection import train_test_split\n",
    "from sklearn import metrics\n",
    "X_train, X_test, y_train, y_test = train_test_split(X, Y7, test_size=0.3, random_state=101) #แบ่งชุดข้อมูลเป็นแบบ train,test"
   ]
  },
  {
   "cell_type": "markdown",
   "metadata": {},
   "source": [
    "K-Nearest Neighbors"
   ]
  },
  {
   "cell_type": "code",
   "execution_count": 60,
   "metadata": {},
   "outputs": [
    {
     "name": "stdout",
     "output_type": "stream",
     "text": [
      "Accuracy of KNN = 96.67 percent\n"
     ]
    }
   ],
   "source": [
    "from sklearn.neighbors import KNeighborsClassifier\n",
    "classifier = KNeighborsClassifier()\n",
    "classifier.fit(X_train, y_train)\n",
    "classifier_pred = classifier.predict(X_test)\n",
    "print(\"Accuracy of KNN = %.2f percent\"% (metrics.accuracy_score(y_test,classifier_pred)*100))"
   ]
  },
  {
   "cell_type": "markdown",
   "metadata": {},
   "source": [
    "Naive Bayes"
   ]
  },
  {
   "cell_type": "code",
   "execution_count": 61,
   "metadata": {},
   "outputs": [
    {
     "name": "stdout",
     "output_type": "stream",
     "text": [
      "Accuracy of KNN = 93.33 percent\n"
     ]
    }
   ],
   "source": [
    "from sklearn.naive_bayes import BernoulliNB\n",
    "naive = BernoulliNB(alpha=0.2)\n",
    "naive.fit(X_train, y_train)\n",
    "naive_pred = naive.predict(X_test)\n",
    "print(\"Accuracy of KNN = %.2f percent\"% (metrics.accuracy_score(y_test,naive_pred)*100))"
   ]
  },
  {
   "cell_type": "markdown",
   "metadata": {},
   "source": [
    "SVM"
   ]
  },
  {
   "cell_type": "code",
   "execution_count": 62,
   "metadata": {},
   "outputs": [
    {
     "name": "stdout",
     "output_type": "stream",
     "text": [
      "Accuracy of SVM = 96.67 percent\n"
     ]
    }
   ],
   "source": [
    "from sklearn import svm\n",
    "svm = svm.SVC(C=1, kernel='linear')\n",
    "svm.fit(X_train, y_train)\n",
    "svm_pred = svm.predict(X_test)\n",
    "print(\"Accuracy of SVM = %0.2f percent\" % (metrics.accuracy_score(y_test,svm_pred)*100))"
   ]
  },
  {
   "cell_type": "markdown",
   "metadata": {},
   "source": [
    "Decision Tree"
   ]
  },
  {
   "cell_type": "code",
   "execution_count": 63,
   "metadata": {},
   "outputs": [
    {
     "name": "stdout",
     "output_type": "stream",
     "text": [
      "Accuracy of Decision tree = 80.00 percent\n"
     ]
    }
   ],
   "source": [
    "from sklearn.tree import DecisionTreeClassifier\n",
    "decision_tree = DecisionTreeClassifier()\n",
    "decision_tree.fit(X_train, y_train)\n",
    "decision_tree_pred = decision_tree.predict(X_test)\n",
    "print(\"Accuracy of Decision tree = %0.2f percent\" % (metrics.accuracy_score(y_test,decision_tree_pred)*100))"
   ]
  },
  {
   "cell_type": "code",
   "execution_count": 64,
   "metadata": {},
   "outputs": [],
   "source": [
    "Y8 = df['truth']"
   ]
  },
  {
   "cell_type": "code",
   "execution_count": 65,
   "metadata": {},
   "outputs": [],
   "source": [
    "from sklearn.model_selection import train_test_split\n",
    "from sklearn import metrics\n",
    "X_train, X_test, y_train, y_test = train_test_split(X, Y8, test_size=0.3, random_state=101) #แบ่งชุดข้อมูลเป็นแบบ train,test"
   ]
  },
  {
   "cell_type": "markdown",
   "metadata": {},
   "source": [
    "K-Nearest Neighbors"
   ]
  },
  {
   "cell_type": "code",
   "execution_count": 66,
   "metadata": {},
   "outputs": [
    {
     "name": "stdout",
     "output_type": "stream",
     "text": [
      "Accuracy of KNN = 96.67 percent\n"
     ]
    }
   ],
   "source": [
    "from sklearn.neighbors import KNeighborsClassifier\n",
    "classifier = KNeighborsClassifier()\n",
    "classifier.fit(X_train, y_train)\n",
    "classifier_pred = classifier.predict(X_test)\n",
    "print(\"Accuracy of KNN = %.2f percent\"% (metrics.accuracy_score(y_test,classifier_pred)*100))"
   ]
  },
  {
   "cell_type": "markdown",
   "metadata": {},
   "source": [
    "Naive Bayes"
   ]
  },
  {
   "cell_type": "code",
   "execution_count": 67,
   "metadata": {},
   "outputs": [
    {
     "name": "stdout",
     "output_type": "stream",
     "text": [
      "Accuracy of KNN = 96.67 percent\n"
     ]
    }
   ],
   "source": [
    "from sklearn.naive_bayes import BernoulliNB\n",
    "naive = BernoulliNB(alpha=0.2)\n",
    "naive.fit(X_train, y_train)\n",
    "naive_pred = naive.predict(X_test)\n",
    "print(\"Accuracy of KNN = %.2f percent\"% (metrics.accuracy_score(y_test,naive_pred)*100))"
   ]
  },
  {
   "cell_type": "markdown",
   "metadata": {},
   "source": [
    "SVM"
   ]
  },
  {
   "cell_type": "code",
   "execution_count": 68,
   "metadata": {},
   "outputs": [
    {
     "name": "stdout",
     "output_type": "stream",
     "text": [
      "Accuracy of SVM = 96.67 percent\n"
     ]
    }
   ],
   "source": [
    "from sklearn import svm\n",
    "svm = svm.SVC(C=1, kernel='linear')\n",
    "svm.fit(X_train, y_train)\n",
    "svm_pred = svm.predict(X_test)\n",
    "print(\"Accuracy of SVM = %0.2f percent\" % (metrics.accuracy_score(y_test,svm_pred)*100))"
   ]
  },
  {
   "cell_type": "markdown",
   "metadata": {},
   "source": [
    "Decision Tree"
   ]
  },
  {
   "cell_type": "code",
   "execution_count": 69,
   "metadata": {},
   "outputs": [
    {
     "name": "stdout",
     "output_type": "stream",
     "text": [
      "Accuracy of Decision tree = 96.67 percent\n"
     ]
    }
   ],
   "source": [
    "from sklearn.tree import DecisionTreeClassifier\n",
    "decision_tree = DecisionTreeClassifier()\n",
    "decision_tree.fit(X_train, y_train)\n",
    "decision_tree_pred = decision_tree.predict(X_test)\n",
    "print(\"Accuracy of Decision tree = %0.2f percent\" % (metrics.accuracy_score(y_test,decision_tree_pred)*100))"
   ]
  },
  {
   "cell_type": "code",
   "execution_count": 70,
   "metadata": {},
   "outputs": [],
   "source": [
    "Y9 = df['death']"
   ]
  },
  {
   "cell_type": "code",
   "execution_count": 71,
   "metadata": {},
   "outputs": [],
   "source": [
    "from sklearn.model_selection import train_test_split\n",
    "from sklearn import metrics\n",
    "X_train, X_test, y_train, y_test = train_test_split(X, Y9, test_size=0.3, random_state=101) #แบ่งชุดข้อมูลเป็นแบบ train,test"
   ]
  },
  {
   "cell_type": "markdown",
   "metadata": {},
   "source": [
    "K-Nearest Neighbors"
   ]
  },
  {
   "cell_type": "code",
   "execution_count": 72,
   "metadata": {},
   "outputs": [
    {
     "name": "stdout",
     "output_type": "stream",
     "text": [
      "Accuracy of KNN = 96.67 percent\n"
     ]
    }
   ],
   "source": [
    "from sklearn.neighbors import KNeighborsClassifier\n",
    "classifier = KNeighborsClassifier()\n",
    "classifier.fit(X_train, y_train)\n",
    "classifier_pred = classifier.predict(X_test)\n",
    "print(\"Accuracy of KNN = %.2f percent\"% (metrics.accuracy_score(y_test,classifier_pred)*100))"
   ]
  },
  {
   "cell_type": "markdown",
   "metadata": {},
   "source": [
    "Naive Bayes"
   ]
  },
  {
   "cell_type": "code",
   "execution_count": 73,
   "metadata": {},
   "outputs": [
    {
     "name": "stdout",
     "output_type": "stream",
     "text": [
      "Accuracy of KNN = 100.00 percent\n"
     ]
    }
   ],
   "source": [
    "from sklearn.naive_bayes import BernoulliNB\n",
    "naive = BernoulliNB(alpha=0.2)\n",
    "naive.fit(X_train, y_train)\n",
    "naive_pred = naive.predict(X_test)\n",
    "print(\"Accuracy of KNN = %.2f percent\"% (metrics.accuracy_score(y_test,naive_pred)*100))"
   ]
  },
  {
   "cell_type": "markdown",
   "metadata": {},
   "source": [
    "SVM"
   ]
  },
  {
   "cell_type": "code",
   "execution_count": 74,
   "metadata": {},
   "outputs": [
    {
     "name": "stdout",
     "output_type": "stream",
     "text": [
      "Accuracy of SVM = 96.67 percent\n"
     ]
    }
   ],
   "source": [
    "from sklearn import svm\n",
    "svm = svm.SVC(C=1, kernel='linear')\n",
    "svm.fit(X_train, y_train)\n",
    "svm_pred = svm.predict(X_test)\n",
    "print(\"Accuracy of SVM = %0.2f percent\" % (metrics.accuracy_score(y_test,svm_pred)*100))"
   ]
  },
  {
   "cell_type": "markdown",
   "metadata": {},
   "source": [
    "Decision Tree"
   ]
  },
  {
   "cell_type": "code",
   "execution_count": 75,
   "metadata": {},
   "outputs": [
    {
     "name": "stdout",
     "output_type": "stream",
     "text": [
      "Accuracy of Decision tree = 96.67 percent\n"
     ]
    }
   ],
   "source": [
    "from sklearn.tree import DecisionTreeClassifier\n",
    "decision_tree = DecisionTreeClassifier()\n",
    "decision_tree.fit(X_train, y_train)\n",
    "decision_tree_pred = decision_tree.predict(X_test)\n",
    "print(\"Accuracy of Decision tree = %0.2f percent\" % (metrics.accuracy_score(y_test,decision_tree_pred)*100))"
   ]
  },
  {
   "cell_type": "code",
   "execution_count": 76,
   "metadata": {},
   "outputs": [],
   "source": [
    "Y10 = df['simile']"
   ]
  },
  {
   "cell_type": "code",
   "execution_count": 77,
   "metadata": {},
   "outputs": [],
   "source": [
    "from sklearn.model_selection import train_test_split\n",
    "from sklearn import metrics\n",
    "X_train, X_test, y_train, y_test = train_test_split(X, Y10, test_size=0.3, random_state=101) #แบ่งชุดข้อมูลเป็นแบบ train,test"
   ]
  },
  {
   "cell_type": "markdown",
   "metadata": {},
   "source": [
    "K-Nearest Neighbors"
   ]
  },
  {
   "cell_type": "code",
   "execution_count": 78,
   "metadata": {},
   "outputs": [
    {
     "name": "stdout",
     "output_type": "stream",
     "text": [
      "Accuracy of KNN = 100.00 percent\n"
     ]
    }
   ],
   "source": [
    "from sklearn.neighbors import KNeighborsClassifier\n",
    "classifier = KNeighborsClassifier()\n",
    "classifier.fit(X_train, y_train)\n",
    "classifier_pred = classifier.predict(X_test)\n",
    "print(\"Accuracy of KNN = %.2f percent\"% (metrics.accuracy_score(y_test,classifier_pred)*100))"
   ]
  },
  {
   "cell_type": "markdown",
   "metadata": {},
   "source": [
    "Naive Bayes"
   ]
  },
  {
   "cell_type": "code",
   "execution_count": 79,
   "metadata": {},
   "outputs": [
    {
     "name": "stdout",
     "output_type": "stream",
     "text": [
      "Accuracy of KNN = 100.00 percent\n"
     ]
    }
   ],
   "source": [
    "from sklearn.naive_bayes import BernoulliNB\n",
    "naive = BernoulliNB(alpha=0.2)\n",
    "naive.fit(X_train, y_train)\n",
    "naive_pred = naive.predict(X_test)\n",
    "print(\"Accuracy of KNN = %.2f percent\"% (metrics.accuracy_score(y_test,naive_pred)*100))"
   ]
  },
  {
   "cell_type": "markdown",
   "metadata": {},
   "source": [
    "SVM"
   ]
  },
  {
   "cell_type": "code",
   "execution_count": 80,
   "metadata": {},
   "outputs": [
    {
     "name": "stdout",
     "output_type": "stream",
     "text": [
      "Accuracy of SVM = 100.00 percent\n"
     ]
    }
   ],
   "source": [
    "from sklearn import svm\n",
    "svm = svm.SVC(C=1, kernel='linear')\n",
    "svm.fit(X_train, y_train)\n",
    "svm_pred = svm.predict(X_test)\n",
    "print(\"Accuracy of SVM = %0.2f percent\" % (metrics.accuracy_score(y_test,svm_pred)*100))"
   ]
  },
  {
   "cell_type": "markdown",
   "metadata": {},
   "source": [
    "Decision Tree"
   ]
  },
  {
   "cell_type": "code",
   "execution_count": 81,
   "metadata": {},
   "outputs": [
    {
     "name": "stdout",
     "output_type": "stream",
     "text": [
      "Accuracy of Decision tree = 100.00 percent\n"
     ]
    }
   ],
   "source": [
    "from sklearn.tree import DecisionTreeClassifier\n",
    "decision_tree = DecisionTreeClassifier()\n",
    "decision_tree.fit(X_train, y_train)\n",
    "decision_tree_pred = decision_tree.predict(X_test)\n",
    "print(\"Accuracy of Decision tree = %0.2f percent\" % (metrics.accuracy_score(y_test,decision_tree_pred)*100))"
   ]
  },
  {
   "cell_type": "code",
   "execution_count": 82,
   "metadata": {},
   "outputs": [],
   "source": [
    "Y11 = df['writing']"
   ]
  },
  {
   "cell_type": "code",
   "execution_count": 83,
   "metadata": {},
   "outputs": [],
   "source": [
    "from sklearn.model_selection import train_test_split\n",
    "from sklearn import metrics\n",
    "X_train, X_test, y_train, y_test = train_test_split(X, Y11, test_size=0.3, random_state=101) #แบ่งชุดข้อมูลเป็นแบบ train,test"
   ]
  },
  {
   "cell_type": "markdown",
   "metadata": {},
   "source": [
    "K-Nearest Neighbors"
   ]
  },
  {
   "cell_type": "code",
   "execution_count": 84,
   "metadata": {},
   "outputs": [
    {
     "name": "stdout",
     "output_type": "stream",
     "text": [
      "Accuracy of KNN = 93.33 percent\n"
     ]
    }
   ],
   "source": [
    "from sklearn.neighbors import KNeighborsClassifier\n",
    "classifier = KNeighborsClassifier()\n",
    "classifier.fit(X_train, y_train)\n",
    "classifier_pred = classifier.predict(X_test)\n",
    "print(\"Accuracy of KNN = %.2f percent\"% (metrics.accuracy_score(y_test,classifier_pred)*100))"
   ]
  },
  {
   "cell_type": "markdown",
   "metadata": {},
   "source": [
    "Naive Bayes"
   ]
  },
  {
   "cell_type": "code",
   "execution_count": 85,
   "metadata": {},
   "outputs": [
    {
     "name": "stdout",
     "output_type": "stream",
     "text": [
      "Accuracy of KNN = 100.00 percent\n"
     ]
    }
   ],
   "source": [
    "from sklearn.naive_bayes import BernoulliNB\n",
    "naive = BernoulliNB(alpha=0.2)\n",
    "naive.fit(X_train, y_train)\n",
    "naive_pred = naive.predict(X_test)\n",
    "print(\"Accuracy of KNN = %.2f percent\"% (metrics.accuracy_score(y_test,naive_pred)*100))"
   ]
  },
  {
   "cell_type": "markdown",
   "metadata": {},
   "source": [
    "SVM"
   ]
  },
  {
   "cell_type": "code",
   "execution_count": 86,
   "metadata": {},
   "outputs": [
    {
     "name": "stdout",
     "output_type": "stream",
     "text": [
      "Accuracy of SVM = 100.00 percent\n"
     ]
    }
   ],
   "source": [
    "from sklearn import svm\n",
    "svm = svm.SVC(C=1, kernel='linear')\n",
    "svm.fit(X_train, y_train)\n",
    "svm_pred = svm.predict(X_test)\n",
    "print(\"Accuracy of SVM = %0.2f percent\" % (metrics.accuracy_score(y_test,svm_pred)*100))"
   ]
  },
  {
   "cell_type": "markdown",
   "metadata": {},
   "source": [
    "Decision Tree"
   ]
  },
  {
   "cell_type": "code",
   "execution_count": 87,
   "metadata": {},
   "outputs": [
    {
     "name": "stdout",
     "output_type": "stream",
     "text": [
      "Accuracy of Decision tree = 93.33 percent\n"
     ]
    }
   ],
   "source": [
    "from sklearn.tree import DecisionTreeClassifier\n",
    "decision_tree = DecisionTreeClassifier()\n",
    "decision_tree.fit(X_train, y_train)\n",
    "decision_tree_pred = decision_tree.predict(X_test)\n",
    "print(\"Accuracy of Decision tree = %0.2f percent\" % (metrics.accuracy_score(y_test,decision_tree_pred)*100))"
   ]
  },
  {
   "cell_type": "code",
   "execution_count": 88,
   "metadata": {
    "scrolled": true
   },
   "outputs": [],
   "source": [
    "Y12 = df['children']"
   ]
  },
  {
   "cell_type": "code",
   "execution_count": 89,
   "metadata": {},
   "outputs": [],
   "source": [
    "from sklearn.model_selection import train_test_split\n",
    "from sklearn import metrics\n",
    "X_train, X_test, y_train, y_test = train_test_split(X, Y12, test_size=0.3, random_state=101) #แบ่งชุดข้อมูลเป็นแบบ train,test"
   ]
  },
  {
   "cell_type": "markdown",
   "metadata": {},
   "source": [
    "K-Nearest Neighbors"
   ]
  },
  {
   "cell_type": "code",
   "execution_count": 90,
   "metadata": {},
   "outputs": [
    {
     "name": "stdout",
     "output_type": "stream",
     "text": [
      "Accuracy of KNN = 100.00 percent\n"
     ]
    }
   ],
   "source": [
    "from sklearn.neighbors import KNeighborsClassifier\n",
    "classifier = KNeighborsClassifier()\n",
    "classifier.fit(X_train, y_train)\n",
    "classifier_pred = classifier.predict(X_test)\n",
    "print(\"Accuracy of KNN = %.2f percent\"% (metrics.accuracy_score(y_test,classifier_pred)*100))"
   ]
  },
  {
   "cell_type": "markdown",
   "metadata": {},
   "source": [
    "Naive Bayes"
   ]
  },
  {
   "cell_type": "code",
   "execution_count": 91,
   "metadata": {},
   "outputs": [
    {
     "name": "stdout",
     "output_type": "stream",
     "text": [
      "Accuracy of KNN = 100.00 percent\n"
     ]
    }
   ],
   "source": [
    "from sklearn.naive_bayes import BernoulliNB\n",
    "naive = BernoulliNB(alpha=0.2)\n",
    "naive.fit(X_train, y_train)\n",
    "naive_pred = naive.predict(X_test)\n",
    "print(\"Accuracy of KNN = %.2f percent\"% (metrics.accuracy_score(y_test,naive_pred)*100))"
   ]
  },
  {
   "cell_type": "markdown",
   "metadata": {},
   "source": [
    "SVM"
   ]
  },
  {
   "cell_type": "code",
   "execution_count": 92,
   "metadata": {},
   "outputs": [
    {
     "name": "stdout",
     "output_type": "stream",
     "text": [
      "Accuracy of SVM = 100.00 percent\n"
     ]
    }
   ],
   "source": [
    "from sklearn import svm\n",
    "svm = svm.SVC(C=1, kernel='linear')\n",
    "svm.fit(X_train, y_train)\n",
    "svm_pred = svm.predict(X_test)\n",
    "print(\"Accuracy of SVM = %0.2f percent\" % (metrics.accuracy_score(y_test,svm_pred)*100))"
   ]
  },
  {
   "cell_type": "markdown",
   "metadata": {},
   "source": [
    "Decision Tree"
   ]
  },
  {
   "cell_type": "code",
   "execution_count": 93,
   "metadata": {},
   "outputs": [
    {
     "name": "stdout",
     "output_type": "stream",
     "text": [
      "Accuracy of Decision tree = 93.33 percent\n"
     ]
    }
   ],
   "source": [
    "from sklearn.tree import DecisionTreeClassifier\n",
    "decision_tree = DecisionTreeClassifier()\n",
    "decision_tree.fit(X_train, y_train)\n",
    "decision_tree_pred = decision_tree.predict(X_test)\n",
    "print(\"Accuracy of Decision tree = %0.2f percent\" % (metrics.accuracy_score(y_test,decision_tree_pred)*100))"
   ]
  },
  {
   "cell_type": "code",
   "execution_count": 94,
   "metadata": {},
   "outputs": [],
   "source": [
    "Y13 = df['classic']"
   ]
  },
  {
   "cell_type": "code",
   "execution_count": 95,
   "metadata": {},
   "outputs": [],
   "source": [
    "from sklearn.model_selection import train_test_split\n",
    "from sklearn import metrics\n",
    "X_train, X_test, y_train, y_test = train_test_split(X, Y13, test_size=0.3, random_state=101) #แบ่งชุดข้อมูลเป็นแบบ train,test"
   ]
  },
  {
   "cell_type": "markdown",
   "metadata": {},
   "source": [
    "K-Nearest Neighbors"
   ]
  },
  {
   "cell_type": "code",
   "execution_count": 96,
   "metadata": {},
   "outputs": [
    {
     "name": "stdout",
     "output_type": "stream",
     "text": [
      "Accuracy of KNN = 96.67 percent\n"
     ]
    }
   ],
   "source": [
    "from sklearn.neighbors import KNeighborsClassifier\n",
    "classifier = KNeighborsClassifier()\n",
    "classifier.fit(X_train, y_train)\n",
    "classifier_pred = classifier.predict(X_test)\n",
    "print(\"Accuracy of KNN = %.2f percent\"% (metrics.accuracy_score(y_test,classifier_pred)*100))"
   ]
  },
  {
   "cell_type": "markdown",
   "metadata": {},
   "source": [
    "Naive Bayes"
   ]
  },
  {
   "cell_type": "code",
   "execution_count": 97,
   "metadata": {},
   "outputs": [
    {
     "name": "stdout",
     "output_type": "stream",
     "text": [
      "Accuracy of KNN = 96.67 percent\n"
     ]
    }
   ],
   "source": [
    "from sklearn.naive_bayes import BernoulliNB\n",
    "naive = BernoulliNB(alpha=0.2)\n",
    "naive.fit(X_train, y_train)\n",
    "naive_pred = naive.predict(X_test)\n",
    "print(\"Accuracy of KNN = %.2f percent\"% (metrics.accuracy_score(y_test,naive_pred)*100))"
   ]
  },
  {
   "cell_type": "markdown",
   "metadata": {},
   "source": [
    "SVM"
   ]
  },
  {
   "cell_type": "code",
   "execution_count": 98,
   "metadata": {},
   "outputs": [
    {
     "name": "stdout",
     "output_type": "stream",
     "text": [
      "Accuracy of SVM = 96.67 percent\n"
     ]
    }
   ],
   "source": [
    "from sklearn import svm\n",
    "svm = svm.SVC(C=1, kernel='linear')\n",
    "svm.fit(X_train, y_train)\n",
    "svm_pred = svm.predict(X_test)\n",
    "print(\"Accuracy of SVM = %0.2f percent\" % (metrics.accuracy_score(y_test,svm_pred)*100))"
   ]
  },
  {
   "cell_type": "markdown",
   "metadata": {},
   "source": [
    "Decision Tree"
   ]
  },
  {
   "cell_type": "code",
   "execution_count": 99,
   "metadata": {},
   "outputs": [
    {
     "name": "stdout",
     "output_type": "stream",
     "text": [
      "Accuracy of Decision tree = 96.67 percent\n"
     ]
    }
   ],
   "source": [
    "from sklearn.tree import DecisionTreeClassifier\n",
    "decision_tree = DecisionTreeClassifier()\n",
    "decision_tree.fit(X_train, y_train)\n",
    "decision_tree_pred = decision_tree.predict(X_test)\n",
    "print(\"Accuracy of Decision tree = %0.2f percent\" % (metrics.accuracy_score(y_test,decision_tree_pred)*100))"
   ]
  },
  {
   "cell_type": "code",
   "execution_count": 100,
   "metadata": {},
   "outputs": [],
   "source": [
    "Y14 = df['courage']"
   ]
  },
  {
   "cell_type": "code",
   "execution_count": 101,
   "metadata": {},
   "outputs": [],
   "source": [
    "from sklearn.model_selection import train_test_split\n",
    "from sklearn import metrics\n",
    "X_train, X_test, y_train, y_test = train_test_split(X, Y14, test_size=0.3, random_state=101) #แบ่งชุดข้อมูลเป็นแบบ train,test"
   ]
  },
  {
   "cell_type": "markdown",
   "metadata": {},
   "source": [
    "K-Nearest Neighbors"
   ]
  },
  {
   "cell_type": "code",
   "execution_count": 102,
   "metadata": {},
   "outputs": [
    {
     "name": "stdout",
     "output_type": "stream",
     "text": [
      "Accuracy of KNN = 100.00 percent\n"
     ]
    }
   ],
   "source": [
    "from sklearn.neighbors import KNeighborsClassifier\n",
    "classifier = KNeighborsClassifier()\n",
    "classifier.fit(X_train, y_train)\n",
    "classifier_pred = classifier.predict(X_test)\n",
    "print(\"Accuracy of KNN = %.2f percent\"% (metrics.accuracy_score(y_test,classifier_pred)*100))"
   ]
  },
  {
   "cell_type": "markdown",
   "metadata": {},
   "source": [
    "Naive Bayes"
   ]
  },
  {
   "cell_type": "code",
   "execution_count": 103,
   "metadata": {},
   "outputs": [
    {
     "name": "stdout",
     "output_type": "stream",
     "text": [
      "Accuracy of KNN = 100.00 percent\n"
     ]
    }
   ],
   "source": [
    "from sklearn.naive_bayes import BernoulliNB\n",
    "naive = BernoulliNB(alpha=0.2)\n",
    "naive.fit(X_train, y_train)\n",
    "naive_pred = naive.predict(X_test)\n",
    "print(\"Accuracy of KNN = %.2f percent\"% (metrics.accuracy_score(y_test,naive_pred)*100))"
   ]
  },
  {
   "cell_type": "markdown",
   "metadata": {},
   "source": [
    "SVM"
   ]
  },
  {
   "cell_type": "code",
   "execution_count": 104,
   "metadata": {},
   "outputs": [
    {
     "name": "stdout",
     "output_type": "stream",
     "text": [
      "Accuracy of SVM = 100.00 percent\n"
     ]
    }
   ],
   "source": [
    "from sklearn import svm\n",
    "svm = svm.SVC(C=1, kernel='linear')\n",
    "svm.fit(X_train, y_train)\n",
    "svm_pred = svm.predict(X_test)\n",
    "print(\"Accuracy of SVM = %0.2f percent\" % (metrics.accuracy_score(y_test,svm_pred)*100))"
   ]
  },
  {
   "cell_type": "markdown",
   "metadata": {},
   "source": [
    "Decision Tree"
   ]
  },
  {
   "cell_type": "code",
   "execution_count": 105,
   "metadata": {},
   "outputs": [
    {
     "name": "stdout",
     "output_type": "stream",
     "text": [
      "Accuracy of Decision tree = 100.00 percent\n"
     ]
    }
   ],
   "source": [
    "from sklearn.tree import DecisionTreeClassifier\n",
    "decision_tree = DecisionTreeClassifier()\n",
    "decision_tree.fit(X_train, y_train)\n",
    "decision_tree_pred = decision_tree.predict(X_test)\n",
    "print(\"Accuracy of Decision tree = %0.2f percent\" % (metrics.accuracy_score(y_test,decision_tree_pred)*100))"
   ]
  },
  {
   "cell_type": "markdown",
   "metadata": {},
   "source": [
    "# สรุปผล"
   ]
  },
  {
   "cell_type": "markdown",
   "metadata": {},
   "source": [
    "| Target | K-Nearest-Neighbors | Naive Bayes | SVM | Decision Tree | \n",
    "| :- | -: | :-: | :- | -: |\n",
    "| love | 76.67 % | 73.33 % | 80.00 % | 83.33 % |\n",
    "| inspirational | 83.33 % | 70.00 % | 83.33 % | 70.00 % |\n",
    "| life | 83.33 % | 86.67 % | 80.00 % | 86.67 % |\n",
    "| humor | 96.67 % | 90.00 % |96.67 % | 83.33 % |\n",
    "| books | 93.33 % | 93.33 % | 93.33 % | 96.67 % | \n",
    "| reading | 96.67 % | 96.67 % | 96.67 % | 96.67 % |\n",
    "| friendship | 93.33 % | 86.67 % | 93.33 % | 90.00 % |\n",
    "| friends | 96.67 % | 93.33 % | 96.67 % | 80.00 % | \n",
    "| truth | 96.67 % | 96.67 % | 96.67 % | 96.67 % |\n",
    "| death | 96.67 % | 100.00 % | 96.67 % | 96.67 % |\n",
    "| simile | 100.00 % | 100.00 % | 100.00 % | 100.00 % |\n",
    "| writing| 93.33 % | 100.00 % | 93.33 % | 93.33 % |\n",
    "| children | 100.00 % | 100.00 % | 100.00 % | 93.33 % |\n",
    "| classic | 96.67 % | 96.67 % | 96.67 % | 96.67 % |\n",
    "| courage | 100.00 % | 100.00 % | 100.00 % | 100.00 % |\n",
    "| Total | 93.56 % | 92.22 % | 93.56 % | 90.89 % |"
   ]
  },
  {
   "cell_type": "markdown",
   "metadata": {},
   "source": [
    "    จากผลการทดลอง model ได้นำ model ว่าวัดประสิทธิภาพด้วยค่า accuracy หรือเปอร์เซนต์ความถูกต้อง จะเห็นได้ว่า K-Nearest-Neighbors และ SVM \n",
    "    มีค่า accuracy อยู่ที่ 93.56% ซึ่งมากกว่า Naive Bayes และ Decision Tree"
   ]
  },
  {
   "cell_type": "code",
   "execution_count": null,
   "metadata": {},
   "outputs": [],
   "source": []
  }
 ],
 "metadata": {
  "kernelspec": {
   "display_name": "Python 3",
   "language": "python",
   "name": "python3"
  },
  "language_info": {
   "codemirror_mode": {
    "name": "ipython",
    "version": 3
   },
   "file_extension": ".py",
   "mimetype": "text/x-python",
   "name": "python",
   "nbconvert_exporter": "python",
   "pygments_lexer": "ipython3",
   "version": "3.8.3"
  }
 },
 "nbformat": 4,
 "nbformat_minor": 4
}
